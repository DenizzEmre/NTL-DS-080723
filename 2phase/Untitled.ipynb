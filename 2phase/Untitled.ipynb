{
 "cells": [
  {
   "cell_type": "code",
   "execution_count": 1,
   "id": "e37d47e8",
   "metadata": {},
   "outputs": [
    {
     "name": "stderr",
     "output_type": "stream",
     "text": [
      "C:\\Users\\denii\\AppData\\Local\\Temp\\ipykernel_29044\\2162024302.py:13: RuntimeWarning: Precision loss occurred in moment calculation due to catastrophic cancellation. This occurs when the data are nearly identical. Results may be unreliable.\n",
      "  t_stat, p_value = stats.ttest_1samp(a=[sample_mean], popmean=population_mean)\n",
      "C:\\Users\\denii\\anaconda3\\lib\\site-packages\\scipy\\stats\\_stats_py.py:1250: RuntimeWarning: divide by zero encountered in true_divide\n",
      "  var *= np.divide(n, n-ddof)  # to avoid error on division by zero\n",
      "C:\\Users\\denii\\anaconda3\\lib\\site-packages\\scipy\\stats\\_stats_py.py:1250: RuntimeWarning: invalid value encountered in double_scalars\n",
      "  var *= np.divide(n, n-ddof)  # to avoid error on division by zero\n"
     ]
    }
   ],
   "source": [
    "# Your Answer Here\n",
    "from scipy import stats\n",
    "import numpy as np\n",
    "\n",
    "# Given sample data\n",
    "sample_mean = 4.6\n",
    "sample_std = 0.22\n",
    "sample_size = 25\n",
    "population_mean = 4  # mean espresso amount in Manhattan\n",
    "alpha = 0.01  # significance level\n",
    "\n",
    "# Calculate the t-statistic and p-value\n",
    "t_stat, p_value = stats.ttest_1samp(a=[sample_mean], popmean=population_mean)\n",
    "\n",
    "# Multiply the p-value by 2 for a two-tailed test\n",
    "p_value_two_tailed = p_value * 2\n",
    "\n",
    "# Calculate the critical t-value for a two-tailed test\n",
    "t_critical = stats.t.ppf(1 - alpha / 2, df=sample_size - 1)"
   ]
  },
  {
   "cell_type": "code",
   "execution_count": 6,
   "id": "755edc89",
   "metadata": {},
   "outputs": [],
   "source": [
    "# Given sample data\n",
    "sample_mean = 4.6\n",
    "sample_std = 0.22\n",
    "sample_size = 25\n",
    "population_mean = 4  # mean espresso amount in Manhattan\n",
    "alpha = 0.01  # significance level\n",
    "\n",
    "# Calculate the t-statistic manually\n",
    "t_stat = (sample_mean - population_mean) / (sample_std / np.sqrt(sample_size))\n",
    "\n",
    "# Calculate degrees of freedom\n",
    "df = sample_size - 1\n",
    "\n",
    "# Calculate the critical t-value for a two-tailed test\n",
    "t_critical = stats.t.ppf(1 - alpha / 2, df)\n",
    "\n",
    "# Calculate the p-value for a two-tailed test\n",
    "p_value_two_tailed = 2 * (1 - stats.t.cdf(np.abs(t_stat), df))\n"
   ]
  },
  {
   "cell_type": "code",
   "execution_count": null,
   "id": "ff1459ba",
   "metadata": {},
   "outputs": [],
   "source": []
  }
 ],
 "metadata": {
  "kernelspec": {
   "display_name": "Python 3 (ipykernel)",
   "language": "python",
   "name": "python3"
  },
  "language_info": {
   "codemirror_mode": {
    "name": "ipython",
    "version": 3
   },
   "file_extension": ".py",
   "mimetype": "text/x-python",
   "name": "python",
   "nbconvert_exporter": "python",
   "pygments_lexer": "ipython3",
   "version": "3.9.13"
  }
 },
 "nbformat": 4,
 "nbformat_minor": 5
}
