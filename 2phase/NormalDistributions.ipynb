{
 "cells": [
  {
   "cell_type": "markdown",
   "metadata": {
    "heading_collapsed": true
   },
   "source": [
    "# Objectives"
   ]
  },
  {
   "cell_type": "markdown",
   "metadata": {
    "hidden": true
   },
   "source": [
    "* Describe the normal distribution's Empirical Rule\n",
    "* Calculate $z$-scores from a normal distribution through standardization\n",
    "* Define the Central Limit Theorem\n"
   ]
  },
  {
   "cell_type": "code",
<<<<<<< HEAD
   "execution_count": 3,
=======
   "execution_count": null,
>>>>>>> 57c5de4f73ce52d1d69ba40e38567bef5c1befd1
   "metadata": {
    "hidden": true
   },
   "outputs": [],
   "source": [
    "# Imports!\n",
    "from scipy import stats\n",
    "\n",
    "import matplotlib.pyplot as plt\n",
    "%matplotlib inline\n",
    "import seaborn as sns\n",
    "\n",
    "import pandas as pd\n",
    "import numpy as np"
   ]
  },
  {
   "cell_type": "markdown",
   "metadata": {
    "heading_collapsed": true
   },
   "source": [
    "# Normal Distribution"
   ]
  },
  {
   "cell_type": "markdown",
   "metadata": {
    "hidden": true
   },
   "source": [
    "We'll find that the **normal distribution** or **normal curve** or **bell curve** (it has many names) is a very common distribution and it's very useful to us in statistics."
   ]
  },
  {
   "cell_type": "markdown",
   "metadata": {
    "hidden": true
   },
   "source": [
    "![](images/normal_curve_animation.gif)"
   ]
  },
  {
   "cell_type": "markdown",
   "metadata": {
    "heading_collapsed": true,
    "hidden": true
   },
   "source": [
    "## Why a Normal Distribution?"
   ]
  },
  {
   "cell_type": "markdown",
   "metadata": {
    "hidden": true
   },
   "source": [
    "Turns out the normal distribution describes many phenomena. Think of anything that has a typical range:\n",
    "\n",
    "- human body temperatures\n",
    "- sizes of elephants\n",
    "- sizes of stars\n",
    "- populations of cities\n",
    "- IQ\n",
    "- heart rate"
   ]
  },
  {
   "cell_type": "markdown",
   "metadata": {
    "hidden": true
   },
   "source": [
    "Among human beings, 98.6 degrees Fahrenheit is an _average_ body temperature. Many folks' temperatures won't measure _exactly_ 98.6 degrees, but most measurements will be _close_. It is much more common to have a body temperature close to 98.6 (whether slightly more or slightly less) than it is to have a body temperature far from 98.6 (whether significantly more or significantly less). This is a hallmark of a normally distributed variable."
   ]
  },
  {
   "cell_type": "code",
<<<<<<< HEAD
   "execution_count": 4,
   "metadata": {
    "hidden": true
   },
   "outputs": [
    {
     "data": {
      "image/png": "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\n",
      "text/plain": [
       "<Figure size 640x480 with 1 Axes>"
      ]
     },
     "metadata": {},
     "output_type": "display_data"
    }
   ],
=======
   "execution_count": null,
   "metadata": {
    "hidden": true
   },
   "outputs": [],
>>>>>>> 57c5de4f73ce52d1d69ba40e38567bef5c1befd1
   "source": [
    "# Visualize it\n",
    "fig, ax = plt.subplots()\n",
    "\n",
    "mu = 0\n",
    "sigma = 1\n",
    "# This defines the points along the x-axis\n",
    "x = np.linspace(\n",
    "        stats.norm(mu,sigma).ppf(0.01), # Start plotting here\n",
    "        stats.norm(mu,sigma).ppf(0.99), # End plotting here\n",
    "        100                             # Number of points\n",
    ")\n",
    "# The values as at x given by the normal curve (with mu & sigma)\n",
    "y = stats.norm(mu,sigma).pdf(x)\n",
    "ax.plot(x, y,'r-');"
   ]
  },
  {
   "cell_type": "markdown",
   "metadata": {},
   "source": [
    "The Standard Normal Distribution, also known as a Gaussian distribution, is special not only because it shows up EVERYWHERE but also because it's symmetric (mean == median == mode)"
   ]
  },
  {
   "cell_type": "markdown",
   "metadata": {
    "hidden": true
   },
   "source": [
    "### Normal Curve\n",
    "\n",
    "If you're curious about how we can mathematically define a normal curve, we give this below. (Don't worry, you don't need to recall the mathematical definition).\n",
    "\n",
    "<details>\n",
    "\n",
    "$\\Large f(x) = \\frac{1}{\\sqrt{2\\pi\\sigma^2}}e^{\\frac{-(x - \\mu)^2}{2\\sigma^2}}$\n",
    "    \n",
    "This might look complicated at first, but it means that the we describe a normal curve with just **two parameters**: $\\sigma^2$ (the variance) & $\\mu$ (the mean). You may see the notation $N(\\mu, \\sigma^2)$ which emphasizes there are only two parameters to describe the distribution.\n",
    "</details>"
   ]
  },
  {
   "cell_type": "markdown",
   "metadata": {
    "hidden": true
   },
   "source": [
    "\n"
   ]
  },
  {
   "cell_type": "markdown",
   "metadata": {
    "heading_collapsed": true,
    "hidden": true
   },
   "source": [
    "## *Standard* Normal Distribution"
   ]
  },
  {
   "cell_type": "markdown",
   "metadata": {
    "hidden": true
   },
   "source": [
    "A special normal distribution called the **standard normal distribution** has a mean of 0 and variance of 1. This is also known as a **z distribution**."
   ]
  },
  {
   "cell_type": "markdown",
   "metadata": {
    "hidden": true
   },
   "source": [
    "Since we know that the shape of a normal distribution changes based on its mean and variance, we'll typically convert or **standardize** our normal distribution to the standard normal distribution."
   ]
  },
  {
   "cell_type": "markdown",
   "metadata": {
    "hidden": true
   },
   "source": [
    "We simply subtract the mean $\\mu$ from each value and then divide by the standard deviation $\\sigma$:\n",
    "\n",
    "$$\\frac{x - \\mu}{\\sigma}$$\n",
    "\n",
    "We call this process **standardization**."
   ]
  },
  {
   "cell_type": "markdown",
   "metadata": {
    "hidden": true
   },
   "source": [
    "![norm_to_z](images/norm_to_z.png)"
   ]
  },
  {
   "cell_type": "code",
<<<<<<< HEAD
   "execution_count": 8,
=======
   "execution_count": null,
>>>>>>> 57c5de4f73ce52d1d69ba40e38567bef5c1befd1
   "metadata": {
    "hidden": true,
    "scrolled": false
   },
<<<<<<< HEAD
   "outputs": [
    {
     "data": {
      "text/plain": [
       "4.9201930138407155"
      ]
     },
     "execution_count": 8,
     "metadata": {},
     "output_type": "execute_result"
    }
   ],
=======
   "outputs": [],
>>>>>>> 57c5de4f73ce52d1d69ba40e38567bef5c1befd1
   "source": [
    "# Let's transform the normal distribution centered on 5\n",
    "# with a standard deviation of 2 into a standard normal\n",
    "\n",
    "# Generating our data\n",
    "normal_dist = np.random.normal(loc=5, scale=2, size=1000)\n",
    "\n",
    "np.mean(normal_dist) #sanity check"
   ]
  },
  {
   "cell_type": "code",
<<<<<<< HEAD
   "execution_count": 10,
   "metadata": {},
   "outputs": [
    {
     "data": {
      "text/plain": [
       "array([ 0.8094706 ,  4.62968194,  6.64314522,  7.17154176,  2.03689288,\n",
       "        1.4835876 ,  8.07406699,  5.40396078,  6.35121349,  4.02403378,\n",
       "        3.10566366,  4.80512322,  1.70057562,  6.47888129,  5.10887092,\n",
       "        4.39089693,  3.34523059,  2.20347705,  3.39578758,  5.25867798,\n",
       "        6.21273613,  5.26789381,  1.82143413,  2.40468396,  7.354968  ,\n",
       "        7.23041808,  3.37651257,  3.71014448,  6.9309236 ,  1.72227604,\n",
       "        5.09400829,  2.64536055,  4.65416542,  6.06001691,  3.37124082,\n",
       "        6.15921602,  3.53920519,  4.62390936,  6.43297972,  3.84689933,\n",
       "        1.39109557,  7.35923121,  4.2356504 ,  4.08490903,  6.43701256,\n",
       "        3.20578386,  3.49993082,  4.91732642,  2.98115016,  3.98055133,\n",
       "        3.39471025,  4.6455914 ,  2.17892457,  2.97656268,  5.68904539,\n",
       "        3.63909531,  2.72571139,  2.92610808,  6.31442493,  9.95665366,\n",
       "        6.18283595,  4.71309722,  2.55957046,  2.40795834,  6.27179803,\n",
       "        9.6639351 ,  4.61927829,  3.584699  ,  8.49084664,  3.8017386 ,\n",
       "        5.69215257,  0.92967906,  5.63693988,  5.6944852 ,  4.42712318,\n",
       "        3.5980358 ,  2.07975995,  4.27625064,  2.86277471,  5.6256198 ,\n",
       "        3.05714385,  5.04309644,  6.04219504,  9.83860049,  5.5549155 ,\n",
       "        5.99864227,  4.6626313 ,  7.65873136,  3.64078576,  7.69298632,\n",
       "        5.48012767,  6.03539358,  6.48149146,  5.35113738,  6.48692663,\n",
       "        5.06136194,  4.18096035,  3.60312794,  5.05747195,  3.4240481 ,\n",
       "        3.67970145,  6.19675144,  6.6937876 ,  5.69666248,  3.56330306,\n",
       "        3.31314296, -0.06927534,  4.01499992,  1.92704317,  8.44757664,\n",
       "        2.17277696,  4.7452612 ,  5.29726497,  2.39857092,  8.14535173,\n",
       "        4.89571557,  2.80362573,  1.99502315,  4.35587855,  6.41334097,\n",
       "        2.92775694,  5.07660352,  4.03045017,  5.65241862,  4.01270047,\n",
       "        5.63171684,  2.52375789,  5.18577913,  3.97910185,  4.70356432,\n",
       "        8.69120124,  6.17934658,  1.14017889,  4.70515692,  2.21505968,\n",
       "        4.58159434,  3.58664813,  5.64233101,  4.44047915,  4.58867175,\n",
       "        8.83927974,  7.56762437,  7.17041156,  6.7990847 ,  3.81697272,\n",
       "        6.05547169,  3.67154466,  5.20674526,  5.47543065,  2.60349705,\n",
       "        3.36160073,  4.45305567,  5.37594884,  5.93828253,  3.74900179,\n",
       "        4.51103754,  3.88124072,  0.46143657,  8.14189907,  4.59351734,\n",
       "        7.7940866 ,  4.10910977, -1.7519287 ,  7.23054501,  3.1760307 ,\n",
       "        5.51999677,  6.93555766,  4.55601462,  5.95582634,  8.10809141,\n",
       "        3.44772947,  5.33795356,  5.14199932,  5.05467116,  4.8021429 ,\n",
       "        6.77810169,  5.46210497,  3.83509434,  2.69415414,  7.90845301,\n",
       "        2.99245372,  5.1560307 ,  3.62699234,  1.47126111,  2.86073854,\n",
       "        5.74284249,  5.17252037,  6.57187492,  3.82142575,  4.02178429,\n",
       "        5.24782005,  3.87806536,  3.39841241,  7.26846816,  1.84429492,\n",
       "       10.30620705,  7.92018238,  6.60992862,  3.10613355,  6.28295116,\n",
       "        5.46719057,  3.4691495 ,  3.02230062,  6.70667672,  9.38863293,\n",
       "        3.33604148,  4.22072554,  4.31189842,  8.71151042,  8.38039181,\n",
       "        6.62493471,  7.11849287,  6.28669612,  7.41603238,  3.51262405,\n",
       "        5.25254881,  2.80826391,  5.43867725,  3.98804959,  6.80085609,\n",
       "        0.85536895,  7.18409004,  4.13554234,  4.06121928,  6.10250775,\n",
       "        3.03730112,  1.6878419 ,  5.60864659,  6.50931942,  6.51182029,\n",
       "        3.47220794,  8.2783294 ,  3.42961222,  5.79125723,  2.53789722,\n",
       "        3.31336602,  7.11108734,  5.43198172,  3.95712348,  0.07570359,\n",
       "        5.90804178,  2.56979279,  5.6194063 ,  6.49049303,  3.69722858,\n",
       "        4.18765201,  2.9821995 ,  7.43826493,  3.94223152,  2.94132783,\n",
       "        7.72349464,  6.54351765,  6.24825029,  6.4812121 ,  0.46920458,\n",
       "        4.00112719,  4.93656134,  2.74836444,  5.93564092,  7.07567534,\n",
       "        6.01159044,  7.48253892,  5.41007971,  4.26133559,  7.3577217 ,\n",
       "        7.71012891,  8.83928504, -0.19049181,  5.91735483,  3.54378796,\n",
       "        7.12135828,  3.16700437,  3.68539406,  3.06877475,  1.92148202,\n",
       "        7.45541486,  7.83695703,  5.02464487,  4.97101504,  1.83015431,\n",
       "        4.55857632,  4.40119015,  6.21131048,  4.8454057 ,  3.27772071,\n",
       "        5.1045287 ,  6.27893365,  5.52701788,  6.60753837,  6.36382969,\n",
       "        6.43081692,  3.57812559,  6.87969252,  5.28194437,  6.76547134,\n",
       "        2.70050663,  5.49828077,  4.61914223,  4.5519856 ,  5.87348983,\n",
       "        3.97783462,  4.78973836,  7.67584209,  3.27219823,  0.43510777,\n",
       "        6.4094664 ,  4.22083386,  3.04505003,  3.04820182,  4.93721181,\n",
       "        3.61421562,  3.39885483,  8.87910074,  4.68376531,  6.35991231,\n",
       "        2.48016301,  8.45608508,  3.70972431,  3.49118469,  9.53947732,\n",
       "        4.58412365, -0.20991315,  5.75877873, -0.39502931,  7.40163955,\n",
       "        1.45426913,  3.64690762,  2.26535155,  7.35161172,  1.68036777,\n",
       "        3.55844089,  2.57266142,  5.34698539,  4.64293284,  4.95637662,\n",
       "        3.95561994,  4.45215   ,  2.49451806, 11.35857983,  5.92403651,\n",
       "        6.81545584,  5.21704243,  6.33132217,  6.70424422,  1.55452842,\n",
       "        3.66158128,  4.27327968,  4.6225966 ,  8.38352272,  5.30605559,\n",
       "        1.38889688,  4.53764303,  7.50104189,  3.4392059 ,  5.49512299,\n",
       "        7.13290261,  4.71287628,  0.62254153,  5.59824379,  2.61864799,\n",
       "        7.67396268,  6.72833093,  4.00526439,  1.59481954,  5.62319828,\n",
       "        2.74682758,  0.66479615,  7.63120264,  4.90298569,  0.76506611,\n",
       "        5.68814624,  7.46520167,  3.6967697 ,  3.47793968,  3.91869042,\n",
       "        4.06214494,  4.05093656,  2.96781093,  6.68372741,  5.5545908 ,\n",
       "        4.76865537,  5.58294235,  6.87663021,  4.14217386,  7.09798243,\n",
       "        1.7804325 ,  7.19234226,  4.69009612,  2.76058269,  4.94264703,\n",
       "        5.0528548 ,  7.53365488,  8.07828525,  3.5289988 ,  3.89781371,\n",
       "        4.32317606,  6.35861805,  7.90991176,  4.23750842,  4.08516017,\n",
       "        8.03921499,  4.28864132,  6.50518934,  6.2717731 ,  5.92599102,\n",
       "        4.92242871,  8.02599525,  4.23163506,  7.9895772 ,  5.67045304,\n",
       "        6.54241601,  7.40775545,  4.35122809,  6.40496665,  7.06001025,\n",
       "        6.46202019,  4.26774625,  6.28469679,  9.12173905,  7.31401251,\n",
       "        2.22729842,  2.70078964,  4.18860222,  6.12326449,  3.56668499,\n",
       "        4.33273416,  3.63488058,  5.64059099,  3.78977207,  5.69354792,\n",
       "        4.98193187,  8.95575476,  2.91651282,  3.12772477,  6.59518235,\n",
       "        3.04925858,  8.1165839 ,  4.65587876,  7.00909091,  7.61942509,\n",
       "        4.28582389,  7.69544369,  8.70342839,  3.54773687,  4.5024623 ,\n",
       "        6.31900418,  5.17824857,  5.48602817,  3.6617933 ,  8.19447773,\n",
       "        2.32540105,  6.40045946,  3.73447639,  5.71992307,  5.07082889,\n",
       "        5.24622879,  1.52756557,  2.839952  ,  3.19302801,  3.63222829,\n",
       "        6.81872427,  3.87666975,  4.72829666,  8.86945175,  6.17849198,\n",
       "        4.11239961,  2.6828896 ,  5.69032319,  4.97836063,  4.15338957,\n",
       "        5.7960683 ,  7.87919638,  3.90520297,  4.14603876,  2.23520626,\n",
       "        5.46330453,  6.04801299,  6.55992882,  4.79629481,  4.99762419,\n",
       "        7.9804029 ,  5.34712865,  4.60034391,  7.27402281,  6.69280941,\n",
       "        6.22717803,  6.41574195,  4.80937543,  3.77628301,  1.93534102,\n",
       "        5.79378587,  1.89625629,  0.63541027,  5.80382437,  6.66056901,\n",
       "        6.38101156,  4.16724923,  6.00651778,  5.99730838,  1.67069742,\n",
       "        3.19792984,  6.17421993,  5.95149685,  4.96175944,  5.15003284,\n",
       "        3.56633066,  5.55330589,  7.38032177,  4.17108692,  5.54871963,\n",
       "        6.23357301,  6.6275805 ,  3.97026091, -1.32269325,  5.2771296 ,\n",
       "        6.85335571,  4.43935973,  4.00620526,  6.78951028,  6.32053789,\n",
       "        5.62978347,  3.56171215,  8.75813049,  3.04585522,  4.7442242 ,\n",
       "        7.26035121,  2.60537157,  5.23393721,  3.48130745,  3.18194701,\n",
       "        3.80364898,  6.39769966,  5.61606303,  4.6584175 ,  2.21199618,\n",
       "        5.33956996,  6.6068295 ,  6.69738646,  3.36621061,  5.16181495,\n",
       "        2.90655875,  5.11693734,  2.67554799,  2.91766832,  0.14773188,\n",
       "        5.30112896,  3.75475528,  3.2587084 ,  7.01468564,  5.4621725 ,\n",
       "        7.90382554,  5.20793765,  7.48828589,  3.57303506,  6.49198429,\n",
       "        4.45810079,  4.74117345,  0.01841829,  5.66820864,  7.92229128,\n",
       "        3.06410035,  4.734239  ,  6.65416282,  3.92779117,  5.68996834,\n",
       "        3.99703732,  5.23856601,  6.74415017,  4.69254417,  5.24623719,\n",
       "        2.33601233,  1.63902917,  6.32862317,  6.31381307,  6.65540712,\n",
       "        5.54648388,  6.3143547 ,  7.17876988,  5.37660774,  2.13881268,\n",
       "        4.89016982,  4.67307032,  3.70855092,  5.17604706,  3.23960257,\n",
       "        3.57440822,  3.49818859,  3.10235749,  5.02409711,  2.56832311,\n",
       "        5.25800889,  2.60033692,  7.35106911,  3.58863492,  6.71733739,\n",
       "        4.56106426,  5.45935911,  4.26337858,  6.77171808,  5.63056443,\n",
       "        4.36546938,  3.38867387,  7.2060178 ,  5.52367058,  2.15057685,\n",
       "        8.2375653 ,  5.0959353 ,  3.28728254,  6.12833368,  6.40396189,\n",
       "        2.24320974,  2.18493605,  7.19529763,  8.58572979,  5.61981045,\n",
       "        2.13721462,  3.81789452,  2.49384588,  1.1625836 ,  4.71354534,\n",
       "        6.89406344,  5.75900803,  4.23245462,  4.3964951 ,  3.08793436,\n",
       "        5.84951468,  4.83062308, 10.77484164,  3.59515752,  4.86805768,\n",
       "        6.47479055,  6.73799222,  7.57006421,  4.24644439,  2.06815985,\n",
       "        8.65912615,  5.78008318,  3.62109504,  3.59685058,  3.51108689,\n",
       "        4.09228256,  7.70851306,  4.15307688,  4.27163032,  3.30516708,\n",
       "        5.96163549,  3.88583001,  9.19698954,  5.69095469,  5.55268497,\n",
       "        5.69258994,  4.07185487,  6.62480151,  6.18094053,  5.14357274,\n",
       "        5.90347777,  7.70503853,  1.5805958 ,  3.80213948,  8.31536357,\n",
       "        2.00736461,  4.62228071,  4.82516138,  6.67496246,  7.07956808,\n",
       "        6.51169786,  3.67199328,  4.69195089,  5.4278789 ,  5.96855929,\n",
       "        2.08158105,  4.29346562,  0.99572839,  4.94887143,  4.8546127 ,\n",
       "        1.76634836,  4.95481564,  4.11624647,  4.8112208 ,  7.05620794,\n",
       "        4.71111352,  1.13959515,  3.91143998,  5.73665962,  5.62055569,\n",
       "        6.34285429,  5.2454137 ,  8.56340525,  5.51955822,  8.66718735,\n",
       "        6.5608945 ,  2.84514548,  4.53362069,  6.02953492,  6.70475727,\n",
       "        5.23498277,  6.25568555,  1.70550208,  7.65895079,  4.0978903 ,\n",
       "        5.66732674,  4.46966159,  2.28931034,  1.41025882,  5.62296552,\n",
       "        5.18382278,  6.11195022,  4.03199147,  3.46978874,  0.99807033,\n",
       "        3.80721346,  7.97806464,  5.81617037,  1.50992941,  4.58265309,\n",
       "        8.70921203,  3.68818057,  6.86836824,  2.74546625,  6.97136548,\n",
       "        7.41684729,  2.28373118,  7.86442952,  4.32056723,  8.61426468,\n",
       "        3.05965328,  3.09999138,  8.12181818,  2.06334164,  6.29527345,\n",
       "        1.59378885,  8.44367525,  3.17186836,  5.76882506,  9.04229723,\n",
       "        0.0575195 ,  6.13923327,  6.21110929,  7.57303989,  4.47823665,\n",
       "        5.09399644,  5.44800915,  8.01770886,  7.42192461, -0.31352539,\n",
       "       10.74506725,  6.47899429,  4.96047277,  4.85724759,  0.31643992,\n",
       "        2.79229504,  2.91285144,  5.20777132,  7.02708787,  0.89381293,\n",
       "        4.91524671,  5.25881141,  4.15530851,  6.07930979,  5.58182244,\n",
       "        3.22104125,  4.95392473,  0.16769737,  6.14248154,  8.15413947,\n",
       "        6.06269291,  3.79880169,  3.18026302,  2.91793062,  8.3291818 ,\n",
       "        2.32984472,  8.35262598,  2.48481344,  5.13780683,  3.27281041,\n",
       "        6.86008024,  7.94580036,  2.67640543,  7.28079241,  4.39656865,\n",
       "       -0.39535346,  5.58325516,  9.5463371 ,  5.36725997,  3.97898268,\n",
       "        1.99735915,  4.42532645,  6.40168655,  3.21431496,  7.37326096,\n",
       "        3.53519153,  5.09172606,  2.94277823,  6.36487888,  4.5858788 ,\n",
       "        6.35640293,  0.96832941,  2.68858333,  2.24283893,  5.48414514,\n",
       "        8.02221218,  2.31178472,  6.43471112,  8.5641969 ,  5.09340419,\n",
       "        5.50895256,  2.21725151,  8.0154137 ,  2.52023052,  5.36165584,\n",
       "        2.64088047,  4.55792762,  5.23078344,  3.45811335,  7.99170964,\n",
       "        4.8472385 ,  4.63383476,  5.99290226,  6.26263554,  9.15059842,\n",
       "        4.90221065,  5.76489001,  3.99332884,  3.68269904,  3.03425835,\n",
       "        4.68698128,  3.59411954,  5.11506111,  4.85913901,  6.17903056,\n",
       "        8.22637044,  5.20008902,  5.68849063,  7.60478524,  6.98357343,\n",
       "        4.97555648,  8.47646128,  5.79485039,  6.95823635, 10.74661559,\n",
       "        9.37562339,  5.66716447,  5.26417632,  5.69859104,  5.4908653 ,\n",
       "        2.70607606,  3.6651406 ,  1.99623695,  5.67165635,  4.20697604,\n",
       "        2.69889795,  7.11139616,  3.64933698,  6.08965284,  3.31704745,\n",
       "        2.67545879,  3.37937571,  8.44495352,  5.38419913,  6.92278456,\n",
       "        2.1776752 ,  3.48762451,  5.67723898,  0.90809843,  5.39139563,\n",
       "        3.34199202,  0.35532694,  4.55979064,  1.39011834,  4.67157122,\n",
       "        6.26743941,  6.04293601,  5.65903113,  0.77069524,  7.94941985,\n",
       "        4.18223475,  7.01021798,  2.01184062,  7.69960853,  6.00864726,\n",
       "        6.7917511 , -2.44985776,  7.67185731,  9.30236319,  5.78804273,\n",
       "        8.69713134,  5.06769767,  4.91343261,  4.62742551,  6.40946741,\n",
       "        6.705495  ,  5.89318193,  5.30849652,  0.90624208,  4.38568501,\n",
       "        2.85416797,  2.78090388,  0.71838579,  4.70555667,  5.26778668,\n",
       "        7.64189031,  7.68194207,  8.69292714,  1.28939328,  6.89222572,\n",
       "        5.41994543,  3.71659758,  2.35688488,  7.62004789,  1.02591627,\n",
       "        6.73233894,  4.72615825,  5.07597111,  4.09916208,  2.90687151,\n",
       "        3.89419887,  6.02986977,  3.58039802,  7.17451657,  7.83268478,\n",
       "        4.00102744,  2.34388969,  4.40770183,  7.33267809,  8.05551417,\n",
       "        7.19928891,  6.31292005,  3.25829732,  4.47279397,  3.75634142,\n",
       "        4.51160057,  2.73924527,  4.11516467,  2.50893884,  7.72225056,\n",
       "        7.58378534,  9.00964379,  6.76628304,  2.8854819 ,  4.67899982,\n",
       "        1.84501495,  4.98917818,  8.4440688 ,  5.38027239,  5.57426272,\n",
       "        5.30963269,  1.21638549,  3.41363366,  4.70453714,  7.24401854,\n",
       "        8.16488805,  4.63581232,  6.63169531,  8.08147646,  4.23920318,\n",
       "        2.39190835,  2.5922207 ,  6.35955833,  6.84395058,  3.3771647 ,\n",
       "        2.69202063,  4.38709095,  3.37254234,  2.00159927,  6.80184252,\n",
       "        5.07900045,  2.78467155,  7.27442689,  2.40622858,  5.40346496,\n",
       "        4.71286143,  4.6923262 ,  7.62119502,  5.49571207,  3.11372705,\n",
       "        2.41935549,  3.51239328,  5.88235574,  5.64456345,  4.81873798,\n",
       "        6.29530364,  5.58622827,  5.82226556,  3.71028072,  6.2589497 ,\n",
       "        6.08618714,  5.39720347,  3.01160212,  3.14127476,  2.92692582,\n",
       "        5.29896432,  3.60767291,  7.48140608,  5.15807083,  4.76588427,\n",
       "        6.48493088,  4.21431782,  3.10875776,  3.50188531,  3.44301154])"
      ]
     },
     "execution_count": 10,
     "metadata": {},
     "output_type": "execute_result"
    }
   ],
   "source": [
    "normal_dist #array "
   ]
  },
  {
   "cell_type": "code",
   "execution_count": 11,
   "metadata": {},
   "outputs": [
    {
     "data": {
      "text/plain": [
       "-1.8829382497642654e-16"
      ]
     },
     "execution_count": 11,
     "metadata": {},
     "output_type": "execute_result"
    }
   ],
=======
   "execution_count": null,
   "metadata": {},
   "outputs": [],
>>>>>>> 57c5de4f73ce52d1d69ba40e38567bef5c1befd1
   "source": [
    "# Here, let's standardize by hand\n",
    "# (x - mean) / std\n",
    "z_dist = [(x - np.mean(normal_dist)) / np.std(normal_dist)\n",
    "          for x in normal_dist]\n",
    "\n",
    "np.mean(z_dist)"
   ]
  },
  {
   "cell_type": "code",
<<<<<<< HEAD
   "execution_count": 12,
   "metadata": {},
   "outputs": [
    {
     "data": {
      "image/png": "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\n",
      "text/plain": [
       "<Figure size 1000x600 with 2 Axes>"
      ]
     },
     "metadata": {},
     "output_type": "display_data"
    }
   ],
=======
   "execution_count": null,
   "metadata": {},
   "outputs": [],
>>>>>>> 57c5de4f73ce52d1d69ba40e38567bef5c1befd1
   "source": [
    "# Visualize it\n",
    "fig, (ax0, ax1) = plt.subplots(nrows=2, sharex=True, figsize=(10, 6))\n",
    "\n",
    "sns.histplot(data=normal_dist, ax=ax0)\n",
    "ax0.set_title('Before Standardization')\n",
    "\n",
    "sns.histplot(data=z_dist, ax=ax1)\n",
    "ax1.set_title('After Standardization')\n",
    "\n",
    "plt.tight_layout()"
   ]
  },
  {
   "cell_type": "markdown",
   "metadata": {
    "hidden": true
   },
   "source": [
    "Talking about the **standard normal distribution** can be very convenient since the values correspond to the number of standard deviations above or below the mean."
   ]
  },
  {
   "cell_type": "markdown",
   "metadata": {
    "heading_collapsed": true,
    "hidden": true
   },
   "source": [
    "## $z$-Score"
   ]
  },
  {
   "cell_type": "markdown",
   "metadata": {
    "hidden": true
   },
   "source": [
    "A **$z$-score** for a specific data point $x$ (in a normal distribution) is simply the distance to the mean in the units of standard deviations\n",
    "\n",
    "$$\\large z = \\frac{x - \\mu}{\\sigma}$$\n",
    "\n",
    "By calculating the z-score of an individual point, we can see how unlikely a value is."
   ]
  },
  {
   "cell_type": "markdown",
   "metadata": {
    "hidden": true
   },
   "source": [
    "Here's a little site with some [interactive Gaussians](https://www.intmath.com/counting-probability/normal-distribution-graph-interactive.php)"
   ]
  },
  {
   "cell_type": "markdown",
   "metadata": {
    "heading_collapsed": true,
    "hidden": true
   },
   "source": [
    "#### 🧠 Knowledge Check"
   ]
  },
  {
   "cell_type": "markdown",
   "metadata": {
    "hidden": true
   },
   "source": [
    "What would the $z$-score be for the middle of a normal curve?\n",
    "\n",
    "- \n"
   ]
  },
  {
   "cell_type": "markdown",
   "metadata": {
    "heading_collapsed": true,
    "hidden": true
   },
   "source": [
    "### The Empirical Rule"
   ]
  },
  {
   "cell_type": "markdown",
   "metadata": {
    "hidden": true
   },
   "source": [
    "> Rule states that $68\\%$ of the values of a normal distribution of data lie within 1 standard deviation ($\\sigma$) of the mean, $95\\%$ within $2\\sigma$, and $99.7\\%$ within $3\\sigma$.  \n",
    "\n",
    "This makes it really quick to look at a normal distribution and understand where values tend to lie"
   ]
  },
  {
   "cell_type": "markdown",
   "metadata": {
    "hidden": true
   },
   "source": [
    "<img src='https://github.com/learn-co-students/dsc-0-09-12-gaussian-distributions-online-ds-ft-031119/blob/master/normalsd.jpg?raw=true' width=700/>"
   ]
  },
  {
   "cell_type": "markdown",
   "metadata": {
    "heading_collapsed": true,
    "hidden": true
   },
   "source": [
    "#### 🧠 Knowledge Check"
   ]
  },
  {
   "cell_type": "markdown",
   "metadata": {
    "hidden": true
   },
   "source": [
    "About what percentage of the values would be between a $z$-score of $-1$ and a $z$-score of $2$?\n",
    "\n",
    "<details>\n",
    "    <summary>Answer</summary>\n",
    "    About $82\\%$\n",
    "</details>"
   ]
  },
  {
<<<<<<< HEAD
   "cell_type": "code",
   "execution_count": 22,
   "metadata": {},
   "outputs": [
    {
     "data": {
      "text/plain": [
       "0.8185946141203637"
      ]
     },
     "execution_count": 22,
     "metadata": {},
     "output_type": "execute_result"
    }
   ],
   "source": [
    "stats.norm.cdf(2)-stats.norm.cdf(-1)"
   ]
  },
  {
   "cell_type": "code",
   "execution_count": null,
   "metadata": {},
   "outputs": [],
   "source": []
  },
  {
=======
>>>>>>> 57c5de4f73ce52d1d69ba40e38567bef5c1befd1
   "cell_type": "markdown",
   "metadata": {
    "heading_collapsed": true
   },
   "source": [
    "# Exercises"
   ]
  },
  {
   "cell_type": "markdown",
   "metadata": {},
   "source": [
    "The distribution of people's heights in the United States has a **mean of 66 inches** and a **standard deviation of 4 inches**. "
   ]
  },
  {
   "cell_type": "markdown",
   "metadata": {
    "heading_collapsed": true,
    "hidden": true
   },
   "source": [
    "## Height $z$-score"
   ]
  },
  {
   "cell_type": "markdown",
   "metadata": {
    "hidden": true
   },
   "source": [
    "Calculate the z-score of a height of **76 inches.**"
   ]
  },
  {
   "cell_type": "code",
<<<<<<< HEAD
   "execution_count": 13,
   "metadata": {
    "hidden": true
   },
   "outputs": [
    {
     "data": {
      "text/plain": [
       "2.5"
      ]
     },
     "execution_count": 13,
     "metadata": {},
     "output_type": "execute_result"
    }
   ],
=======
   "execution_count": null,
   "metadata": {
    "hidden": true
   },
   "outputs": [],
>>>>>>> 57c5de4f73ce52d1d69ba40e38567bef5c1befd1
   "source": [
    "# Your code here\n",
    "\n",
    "mu = 66\n",
    "sigma = 4\n",
    "\n",
    "z = (76 - mu)/sigma\n",
    "z"
   ]
  },
  {
   "cell_type": "code",
<<<<<<< HEAD
   "execution_count": 14,
   "metadata": {},
   "outputs": [
    {
     "data": {
      "text/plain": [
       "0.006209665325776159"
      ]
     },
     "execution_count": 14,
     "metadata": {},
     "output_type": "execute_result"
    }
   ],
=======
   "execution_count": null,
   "metadata": {},
   "outputs": [],
>>>>>>> 57c5de4f73ce52d1d69ba40e38567bef5c1befd1
   "source": [
    "1- stats.norm.cdf(z)"
   ]
  },
  {
   "cell_type": "markdown",
   "metadata": {},
   "source": [
    "<details>\n",
    "    <summary>Answer</summary>\n",
    "    <code># z-score: z = (x - mu) / std\n",
    "(76 - 66) / 4</code>\n",
    "</details>"
   ]
  },
  {
   "cell_type": "markdown",
   "metadata": {},
   "source": [
    "#### Describe the z-score - what does it tell us?\n",
    "\n",
    "- \n"
   ]
  },
  {
   "cell_type": "markdown",
   "metadata": {
    "heading_collapsed": true,
    "hidden": true
   },
   "source": [
    "## Height Empirical Rule"
   ]
  },
  {
   "cell_type": "markdown",
   "metadata": {
    "hidden": true
   },
   "source": [
    "Determine the proportion of those whose height is between **62 inches and 74 inches**."
   ]
  },
  {
   "cell_type": "code",
<<<<<<< HEAD
   "execution_count": 24,
   "metadata": {},
   "outputs": [
    {
     "data": {
      "text/plain": [
       "(2.0, -1.0)"
      ]
     },
     "execution_count": 24,
     "metadata": {},
     "output_type": "execute_result"
    }
   ],
=======
   "execution_count": null,
   "metadata": {},
   "outputs": [],
>>>>>>> 57c5de4f73ce52d1d69ba40e38567bef5c1befd1
   "source": [
    "# Your code here\n",
    "\n",
    "z_74 = (74 - mu)/sigma\n",
    "z_62 = (62 - mu)/sigma \n",
    "\n",
    "z_74,z_62"
   ]
  },
  {
   "cell_type": "code",
<<<<<<< HEAD
   "execution_count": 25,
   "metadata": {},
   "outputs": [
    {
     "data": {
      "text/plain": [
       "0.8185946141203637"
      ]
     },
     "execution_count": 25,
     "metadata": {},
     "output_type": "execute_result"
    }
   ],
=======
   "execution_count": null,
   "metadata": {},
   "outputs": [],
>>>>>>> 57c5de4f73ce52d1d69ba40e38567bef5c1befd1
   "source": [
    "stats.norm.cdf(2)-stats.norm.cdf(-1)"
   ]
  },
  {
   "cell_type": "code",
<<<<<<< HEAD
   "execution_count": 26,
   "metadata": {},
   "outputs": [
    {
     "data": {
      "text/plain": [
       "0.8185946141203637"
      ]
     },
     "execution_count": 26,
     "metadata": {},
     "output_type": "execute_result"
    }
   ],
=======
   "execution_count": null,
   "metadata": {},
   "outputs": [],
>>>>>>> 57c5de4f73ce52d1d69ba40e38567bef5c1befd1
   "source": [
    "heights = stats.norm(loc=66, scale=4)\n",
    "heights.cdf(74) - heights.cdf(62)"
   ]
  },
  {
   "cell_type": "markdown",
   "metadata": {},
   "source": [
    "<details>\n",
    "    <summary>Answer 1</summary>\n",
    "<code># z-scores for 62\" and 74\":\n",
    "z_62 = (62 - 66) / 4\n",
    "z_74 = (74 - 66) / 4\n",
    "z_62, z_74</code>\n",
    "    </details>"
   ]
  },
  {
   "cell_type": "markdown",
   "metadata": {},
   "source": [
    "<details>\n",
    "    <summary>Answer 2</summary>\n",
    "    <code>heights = stats.norm(loc=66, scale=4)\n",
    "heights.cdf(74) - heights.cdf(62)</code>\n",
    "    </details>"
   ]
  },
  {
   "cell_type": "markdown",
   "metadata": {
    "heading_collapsed": true,
    "hidden": true
   },
   "source": [
    "## Height Percentile"
   ]
  },
  {
   "cell_type": "markdown",
   "metadata": {
    "hidden": true
   },
   "source": [
    "Assuming the above distribution of people's heights in the United States is approximately normal, what percent of people have a height **less than 75 inches**?"
   ]
  },
  {
   "cell_type": "code",
<<<<<<< HEAD
   "execution_count": 18,
   "metadata": {},
   "outputs": [
    {
     "data": {
      "text/plain": [
       "0.9877755273449553"
      ]
     },
     "execution_count": 18,
     "metadata": {},
     "output_type": "execute_result"
    }
   ],
=======
   "execution_count": null,
   "metadata": {},
   "outputs": [],
>>>>>>> 57c5de4f73ce52d1d69ba40e38567bef5c1befd1
   "source": [
    "# Your code here\n",
    "heights.cdf(75)\n"
   ]
  },
  {
   "cell_type": "markdown",
   "metadata": {},
   "source": [
    "<details>\n",
    "    <summary>Answer</summary>\n",
    "    <code>heights.cdf(75)</code>\n",
    "    </details>"
   ]
  },
  {
   "cell_type": "markdown",
   "metadata": {
    "heading_collapsed": true,
    "hidden": true
   },
   "source": [
    "## Bonus"
   ]
  },
  {
   "cell_type": "markdown",
   "metadata": {
    "hidden": true
   },
   "source": [
    "Assuming the above distribution of people's heights in the United States is approximately normal, what range of heights contain the **middle 50% of values**, also known as the _interquartile range_ (IQR)?"
   ]
  },
  {
   "cell_type": "code",
<<<<<<< HEAD
   "execution_count": 21,
   "metadata": {},
   "outputs": [
    {
     "data": {
      "text/plain": [
       "5.395918001568653"
      ]
     },
     "execution_count": 21,
     "metadata": {},
     "output_type": "execute_result"
    }
   ],
   "source": [
    "# Your code here\n",
    "Q1_height = stats.norm.ppf(0.25, loc=66, scale=4)\n",
    "Q3_height = stats.norm.ppf(0.75, loc=66, scale=4)\n",
    "IQR = Q3_height - Q1_height\n",
    "IQR"
=======
   "execution_count": null,
   "metadata": {},
   "outputs": [],
   "source": [
    "# Your code here"
>>>>>>> 57c5de4f73ce52d1d69ba40e38567bef5c1befd1
   ]
  },
  {
   "cell_type": "markdown",
   "metadata": {},
   "source": [
    "<details>\n",
    "    <summary>Answer</summary>\n",
    "    <code>heights.ppf(0.25), heights.ppf(0.75)</code>\n",
    "    </details>"
   ]
  },
  {
   "cell_type": "markdown",
   "metadata": {},
   "source": [
    "## Time for Pandas!\n",
    "\n",
    "Let's use the same Seattle City Employee data from the first Distributions lecture to check out what scaling looks like in practice!\n",
    "\n",
    "Data source: https://data.seattle.gov/City-Business/City-of-Seattle-Wage-Data/2khk-5ukd"
   ]
  },
  {
   "cell_type": "code",
<<<<<<< HEAD
   "execution_count": 27,
=======
   "execution_count": null,
>>>>>>> 57c5de4f73ce52d1d69ba40e38567bef5c1befd1
   "metadata": {},
   "outputs": [],
   "source": [
    "# Read in the data\n",
    "df = pd.read_csv('data/City_of_Seattle_Wage_Data_031422.csv')"
   ]
  },
  {
   "cell_type": "code",
<<<<<<< HEAD
   "execution_count": 28,
   "metadata": {},
   "outputs": [
    {
     "data": {
      "text/html": [
       "<div>\n",
       "<style scoped>\n",
       "    .dataframe tbody tr th:only-of-type {\n",
       "        vertical-align: middle;\n",
       "    }\n",
       "\n",
       "    .dataframe tbody tr th {\n",
       "        vertical-align: top;\n",
       "    }\n",
       "\n",
       "    .dataframe thead th {\n",
       "        text-align: right;\n",
       "    }\n",
       "</style>\n",
       "<table border=\"1\" class=\"dataframe\">\n",
       "  <thead>\n",
       "    <tr style=\"text-align: right;\">\n",
       "      <th></th>\n",
       "      <th>Department</th>\n",
       "      <th>Last Name</th>\n",
       "      <th>First Name</th>\n",
       "      <th>Job Title</th>\n",
       "      <th>Hourly Rate</th>\n",
       "    </tr>\n",
       "  </thead>\n",
       "  <tbody>\n",
       "    <tr>\n",
       "      <th>0</th>\n",
       "      <td>Seattle Public Utilities</td>\n",
       "      <td>Batchelor</td>\n",
       "      <td>Craig</td>\n",
       "      <td>Civil Engrng Spec,Sr</td>\n",
       "      <td>53.740</td>\n",
       "    </tr>\n",
       "    <tr>\n",
       "      <th>1</th>\n",
       "      <td>Finance &amp; Admin Services</td>\n",
       "      <td>Altice</td>\n",
       "      <td>Jeffrey</td>\n",
       "      <td>Auto Mechanic</td>\n",
       "      <td>39.780</td>\n",
       "    </tr>\n",
       "    <tr>\n",
       "      <th>2</th>\n",
       "      <td>Finance &amp; Admin Services</td>\n",
       "      <td>Montes</td>\n",
       "      <td>Valeria</td>\n",
       "      <td>Cust Svc Rep</td>\n",
       "      <td>29.450</td>\n",
       "    </tr>\n",
       "    <tr>\n",
       "      <th>3</th>\n",
       "      <td>Fire Department</td>\n",
       "      <td>Kuklok</td>\n",
       "      <td>Rebecca</td>\n",
       "      <td>Cust Svc Rep *</td>\n",
       "      <td>29.450</td>\n",
       "    </tr>\n",
       "    <tr>\n",
       "      <th>4</th>\n",
       "      <td>Planning &amp; Comm Development</td>\n",
       "      <td>Quirindongo</td>\n",
       "      <td>Rico</td>\n",
       "      <td>Executive3</td>\n",
       "      <td>97.164</td>\n",
       "    </tr>\n",
       "  </tbody>\n",
       "</table>\n",
       "</div>"
      ],
      "text/plain": [
       "                    Department    Last Name First Name             Job Title  \\\n",
       "0     Seattle Public Utilities    Batchelor      Craig  Civil Engrng Spec,Sr   \n",
       "1     Finance & Admin Services       Altice    Jeffrey         Auto Mechanic   \n",
       "2     Finance & Admin Services       Montes    Valeria          Cust Svc Rep   \n",
       "3              Fire Department       Kuklok    Rebecca        Cust Svc Rep *   \n",
       "4  Planning & Comm Development  Quirindongo       Rico            Executive3   \n",
       "\n",
       "   Hourly Rate   \n",
       "0        53.740  \n",
       "1        39.780  \n",
       "2        29.450  \n",
       "3        29.450  \n",
       "4        97.164  "
      ]
     },
     "execution_count": 28,
     "metadata": {},
     "output_type": "execute_result"
    }
   ],
=======
   "execution_count": null,
   "metadata": {},
   "outputs": [],
>>>>>>> 57c5de4f73ce52d1d69ba40e38567bef5c1befd1
   "source": [
    "# Check it\n",
    "df.head()"
   ]
  },
  {
   "cell_type": "code",
<<<<<<< HEAD
   "execution_count": 29,
=======
   "execution_count": null,
>>>>>>> 57c5de4f73ce52d1d69ba40e38567bef5c1befd1
   "metadata": {},
   "outputs": [],
   "source": [
    "# Rename the columns\n",
    "df = df.rename(columns = lambda x: x.replace(\" \", \"\"))"
   ]
  },
  {
   "cell_type": "code",
<<<<<<< HEAD
   "execution_count": 30,
   "metadata": {},
   "outputs": [
    {
     "data": {
      "text/html": [
       "<div>\n",
       "<style scoped>\n",
       "    .dataframe tbody tr th:only-of-type {\n",
       "        vertical-align: middle;\n",
       "    }\n",
       "\n",
       "    .dataframe tbody tr th {\n",
       "        vertical-align: top;\n",
       "    }\n",
       "\n",
       "    .dataframe thead th {\n",
       "        text-align: right;\n",
       "    }\n",
       "</style>\n",
       "<table border=\"1\" class=\"dataframe\">\n",
       "  <thead>\n",
       "    <tr style=\"text-align: right;\">\n",
       "      <th></th>\n",
       "      <th>HourlyRate</th>\n",
       "    </tr>\n",
       "  </thead>\n",
       "  <tbody>\n",
       "    <tr>\n",
       "      <th>count</th>\n",
       "      <td>11739.000000</td>\n",
       "    </tr>\n",
       "    <tr>\n",
       "      <th>mean</th>\n",
       "      <td>47.817331</td>\n",
       "    </tr>\n",
       "    <tr>\n",
       "      <th>std</th>\n",
       "      <td>16.722128</td>\n",
       "    </tr>\n",
       "    <tr>\n",
       "      <th>min</th>\n",
       "      <td>5.530000</td>\n",
       "    </tr>\n",
       "    <tr>\n",
       "      <th>25%</th>\n",
       "      <td>35.400000</td>\n",
       "    </tr>\n",
       "    <tr>\n",
       "      <th>50%</th>\n",
       "      <td>47.340000</td>\n",
       "    </tr>\n",
       "    <tr>\n",
       "      <th>75%</th>\n",
       "      <td>59.550000</td>\n",
       "    </tr>\n",
       "    <tr>\n",
       "      <th>max</th>\n",
       "      <td>187.767000</td>\n",
       "    </tr>\n",
       "  </tbody>\n",
       "</table>\n",
       "</div>"
      ],
      "text/plain": [
       "         HourlyRate\n",
       "count  11739.000000\n",
       "mean      47.817331\n",
       "std       16.722128\n",
       "min        5.530000\n",
       "25%       35.400000\n",
       "50%       47.340000\n",
       "75%       59.550000\n",
       "max      187.767000"
      ]
     },
     "execution_count": 30,
     "metadata": {},
     "output_type": "execute_result"
    }
   ],
=======
   "execution_count": null,
   "metadata": {},
   "outputs": [],
>>>>>>> 57c5de4f73ce52d1d69ba40e38567bef5c1befd1
   "source": [
    "# Describe the numeric column\n",
    "df.describe()"
   ]
  },
  {
   "cell_type": "code",
<<<<<<< HEAD
   "execution_count": 32,
   "metadata": {},
   "outputs": [
    {
     "data": {
      "image/png": "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\n",
      "text/plain": [
       "<Figure size 640x480 with 1 Axes>"
      ]
     },
     "metadata": {},
     "output_type": "display_data"
    }
   ],
   "source": [
    "# Plot the hourly rate column\n",
    "sns.kdeplot(df['HourlyRate']);\n",
    "sns.histplot(df['HourlyRate']);"
=======
   "execution_count": null,
   "metadata": {},
   "outputs": [],
   "source": [
    "# Plot the hourly rate column\n",
    "sns.kdeplot(df['HourlyRate']);"
>>>>>>> 57c5de4f73ce52d1d69ba40e38567bef5c1befd1
   ]
  },
  {
   "cell_type": "markdown",
   "metadata": {},
   "source": [
    "How can we describe this distribution?\n",
    "\n",
    "- Tri-modal?\n",
    "- Lots of outliers\n",
    "- Not perfectly normal, but not terrible"
   ]
  },
  {
   "cell_type": "markdown",
   "metadata": {},
   "source": [
    "### Using Z-Scores"
   ]
  },
  {
   "cell_type": "code",
<<<<<<< HEAD
   "execution_count": 33,
   "metadata": {
    "scrolled": true
   },
   "outputs": [
    {
     "data": {
      "text/html": [
       "<div>\n",
       "<style scoped>\n",
       "    .dataframe tbody tr th:only-of-type {\n",
       "        vertical-align: middle;\n",
       "    }\n",
       "\n",
       "    .dataframe tbody tr th {\n",
       "        vertical-align: top;\n",
       "    }\n",
       "\n",
       "    .dataframe thead th {\n",
       "        text-align: right;\n",
       "    }\n",
       "</style>\n",
       "<table border=\"1\" class=\"dataframe\">\n",
       "  <thead>\n",
       "    <tr style=\"text-align: right;\">\n",
       "      <th></th>\n",
       "      <th>Department</th>\n",
       "      <th>LastName</th>\n",
       "      <th>FirstName</th>\n",
       "      <th>JobTitle</th>\n",
       "      <th>HourlyRate</th>\n",
       "    </tr>\n",
       "  </thead>\n",
       "  <tbody>\n",
       "    <tr>\n",
       "      <th>9259</th>\n",
       "      <td>Office for Civil Rights</td>\n",
       "      <td>Idowu</td>\n",
       "      <td>Marta</td>\n",
       "      <td>Plng&amp;Dev Spec II</td>\n",
       "      <td>48.48</td>\n",
       "    </tr>\n",
       "  </tbody>\n",
       "</table>\n",
       "</div>"
      ],
      "text/plain": [
       "                   Department LastName FirstName          JobTitle  HourlyRate\n",
       "9259  Office for Civil Rights    Idowu     Marta  Plng&Dev Spec II       48.48"
      ]
     },
     "execution_count": 33,
     "metadata": {},
     "output_type": "execute_result"
    }
   ],
=======
   "execution_count": null,
   "metadata": {
    "scrolled": true
   },
   "outputs": [],
>>>>>>> 57c5de4f73ce52d1d69ba40e38567bef5c1befd1
   "source": [
    "# Grab a sample row\n",
    "sample_row = df.sample(1)\n",
    "sample_row"
   ]
  },
  {
   "cell_type": "code",
<<<<<<< HEAD
   "execution_count": 34,
   "metadata": {},
   "outputs": [
    {
     "data": {
      "text/plain": [
       "0.039628261185198944"
      ]
     },
     "execution_count": 34,
     "metadata": {},
     "output_type": "execute_result"
    }
   ],
=======
   "execution_count": null,
   "metadata": {},
   "outputs": [],
>>>>>>> 57c5de4f73ce52d1d69ba40e38567bef5c1befd1
   "source": [
    "# Calculate the z-score for that row's HourlyRate\n",
    "(sample_row['HourlyRate'].values[0] - df['HourlyRate'].mean()) / df['HourlyRate'].std()"
   ]
  },
  {
   "cell_type": "code",
<<<<<<< HEAD
   "execution_count": 40,
=======
   "execution_count": null,
>>>>>>> 57c5de4f73ce52d1d69ba40e38567bef5c1befd1
   "metadata": {
    "scrolled": true
   },
   "outputs": [],
   "source": [
    "# Standardize the column\n",
    "mu = df['HourlyRate'].mean()\n",
    "sigma = df['HourlyRate'].std()\n",
<<<<<<< HEAD
    "standardized= df['HourlyRate'].apply(lambda x: (x-mu)/sigma)\n",
    "#standardized_rate = [(x-mu)/sigma for x in df['HourlyRate']]"
=======
    "standardized_rate = [(x-mu)/sigma for x in df['HourlyRate']]"
>>>>>>> 57c5de4f73ce52d1d69ba40e38567bef5c1befd1
   ]
  },
  {
   "cell_type": "code",
   "execution_count": null,
   "metadata": {},
   "outputs": [],
<<<<<<< HEAD
   "source": []
  },
  {
   "cell_type": "code",
   "execution_count": null,
   "metadata": {},
   "outputs": [],
   "source": []
  },
  {
   "cell_type": "markdown",
   "metadata": {},
   "source": [
    "Let's discuss:\n",
    "\n",
    "- \n"
   ]
  },
  {
   "cell_type": "code",
   "execution_count": 41,
   "metadata": {},
   "outputs": [
    {
     "data": {
      "image/png": "iVBORw0KGgoAAAANSUhEUgAAAkoAAAGwCAYAAABWwkp7AAAAOXRFWHRTb2Z0d2FyZQBNYXRwbG90bGliIHZlcnNpb24zLjUuMiwgaHR0cHM6Ly9tYXRwbG90bGliLm9yZy8qNh9FAAAACXBIWXMAAA9hAAAPYQGoP6dpAACI30lEQVR4nO3deVxUVf8H8M+dnXVQtgHZQUXFhcUNRcUMwxY1K21xyTR5WlzIJzV/pY9lWqlRmfv+WGrlkj1ZiQmKihuCKyoCAiKIoOwww8zc3x8jkyPbDNudge/79ZqXcubce7937gzz5Zxzz2FYlmVBCCGEEEJq4HEdACGEEEKIsaJEiRBCCCGkDpQoEUIIIYTUgRIlQgghhJA6UKJECCGEEFIHSpQIIYQQQupAiRIhhBBCSB0EXAdgqtRqNe7evQsrKyswDMN1OIQQQgjRA8uyKCkpgbOzM3i8htuLKFFqpLt378LV1ZXrMAghhBDSCFlZWXBxcWmwHiVKjWRlZQVA80JbW1tzHA0hhBBC9FFcXAxXV1ft93hDKFFqpOruNmtra0qUCCGEEBOj77AZGsxNCCGEEFIHSpQIIYQQQupAiRIhhBBCSB1ojBIhhJAWp1KpUFVVxXUYpB0QCoXg8/nNtj9KlAgxUhkFZfjs92QUlMqx8pU+8LSz4DokQgzGsixyc3NRWFjIdSikHbGxsYFMJmuWeQ4pUSLEyLAsi41xaVh5+CbkSjUAYOyak1j3RiAGeNlyHB0hhqlOkhwcHGBubk4T9JIWxbIsysvLkZeXBwBwcnJq8j4pUSLEyMSl5OPzQ9cBAIN8bFEmVyEpqxATN5/B9jf7IdjHjuMICdGPSqXSJkm2tpTkk9ZhZmYGAMjLy4ODg0OTu+FoMDchRmbD8TQAwKv93LDzrf7Y/fYAjOzhiCoViwX7L6OySsVxhITop3pMkrm5OceRkPam+j3XHOPiKFEixIhcyS7CiVv54PMYvBvqDYZhIBHysfKVPpBZS5BRUI7vY25xHSYhBqHuNtLamvM9R4kSIUZkU5ymNenZnk5w6fDPX+GWYgEWPd8dALDuWCpu5ZVwEh8hhLQ3lCgRYiSyCyvw26UcAMDbQ7xqPP+MnwzDfR1QpWKxcP8VsCzb2iESQki7Q4kSIUbip3NZUKlZDPSyhV8naY3nGYbBf17oAYmQhzPpD7D3QjYHURJC6hIbGwuGYRqcCsHDwwNRUVGtEpOxYBgGBw4cAADcvn0bDMMgKSmJ05j0RYkSIUbi8LV7AICXAl3qrOPa0RyznuoCAPj8UDIelilaJTZC2pN169bBysoKSqVSW1ZaWgqhUIiQkBCdunFxcWAYBjdv3kRwcDBycnIglWr+0Nm2bRtsbGxaM3Qd+iZkiYmJeO655+Dg4ACJRAIPDw+MHz8e+fn5LRKXq6srcnJy4Ofn1yL7b26UKJF2gWVZnLyVj3XHUrH44FWsO5ZqVHePZT0oR3JOMfg8BsN9HeqtOy3EE10drfCgTIHPDyW3UoSEtB+hoaEoLS3F+fPntWVxcXGQyWQ4d+4cysvLteWxsbFwdnZGly5dIBKJmm2Sw9aSl5eHESNGwM7ODn/99ReSk5OxZcsWODk56Zxnc+Lz+ZDJZBAITGOGIkqUSLsQdSQFr286g+V/XMe2U7ex/I/rCP8mDuduP+A6NAD/tCb18+iIDhaieusK+TwsHav5S+znhDv4NYm64IjpYFkW5Qplqz8MGdPXtWtXODs7IzY2VlsWGxuL0aNHw9vbG6dOndIpDw0N1f6/uustNjYWb775JoqKisAwDBiGweLFi7XblZeXY+rUqbCysoKbmxs2bNigE8Ply5cxfPhwmJmZwdbWFm+//TZKS0u1zw8bNgyzZ8/W2WbMmDGYMmWK9vmMjAzMmTNHe/zanDp1CsXFxdi0aRP8/f3h6emJ4cOHIyoqCm5ubtp6V69exbPPPgtra2tYWVkhJCQEqampAIBz587h6aefhp2dHaRSKYYOHYoLFy7U+fo+2fVW/br9/fffCAoKgrm5OYKDg3Hjxg2d7T777DM4ODjAysoK06ZNw/z589GnT586j9NcTCOdI6QJoo7cxDd/pwAAwv1kcO1ojl+TspGeX4ZX1sdj5cu98WJA3d1dreHw1VwAQFgPR73qB3l0xHuhPlgdcwvz916Gr8waXWVWLRkiIc2iokqF7p/81erHvbZkJMxF+n/lDRs2DDExMZg/fz4AICYmBh9++CHUajViYmIwYsQIKBQKxMfH47vvvquxfXBwMKKiovDJJ59ov/AtLS21z69cuRKffvopPvroI/zyyy/417/+hSFDhsDX1xfl5eV45plnMGDAAJw7dw55eXmYNm0a3nvvPWzbtk2v+Pft24fevXvj7bffxvTp0+usJ5PJoFQqsX//frz00ku1JlTZ2dkYMmQIhg0bhqNHj8La2honT57Udk2WlJRg8uTJ+Pbbb7XnNmrUKKSkpMDKSv/fSwsXLsTKlSthb2+PiIgITJ06FSdPngQA/PDDD1i6dCnWrFmDQYMGYffu3Vi5ciU8PT313n9jUaJE2rSfzmch6ogmSfq/Z7thWojmbrJ3Q32w+OBV7E/Mxoe/XIKtpRhDu9hzEmNBqVzbsvV0d/0SJQCY83QXXLxTiLiUfETsTMCv7w2CtUTYUmES0q4MGzYMc+bMgVKpREVFBRITEzFkyBCoVCptQnD69GlUVFRoW5QeJxKJIJVKwTAMZDJZjedHjRqFd955BwAwb948fP3114iNjYWvry9++OEHVFRUYMeOHbCw0KzxuHr1ajz//PP44osv4OjY8O+Jjh07gs/nw8rKqtbjVxswYAA++ugjvPbaa4iIiEC/fv0wfPhwTJo0SXuc77//HlKpFLt374ZQqPkd06VLF+0+hg8frrPP9evXo0OHDjh27Biee+65BmOttnTpUgwdOhQAMH/+fDz77LOorKyERCLBd999h7feegtvvvkmAOCTTz7B4cOHdVrZWgolSqTNKpMr8eWfmr/kZo/orE2SAEBqJsTKl3tDzbL4Neku/rUzAT/NGFjr3WYt7e/reVCzQA9na525kxrC5zH4ZoI/nv/uBNLzy/DBTxex/o1A8HimMz6CtD9mQj6uLRnJyXENERoairKyMpw7dw4PHz5Ely5d4ODggKFDh2LixIkoKytDbGws3Nzc4OVVczqPhvTq1Uv7/+pkqnp9suTkZPTu3VubJAHAoEGDoFarcePGDb0SJUMsXboUkZGROHr0KE6fPo1169bh888/x/Hjx9GzZ08kJSUhJCREmyQ9KS8vD5988gmOHj2Ke/fuQaVSoby8HJmZmQbF8fhrUr1GW15eHtzc3HDjxg1tYlmtX79+OHr0qIFnazgao0TarM0n0pFfKoe7rTneGeZT43kej8FXL/XGIB9blCtUmL7jPPJL5a0e5+GrmvFJYd3r/quvLh0tRFjzegBEfB6ir93DuuOpzR0eIc2KYRiYiwSt/jB0gLWPjw9cXFwQExODmJgYbUuHTCaDp6cnTp48iZiYmBqtKfp6MulgGAZqtWYRbJZl64y3upzH49UYd9WU5TpsbW3x8ssvY+XKlUhOToazszNWrFgB4J+10+oyZcoUJCQkICoqCqdOnUJSUhJsbW2hUBh2V+7jr0n1eVa/Jo+XVWutueQoUSJtUn6pHOuPaZKGuWFdIRLU/lYXCXhY+0YgvOwskFNUifd+vAClSl1r3ZZQrlAiLuU+AP3HJz2pt6sN/jO6BwBgxV83cDbdOAaoE2LqQkNDERsbi9jYWAwbNkxbPnToUPz11184ffp0rd1u1UQiEVQqw++u7d69O5KSklBWVqYtO3nyJHg8nrbLy97eHjk5OdrnVSoVrly50izHF4lE8Pb21h6/V69eiIuLqzMRi4uLw8yZMzFq1Cj06NEDYrG42acW6Nq1K86ePatT9vhdiS2JEiXSJq0+egtlChV6dpLi2Z5O9da1lgixfmIgLER8nE57gGV/XG+lKIHjN/MhV6rh2tEMvk0YjD2hryteDOgENQt8HX2zGSMkpP0KDQ3FiRMnkJSUpG1RAjSJ0saNG1FZWVlvouTh4YHS0lL8/fffyM/P1/t2+9dffx0SiQSTJ0/GlStXEBMTg/fffx8TJ07UdrsNHz4cv//+O37//Xdcv34d77zzTo2JLj08PHD8+HFkZ2fXmbj873//wxtvvIH//e9/uHnzJm7cuIEVK1bg0KFDGD16NADgvffeQ3FxMSZMmIDz588jJSUF//3vf7WD1H18fPDf//4XycnJOHPmDF5//fUGW6EM9f7772Pz5s3Yvn07UlJS8Nlnn+HSpUutMhUDJUqkzSlXKPFLwh0AwL9HdtVrzE5nRyuseLk3AE2X3a6zhvWtN9bha4/uduvetLlXGIbB3LCuEPAYxKcV4PKdouYKkZB2KzQ0FBUVFfDx8dEZFzR06FCUlJTA29sbrq6udW4fHByMiIgIjB8/Hvb29vjyyy/1Oq65uTn++usvPHjwAH379sVLL72Ep556CqtXr9bWmTp1KiZPnoxJkyZh6NCh8PT0rJG0LVmyBLdv34a3tzfs7Wu/WaV79+4wNzfHBx98gD59+mDAgAH46aefsGnTJkycOBGAplvu6NGjKC0txdChQxEYGIiNGzdqu8q2bNmChw8fwt/fHxMnTsTMmTPh4FD/fHCGev3117FgwQLMnTsXAQEBSE9Px5QpUyCRSJr1OLVhWFowqlGKi4shlUpRVFQEa2trrsMhj/kl4Q7m/nwR7rbmiJ07zKAEJOrITUQdSYGAx2Dbm/0wuLNdi8WpVKkR+NkRFFVUYc/bA9Dfy7bJ+5y9OxEHku7ihd7O+PZV/2aIkpDGq6ysRHp6Ojw9PVvlC420L08//TRkMhn++9//1niuvveeod/fnLcorVmzRnsigYGBiIuLq7f+sWPHEBgYCIlEAi8vL6xbt07n+Y0bNyIkJAQdOnRAhw4dMGLEiBr9mo05LjEdP53PAgC8HOhicCvNrKc6Y3QfZyjVLP71QwKSsgpbIEKNs7cfoKiiCh0tRAh079As+6y+s+/3yzm487BlZtUlhJDWVl5ejlWrVuHq1au4fv06Fi1ahCNHjmDy5MktfmxOE6U9e/Zg9uzZWLhwIRITExESEoLw8PA6bylMT0/HqFGjEBISgsTERHz00UeYOXMm9u7dq60TGxuLV199FTExMYiPj4ebmxvCwsKQnf3P7MWGHpeYjvT8MpxNfwAeA4yrZ820ujAMgy/G9UI/j44oqVTijU1nWmz27uq73Z7ydYCA3zwfRb9OUgzysYVKzWLrydvNsk9CCOEawzA4dOgQQkJCEBgYiN9++w179+7FiBEjWv7YXHa99e/fHwEBAVi7dq22rFu3bhgzZgyWLVtWo/68efNw8OBBJCf/s75VREQELl68iPj4+FqPoVKp0KFDB6xevRqTJk1q1HFrQ11vxunLP69jTWwqhnW1x7Y3+zV6P2VyJd7afg6n0x7ATMjH8nE98UJv52YbOKhWswj5MgbZhRXYOCnIoIkmG3Lk2j1M23EezlIJTs4fblLrTpG2hbreCFfaRNebQqFAQkICwsLCdMrDwsJ01tF5XHx8fI36I0eOxPnz5+u8bbG8vBxVVVXo2LFjo48LAHK5HMXFxToPYlxUahZ7L2gGcb8SVPcAS31YiAXY9mY/DO1ij4oqFWbtTsK7P15AblFlc4SKYzfvI7uwAtYSAUKaeRzUIB87iAQ83C2qROr9soY3IKSF0VBY0tqa8z3HWaKUn58PlUpVY4ZRR0dH5Obm1rpNbm5urfWVSmWdtz7Onz8fnTp10jbPNea4ALBs2TJIpVLto747HQg3Lt4pxL1iOazEAozo1vQWGomQj82TgxD5dBcIeAwOXc5F8PK/MXXbOew+m4mEjAcoLDdsQrVqW0/dBgCM7+sKiYEzBjfETMRHPw/NHwbVczQRwoXqu6JaahV6QupS/Z6razZxQ3C+hEltM23W11VQ18yctW3z5ZdfYteuXYiNja3R9GbocRcsWIDIyEjtz8XFxZQsGZmY65rp/4d0sa9zgklDCfg8zHyqM0K7OmDJ/67i3O2HOHo9D0cfHQsAbC1E6OxoiWd7OmG0f6cG11tLvV+K4zfvg2GAiQM8miXOJ4V0tsOJW/mIS8nHm4NaftFIQmrD5/NhY2OjXZrD3NycuoJJi2JZFuXl5cjLy4ONjQ34/Kb/IcpZomRnZwc+n1+jFScvL6/OdWxkMlmt9QUCAWxtdW+tXrFiBT7//HMcOXJEZ/2YxhwXAMRiMcRisV7nRrgRc0PzyzjUt3nn7wCAni5S/BwRjNT7pdh34Q4u3SlCal4p7hZVoqBMgYK0Bzid9gCfH7qOtwZ7YuZTnetM1v4bnwFAM4jbzVb/td0MEdLZHsv+uI741ALIlSqIBc3bakWIvqoXZK1OlghpDTY2NvUuBmwIzhIlkUiEwMBAREdHY+zYsdry6Oho7WygTxo4cCB+++03nbLDhw8jKChIp3ntq6++wmeffYa//voLQUFBTT4uMX55xZW4kl0MhgGGda19YrXm4G1viX+P9NX+XCZXIj2/DGfSH2D32Uyk5JVidcwtHE+5j6jxfeBlb6mzfWG5QjsZ5uRgjxaL01dmBTtLMfJL5biQUYiB3k2fo4mQxmAYBk5OTnBwcGjSWmSE6EsoFDZLS1I1TrveIiMjMXHiRAQFBWHgwIHYsGEDMjMzERERAUDT3ZWdnY0dO3YA0Nzhtnr1akRGRmL69OmIj4/H5s2bsWvXLu0+v/zyS3z88cf48ccf4eHhoW05srS0hKWlpV7HJaanujWpl4sN7Cxbr+XPQiyAXycp/DpJMXWQB/64kosF+y7j0p0iPPvtCSx+oTteCXIFwzAolSsxZes5lMqV6OxgicE+LTeZJY/HYLCPLQ4k3cWJW/cpUSKc4/P5zfrlRUhr4TRRGj9+PAoKCrBkyRLk5OTAz88Phw4dgru7OwAgJydHZ24jT09PHDp0CHPmzMH3338PZ2dnfPvttxg3bpy2zpo1a6BQKPDSSy/pHGvRokVYvHixXsclpqd6zNDwrs3f7aYvhmEwqqcT/N1s8MFPF3EqtQDz9l7Gocu56OvRAcdv5iMpqxA25kJ895p/i4/VCOlsjwNJdxGXko9/j2zRQxFCSJtFS5g0Es2jZDwUSjX8lxxGmUKFg+8NQi8XG65DglrNYmNcGlYcvoEq1T8fMSuxAD9OH4CeLtIWjyGvuBL9Pv8bDANcXBTW4CBzQghpDwz9/ub8rjdCmup8xgOUKVSwsxTDz7nlExB98HgMZgz1xpAu9vjjcg5yiiohV6rx1mDPVkmSAMDBWoJONmbILqzA1exi6n4jhJBGoESJmLzztx8CAIK9bcHjGdetx92crNHNibsWx14uUmQXVuByNg3oJoSQxuB8UVxCmiohQ5MoBXk0z8KybUl169WlO0UcR0IIIaaJEiVi0tRqFhcyNYlSgBslSk/q1ckGAHA5mxIlQghpDEqUiEm7db8UJZVKmIv48JVZcR2O0enZSdOilFFQjqJymsOGEEIMRYkSMWnV3W59XG0g4NPb+UlScyHcH83+Ta1KhBBiOPpmISatOlEKdKdut7pUtypdyi7kNhBCCDFBlCgRk3bhUaIUQIlSnXo9GtB9mQZ0E0KIwShRIibrQZkCafllAIAAV0qU6tLz0YBuuvONEEIMR4kSMVnVrUk+DpaQmtOs03Xx66SZxym7sAL5pXKOoyGEENNCiRIxWdXTAgTStAD1spII4WVvAYAGdBNCiKEoUSIm6+rdYgBAL1fjWLbEmPV4tLRLck4xx5EQQohpoUSJmKxrj770uVwixFR0f/QaXbtLiRIhhBiCEiVikvJL5bhfIgfDgCaa1EN350eJErUoEUKIQShRIiapugvJ09YC5iJa27kh1S1K6fllKFcoOY6GEEJMByVKxCRVdyFRt5t+7K3EsLMUg2WB67klXIdDCCEmgxIlYpKSteOTqNtNX9ruNxqnRAgheqNEiZik5BxNq0j1lz9pWHX3G935Rggh+qNEiZicyioVbt0vBUBdb4agAd2EEGI4SpSIybmVVwqVmoWNuRAyawnX4ZiM6hal6zklUKlZjqMhhBDTQIkSMTnVLSLdnazBMAzH0ZgOTzsLSIQ8VFSpcLugjOtwCCHEJFCiREwO3fHWOHweA18ZDegmhBBDUKJETE4yzcjdaNXjlK5SokQIIXqhRImYFJZlceOe5o43mpHbcH6P1ny7nF3IbSCEEGIiGpUopaenN1sAa9asgaenJyQSCQIDAxEXF1dv/WPHjiEwMBASiQReXl5Yt26dzvNXr17FuHHj4OHhAYZhEBUVVWMfixcvBsMwOg+ZTNZs50Razv1SOQrLq8BjAB8HS67DMTm9XDSJ0qU7RWBZGtBNCCENaVSi5OPjg9DQUOzcuROVlZWNPviePXswe/ZsLFy4EImJiQgJCUF4eDgyMzNrrZ+eno5Ro0YhJCQEiYmJ+OijjzBz5kzs3btXW6e8vBxeXl5Yvnx5vclPjx49kJOTo31cvny50edBWs/NXM20AO62FpAI+RxHY3q6yqwgEvBQUqnE7YJyrsMhhBCj16hE6eLFi/D398cHH3wAmUyGGTNm4OzZswbvZ9WqVXjrrbcwbdo0dOvWDVFRUXB1dcXatWtrrb9u3Tq4ubkhKioK3bp1w7Rp0zB16lSsWLFCW6dv37746quvMGHCBIjF4jqPLRAIIJPJtA97e/t6Y5XL5SguLtZ5kNZ381G3W2dqTWoUIZ+nnSbg0p1CboMhhBAT0KhEyc/PD6tWrUJ2dja2bt2K3NxcDB48GD169MCqVatw//79BvehUCiQkJCAsLAwnfKwsDCcOnWq1m3i4+Nr1B85ciTOnz+Pqqoqg84hJSUFzs7O8PT0xIQJE5CWllZv/WXLlkEqlWofrq6uBh2PNI+UPE2i1MWRxic1Vu/Hut8IIYTUr0mDuQUCAcaOHYuffvoJX3zxBVJTUzF37ly4uLhg0qRJyMnJqXPb/Px8qFQqODo66pQ7OjoiNze31m1yc3Nrra9UKpGfn6933P3798eOHTvw119/YePGjcjNzUVwcDAKCgrq3GbBggUoKirSPrKysvQ+Hmk+N+9put660EDuRuvpYgOAWpQIIUQfTUqUzp8/j3feeQdOTk5YtWoV5s6di9TUVBw9ehTZ2dkYPXp0g/t4csJAlmXrnUSwtvq1ldcnPDwc48aNQ8+ePTFixAj8/vvvAIDt27fXuY1YLIa1tbXOg7QulmVxM7e6RYm63hqrukXpSnYxzdBNCCENEDRmo1WrVmHr1q24ceMGRo0ahR07dmDUqFHg8TR5l6enJ9avXw9fX98692FnZwc+n1+j9SgvL69Gq1E1mUxWa32BQABbW9vGnAoAwMLCAj179kRKSkqj90FaXm5xJUrkSvB5DDztLLgOx2R52VvCQsRHmUKFW3ml6Eqtc4QQUqdGtSitXbsWr732GjIzM3HgwAE899xz2iSpmpubGzZv3lznPkQiEQIDAxEdHa1THh0djeDg4Fq3GThwYI36hw8fRlBQEIRCYWNOBYBmoHZycjKcnJwavQ/S8qq73TxszSEW0B1vjcXnMejRSdOqdJG63wghpF6NSpSio6Mxb968GrffsyyrvbVfJBJh8uTJ9e4nMjISmzZtwpYtW5CcnIw5c+YgMzMTERERADTjgiZNmqStHxERgYyMDERGRiI5ORlbtmzB5s2bMXfuXG0dhUKBpKQkJCUlQaFQIDs7G0lJSbh165a2zty5c3Hs2DGkp6fjzJkzeOmll1BcXNxgvIRbKY/ueKMWkKar7n67TAO6CSGkXo3qevP29kZOTg4cHBx0yh88eABPT0+oVCq99jN+/HgUFBRgyZIlyMnJgZ+fHw4dOgR3d3cAQE5Ojs6cSp6enjh06BDmzJmD77//Hs7Ozvj2228xbtw4bZ27d+/C399f+/OKFSuwYsUKDB06FLGxsQCAO3fu4NVXX0V+fj7s7e0xYMAAnD59WntcYpxu5FZPDUCJUlP1ejSgOymrkNM4CCHE2DFsI6bn5fF4yM3NrZEoZWRkoHv37igra/srkxcXF0MqlaKoqIgGdreS0d+fxMWsQnz/WgCe7UXdpE2RU1SBgcuOgscASYvCYC1pfNc1IYSYEkO/vw1qUYqMjASgucPsk08+gbm5ufY5lUqFM2fOoE+fPoZFTIgeWJbFrXt0x1tzcZKawcPWHLcLynEu/QGe6lb7DRSEENLeGZQoJSYmAtB8aV2+fBkikUj7nEgkQu/evXXGCxHSXLILK1CmUEHIZ+BBd7w1i4HedrhdkIlTqQWUKBFCSB0MSpRiYmIAAG+++Sa++eYb6nIirSbl0R1vXnaWEPKbNP0XeWSgty12nc1EfGrdE60SQkh716jB3Fu3bm3uOAip143qNd6o263ZDPDqCABIzi1GYbkCNuaiBrYghJD2R+9E6cUXX8S2bdtgbW2NF198sd66+/bta3JghDzu5j1a4625OVhJ0NnBEil5pTid9gDP+Mka3ogQQtoZvRMlqVSqXSZEKpW2WECE1Ka6640Gcjevgd62SMkrRXxqPiVKhBBSC70Tpce726jrjbQmtZpFSh61KLWEgV622BGfgfg0GqdECCG1adSo2IqKCpSXl2t/zsjIQFRUFA4fPtxsgRFSLethOSqr1BAJeHC3pTvemtMAL1swjGZ5mHvFlVyHQwghRqdRidLo0aOxY8cOAEBhYSH69euHlStXYvTo0Vi7dm2zBkhI9Rpv3vaW4PMYjqNpWzpYiBDg1gEA8NfV3AZqE0JI+9OoROnChQsICQkBAPzyyy+QyWTIyMjAjh078O233zZrgITcpIkmW1T4o7FJhy7ncBwJIYQYn0YlSuXl5bCy0owVOXz4MF588UXweDwMGDAAGRkZzRogISl0x1uLGtlDkyidTX+AglI5x9EQQohxaVSi5OPjgwMHDiArKwt//fUXwsLCAAB5eXk0CSVpdje0d7xRotQSXDuao2cnKdQscPjaPa7DIYQQo9KoROmTTz7B3Llz4eHhgf79+2PgwIEANK1L/v7+zRogad9Uahap92lqgJb2DHW/EUJIrRqVKL300kvIzMzE+fPn8eeff2rLn3rqKXz99dfNFhwhGQVlUCjVkAh5cO1g3vAGpFGqxynFpxagqLyK42gIIcR4NHrRLJlMBn9/f/B4/+yiX79+8PX1bZbACAH+uePNx8ESPLrjrcV42VvCV2YFpZrFH1eoVYkQQqo1aq23srIyLF++HH///Tfy8vKgVqt1nk9LS2uW4Ai5ercIANBNRmPfWtroPp1w/c/r+DnhDib0c+M6HEIIMQqNSpSmTZuGY8eOYeLEiXByctIubUJIc7ucrUmUerrQsjktbVxAJ6w4fAMJGQ9xK68UPg40JowQQhqVKP3xxx/4/fffMWjQoOaOhxAtlmVx5VGi5NeJEqWW5mAtQWhXexxJzsPPCVlYEN6N65AIIYRzjRqj1KFDB3Ts2LG5YyFER25xJfJLFeDzGHR3oq631vBykCsAYG9CNqpU6gZqE0JI29eoROnTTz/FJ598orPeGyHN7fIdTWtSZwdLSIR8jqNpH4b7OsDOUoT8UjmO3bjPdTiEEMK5RnW9rVy5EqmpqXB0dISHhweEQqHO8xcuXGiW4Ej7ph2fRN1urUbI52GsfydsjEvH7nOZGNHdkeuQCCGEU41KlMaMGdPMYRBSEw3k5saEfm7YGJeOo9fzkF1YgU42ZlyHRAghnGlUorRo0aLmjoO0MYXlChy8eBejejrBzlJs8PY0kJs73vaWGOhli/i0Auw+m4kPwrpyHRIhhHCm0RNOFhYWYtOmTViwYAEePHgAQNPllp2dbdB+1qxZA09PT0gkEgQGBiIuLq7e+seOHUNgYCAkEgm8vLywbt06neevXr2KcePGwcPDAwzDICoqqlmOS/RXrlBi0paz+OTXq5i2/TxUatbgfdBAbm69McAdALD7XBYN6iaEtGuNSpQuXbqELl264IsvvsCKFStQWFgIANi/fz8WLFig93727NmD2bNnY+HChUhMTERISAjCw8ORmZlZa/309HSMGjUKISEhSExMxEcffYSZM2di79692jrl5eXw8vLC8uXLIZPJmuW4RH8qNYtZu5Nw6dFA7KSsQmw9mW7wfmggN7ee7u4IO0sx7pfIEU0L5RJC2rFGJUqRkZGYMmUKUlJSIJFItOXh4eE4fvy43vtZtWoV3nrrLUybNg3dunVDVFQUXF1dsXbt2lrrr1u3Dm5uboiKikK3bt0wbdo0TJ06FStWrNDW6du3L7766itMmDABYnHtXT6GHpfo79u/UxB97R5EAh4mPmqVWHH4Bm7nlxm0nys0kJtTIgEPE/pqpgrYeTqD42gIIYQ7jUqUzp07hxkzZtQo79SpE3Jzc/Xah0KhQEJCAsLCwnTKw8LCcOrUqVq3iY+Pr1F/5MiROH/+PKqq9FvIszHHBQC5XI7i4mKdB6npl4Q7AIDPRvthyegeGORji8oqNRYdvGrQfs7dfggA6OVq09whEj292t8NPAY4lVqA1PulXIdDCCGcaFSiJJFIak0Ubty4AXt7e732kZ+fD5VKBUdH3duPHR0d60y2cnNza62vVCqRn5/fYscFgGXLlkEqlWofrq6ueh2vPckurEB2YQX4PAbP9tIsbfP52J5gGODYzfvILqzQaz8VChUSMjSJ0iBv25YMmdSjk40ZQrs6AAB+PEPd0oSQ9qlRidLo0aOxZMkSbSsOwzDIzMzE/PnzMW7cOIP29eQ6cSzL1rt2XG31aytv7uMuWLAARUVF2kdWVpZBx2sPzqVrBvX7OVvDQqy5odLd1gL9PTWzuP+apN9A/zPpBVCo1OhkYwZPO4uWCZbopXpQ9y8Jd1BZpeI4GkIIaX2NSpRWrFiB+/fvw8HBARUVFRg6dCh8fHxgZWWFpUuX6rUPOzs78Pn8Gq04eXl5NVp7qslkslrrCwQC2Nrq1/LQmOMCgFgshrW1tc6D6Dp7W5MoBXnoLm8z1r8TAOBAYrY2sa3PyVua1sHBPna04DLHhnSxh0sHMxRVVOF/l3K4DocQQlpdoxIla2trnDhxAvv27cPy5cvx3nvv4dChQzh27BgsLPRrARCJRAgMDER0dLROeXR0NIKDg2vdZuDAgTXqHz58GEFBQTVmB2/O4xL9nH+UKPV9IlF6xs8JIgEPN++VIjmnpMH9xKVoEqVBne2aP0hiED6Pwav93ADQoG5CSPtk8ISTarUa27Ztw759+3D79m0wDANPT0/IZLIGu6+eFBkZiYkTJyIoKAgDBw7Ehg0bkJmZiYiICACa7q7s7Gzs2LEDABAREYHVq1cjMjIS06dPR3x8PDZv3oxdu3Zp96lQKHDt2jXt/7Ozs5GUlARLS0v4+PjodVxiuIdlCty8pxnw29ejg85zUjMhnvJ1wB9XcnEgKRvdnetujbtfIsf1XE0yReOTjMP4vq6IOnITSVmFuJJdRBOAEkLaFYNalFiWxQsvvIBp06YhOzsbPXv2RI8ePZCRkYEpU6Zg7NixBh18/PjxiIqKwpIlS9CnTx8cP34chw4dgru7ZlxETk6OztxGnp6eOHToEGJjY9GnTx98+umn+Pbbb3XGRd29exf+/v7w9/dHTk4OVqxYAX9/f0ybNk3v4xLDnX80+Nrb3gK2tczEPeZR99uvSdn1TkBZ3e3Ww9m61v2Q1mdnKcYzfk4AgB9oUDchpJ1hWH0GjTyydetWzJo1C7/++itCQ0N1njt69CjGjBmD1atXY9KkSc0eqLEpLi6GVCpFUVERjVcC8PmhZGw4noYJfV2xfFyvGs/LlSr0//xvFJZXYeuUvgj1dah1P3N/vohfEu5gxhAvLBjVraXDJno6nVaACRtOw1zEx5mPnoKVRL+ubkIIMTaGfn8b1KK0a9cufPTRRzWSJAAYPnw45s+fjx9++MGQXZI24mx67eOTqokFfIwLcAFQ91gXhVKN2Bv3AQCDaXySUenv2RGdHSxRrlDhQKJhyxQRQogpMyhRunTpEp555pk6nw8PD8fFixebHBQxLXKlSjuTdl2JEgC83l8zKPjojTzceVhe4/n/XbqL/FI5HKzE6O9J45OMCcMw2uu383SmXncvEkJIW2BQovTgwYN6b6F3dHTEw4cPmxwUMS2388uhVLOwEgvg2tGsznpe9pYY5GMLlgV2ndUd68KyLDbFadaEmxzsAZGg0es1kxYyNsAFZkI+btwr0Y5JI4SQts6gbyOVSgWBoO4b5fh8PpRKZZODIqblVp7mbjdvB8sG73p8o79mwPyec3egUP6zKv3ptAe4llMMiZCnbbkgxkVqJsToPs4AgO2nbnMbDCGEtBKDpgdgWRZTpkypc7FZuVzeLEER01K9Dpi3vWWDdUd0d4SDlRh5JXKsO5aKmU91BgBsPpEGAHgp0AU25qKWC5Y0yaSBHth9Lgt/XMlFTlEFnKR1tyASQkhbYFCiNHny5AbrtIc73oiu6hYlH4eGEyUhn4dZIzpj4f4rWBV9ExIhD9kPK3AkOQ8AMHWQZ4vGSpqmu7M1+nt2xJn0B9h5OgP/HunLdUiEENKiDEqUtm7d2lJxEBP2T4uSfrOyv97fHblFlfju6C18fui6tnzGUC946dEqRbj15iBPnEl/gB/PZOL94Z0hEfK5DokQQloMjZglTaJWs9pESZ8WpWqRT3fBlGAPAIBbR3PsfKs/FoTTvEmmYEQ3B3SyMcPD8iocvHiX63AIIaRFUaJEmuRuUQUqq9QQ8hm4dTTXezuGYbDo+e74c3YIDs8ZQvMmmRABn4dJAzWD8reevE1TBRBC2jRKlEiTVI9P8rC1gIBv2NuJYRj4yqyp68YEje/rComQh+ScYu1ko4QQ0hZRokSaJPV+GQD97ngjbYeNuQgvPpppfRtNFUAIacMoUSJNYsgdb6RtqR5j9tfV3FpnWieEkLaAEiXSJKnaySb1u+ONtB1dHK0wyMcWahb4bx3r9xFCiKmjRIk0ifaON3srjiMhXJgSrJn3avfZLJTJaVZ+QkjbQ4kSabSHZQoUlCkAAF56zqFE2pbhvg7wtLNAUUUVfjqfxXU4hBDS7ChRIo1W3ZrkLJXAQmzQ3KWkjeDzGLw1WNOqtPlEOpQqdQNbEEKIaaFEiTRa2qM73mg27fbtpUAX2FqIcOdhBQ5dyeU6HEIIaVaUKJFGS8uvTpSo2609kwj5mDTQAwCw/lgqTUBJCGlTKFEijZaer+l687SjRKm9mzTQHWZCPq7eLcap1AKuwyGEkGZDiRJptPRHLUqUKJEOFiK8EqSZgHL98TSOoyGEkOZDiRJpFJWaxe0CzSSDXnY0RokA00K8wGOA4zfvIzmnmOtwCCGkWVCiRBrlbmEFFErNYridOphxHQ4xAq4dzRHe0wkAsJFalQghbQQlSqRRqrvd3G0twOcxHEdDjMWMIV4AgIMX7+JuYQXH0RBCSNNRokQahcYnkdr0crHBAK+OUKpZbD2ZznU4hBDSZJwnSmvWrIGnpyckEgkCAwMRFxdXb/1jx44hMDAQEokEXl5eWLduXY06e/fuRffu3SEWi9G9e3fs379f5/nFixeDYRidh0wma9bzauuqEyUvSpTIE2YM8QYA7DqbhaKKKo6jIYSQpuE0UdqzZw9mz56NhQsXIjExESEhIQgPD0dmZmat9dPT0zFq1CiEhIQgMTERH330EWbOnIm9e/dq68THx2P8+PGYOHEiLl68iIkTJ+KVV17BmTNndPbVo0cP5OTkaB+XL19u0XNta2gOJVKXYV3t0cXREqVyJX48U/tnmRBCTAXDcjg7XP/+/REQEIC1a9dqy7p164YxY8Zg2bJlNerPmzcPBw8eRHJysrYsIiICFy9eRHx8PABg/PjxKC4uxh9//KGt88wzz6BDhw7YtWsXAE2L0oEDB5CUlKR3rHK5HHK5XPtzcXExXF1dUVRUBGtra73301aEfHkUWQ8q8NOMgejn2ZHrcIiR+fl8Fv79yyU4WIkRNy8UYgGf65AIIQSA5vtbKpXq/f3NWYuSQqFAQkICwsLCdMrDwsJw6tSpWreJj4+vUX/kyJE4f/48qqqq6q3z5D5TUlLg7OwMT09PTJgwAWlp9d+ls2zZMkilUu3D1dVVr/Nsi+RKFe481AzUpTFKpDaj+3SCo7UYeSVy/Jp0l+twCCGk0ThLlPLz86FSqeDo6KhT7ujoiNzc2teLys3NrbW+UqlEfn5+vXUe32f//v2xY8cO/PXXX9i4cSNyc3MRHByMgoK6ZxResGABioqKtI+srPa7UnpmQTlYFrASC2BnKeI6HGKERAIepg7SLJa7/lgq1Gpa1oQQYpo4H8zNMLq3lrMsW6OsofpPlje0z/DwcIwbNw49e/bEiBEj8PvvvwMAtm/fXudxxWIxrK2tdR7tVfX4JE97i3qvFWnfXuvvBiuJAKn3y/DXVVoslxBimjhLlOzs7MDn82u0HuXl5dVoEaomk8lqrS8QCGBra1tvnbr2CQAWFhbo2bMnUlJSGnMq7Q5NDUD0YSURYkqwBwBgdcwtWiyXEGKSOEuURCIRAgMDER0drVMeHR2N4ODgWrcZOHBgjfqHDx9GUFAQhEJhvXXq2iegGaidnJwMJyenxpxKu5NyT7MYLi1dQhry5iBP7WK5x27e5zocQggxGKddb5GRkdi0aRO2bNmC5ORkzJkzB5mZmYiIiACgGRc0adIkbf2IiAhkZGQgMjISycnJ2LJlCzZv3oy5c+dq68yaNQuHDx/GF198gevXr+OLL77AkSNHMHv2bG2duXPn4tixY0hPT8eZM2fw0ksvobi4GJMnT261czdlN+5p1vHqKrPiOBJi7DpaiPB6fzcAwPcxtziOhhBCDCfg8uDjx49HQUEBlixZgpycHPj5+eHQoUNwd3cHAOTk5OjMqeTp6YlDhw5hzpw5+P777+Hs7Ixvv/0W48aN09YJDg7G7t278X//93/4+OOP4e3tjT179qB///7aOnfu3MGrr76K/Px82NvbY8CAATh9+rT2uKRuKjWrbVHypUSJ6GH6EC/siM/AudsPcSatAP29bLkOiRBC9MbpPEqmzNB5GNqK1PuleGrlMU13yn9GgkfrvBE9fLT/Mn48k4khXeyxY2o/rsMhhLRjJjOPEjFN13NKAABdHC0pSSJ6+9dQb/B5DI7fvI9Ldwq5DocQQvRGiRIxyI1czfgkX1n7aUUjTefa0RyjezsDoLFKhBDTQokSMcj1XE2LEg3kJob61zDNYrl/Xb2HG4/eR4QQYuwoUSIGqU6UaCA3MVRnRyuM6ikDAKw4fIPjaAghRD+UKBG9lcmVyHxQDoBalEjjRD7dFTwGiL52DwkZD7kOhxBCGkSJEtHbzXua1iR7KzFsLcUcR0NMkY+DJV4O1Cwo/cWf12m2bkKI0aNEiejtBnW7kWYwa0RniAQ8nE1/gNgbNFs3IcS4UaJE9KYdyO1IiRJpPGcbM0weqJncdfFvV1FZpeI4IkIIqRslSkRv13Np6RLSPGY+1RkyawkyCsrxzd+0GDUhxHhRokT0olCqcTGrCADg10nKcTTE1FlJhFgyugcAYMPxNCTnFHMcESGE1I4SJaKXS3cKUVGlQkcLEXW9kWYR1kOGcD8ZVGoWc/YkoVSu5DokQgipgRIlopdTqQUAgIFetrR0CWk2/3mhB+wsxbieW4L3f7wApUrNdUiEEKKDEiWil/hHidIAb1r5nTQfB2sJNk0OgkTIQ8yN+1h08CpUapoygBBiPChRIg2qrFIhIVMzOWAwJUqkmfVxtcHXr/QBwwA/nMnElK1nkV8q5zosQggBQIkS0cOFjIdQKNVwtBbDy86C63BIGxTe0wmrXukNiZCHuJR8PBMVh01xaSiurOI6NEJIOyfgOgBi/OLT/hmfxDA0Pom0jLH+LujhLMW7P1xASl4pPvs9GV9H38Twbo4Y7muPoV0c0NFCxHWYhJB2hhIl0qDqgdzB3nYcR0Laui6OVvjt/cHYn5iNzSfScSuvFL9dvIvfLt4FwwD+rjYY0d0RY/07wUlqxnW4hJB2gGFpsaVGKS4uhlQqRVFREaytrbkOp8UUlVch8LNoKNUs4j4MhWtHc65DIu0Ey7JIyHiIo9fzcPR6nnZmeABgGGCwjx1eCnTByB4ySIR8DiMlhJgSQ7+/qUWJ1GvXuUwo1Sx8ZVaUJJFWxTAMgjw6IsijIz58xhc5RRU4ej0PB5Pu4kz6A8Sl5CMuJR9WEgGe7+2MV4Jc0dtFSt3DhJBmRS1KjdQeWpSqVGoM+TIGOUWV+PKlXnglyJXrkAgBAGQUlGHvhWzsTbiD7MIKbXkXR0u8HOiKMf6dYG8l5jBCQoixMvT7mxKlRmoPidKvSdmYtTsJdpYinJg3nLo3iNFRq1mcTivAzwl3cOhyDuRKzYSV1eOZQrs6INCjA3q52MBSTA3ohBDqeiPNhGVZbD6RDgCYOMCDkiRilHg8BsE+dgj2scPiF3rgf5fu4qfzd3AxqxAXMjUPAOAxQGcHK/RxtYGfixS+Mit0cbCC1FzI7QkQQowetSg1UltvUTp8NRdv/zcBIgEP8fOHw9aSujGI6cgpqkDM9fs4eSsfSVmFOt1zj5NZS9DZ0RIuHczgJDWD1EwIMyEfapZFcWUViiuUKKmsQnGlEg/LFSgsr4JCqQYLQCzgwd5KDCepBF1lVujuZI1uTtb0RwUhRo5alEiTJWQ8xMzdiQCA1/u7UZJETI6T1Ayv9XfDa/3dAAB5xZVIzCpEUlYhrucU4+a9UmQXViC3uBK5xZXNdlwhn0EPZykC3DogwN0GAW4d4GxD0xgQYso4b1Fas2YNvvrqK+Tk5KBHjx6IiopCSEhInfWPHTuGyMhIXL16Fc7Ozvjwww8RERGhU2fv3r34+OOPkZqaCm9vbyxduhRjx45t0nGf1BZblFiWRXxqAf71wwUUVVRhaBd7bJocBCGfJnAnbU9xZRVS7pUiNe9R0lRUiVK5EuUKJXgMA6mZEFYSAawf/WtjLoKNmRBiIR8MgHKFCvdL5bjzsBzJOSW4ml2EgjJFjeM4SSXo42oDDzsLuHYwh425EGYiPsyFfFiIBZAIeRDweBDwmcf+ZSDg8yAW8Frl81dZpUJheRUqqlRQKNXg8xiI+DxYSgSwlgggoN8BpA0xqRalPXv2YPbs2VizZg0GDRqE9evXIzw8HNeuXYObm1uN+unp6Rg1ahSmT5+OnTt34uTJk3jnnXdgb2+PcePGAQDi4+Mxfvx4fPrppxg7diz279+PV155BSdOnED//v0bdVyusSwLpZqFUsVCoVKjTK5EmVyJkkf/llYqUVr9f7kSpXIVSuVVKJOrwOcxsBBpfiFbiAWwEPFhJdH84hfyeeDxGDwsUyDrQTn+vJqLq3eLAWjW31r7RgAlSaTNspYIEejeAYHuHZplfyzLIvNBOS5kPsSFjEJcyHyI67klyCmqRE5RbqP3KxHyYCnWfGYtxY8eEgGsHv375M/mIgF4DAM1y4JlWahZTSL0sLwKheUKPCxX4GF5FfJL5LhfKsf9EjlKKpX1xqBJFIWwMRNBaiaE1FwIGzPhP2XmQliIBBDyGQj5mmRPyOf98zOPp/OciM+D4NH/eY+mc6ie1KF6dgfmUcnjsz3o/P+J5//Zvo790bQRpJE4bVHq378/AgICsHbtWm1Zt27dMGbMGCxbtqxG/Xnz5uHgwYNITk7WlkVERODixYuIj48HAIwfPx7FxcX4448/tHWeeeYZdOjQAbt27WrUcQFALpdDLv9noc6ioiK4ubkhKyurWVuUoq/mYvFvV6FUs6hSsVCp2VZdTV0k4OGF3s6YPaIzbMxpuQhCmqJcocSVO8VIzi1C9sMKZBdWoLRShfIqJSoUKpQrVKisUkHFaj7varXmjyIu8HkMzIQ8iPg8KNWaP8oqq9ScxNJa9E2ytCWP/cMwuvUe3wfzZN3HkjpK1wwzorsjFr/g16z7LC4uhqurKwoLCyGVShvegOWIXC5n+Xw+u2/fPp3ymTNnskOGDKl1m5CQEHbmzJk6Zfv27WMFAgGrUChYlmVZV1dXdtWqVTp1Vq1axbq5uTX6uCzLsosWLWIB0IMe9KAHPehBjzbwyMrK0itf4azrLT8/HyqVCo6Ojjrljo6OyM2tvZk6Nze31vpKpRL5+flwcnKqs071PhtzXABYsGABIiMjtT+r1Wo8ePAAtrats1BsdQbc3C1YxoTOsW2gc2wb6BzbBjrHmliWRUlJCZydnfXaP+d3vT2ZZLAsW2/iUVv9J8v12aehxxWLxRCLde/+srGxqbN+S7G2tm6zb/ZqdI5tA51j20Dn2DbQOerSq8vtEc5G6trZ2YHP59doxcnLy6vR2lNNJpPVWl8gEMDW1rbeOtX7bMxxCSGEENI+cZYoiUQiBAYGIjo6Wqc8OjoawcHBtW4zcODAGvUPHz6MoKAgCIXCeutU77MxxyWEEEJIO6XXSKYWsnv3blYoFLKbN29mr127xs6ePZu1sLBgb9++zbIsy86fP5+dOHGitn5aWhprbm7Ozpkzh7127Rq7efNmVigUsr/88ou2zsmTJ1k+n88uX76cTU5OZpcvX84KBAL29OnTeh/XGFVWVrKLFi1iKysruQ6lxdA5tg10jm0DnWPbQOfYdJwmSizLst9//z3r7u7OikQiNiAggD127Jj2ucmTJ7NDhw7VqR8bG8v6+/uzIpGI9fDwYNeuXVtjnz///DPbtWtXVigUsr6+vuzevXsNOi4hhBBCCMuyLOczcxNCCCGEGCuadpkQQgghpA6UKBFCCCGE1IESJUIIIYSQOlCiRAghhBBSB0qUTMCaNWvg6ekJiUSCwMBAxMXFcR1Soy1btgx9+/aFlZUVHBwcMGbMGNy4cUOnzpQpUzQLSz72GDBgAEcRG27x4sU14pfJZNrnWZbF4sWL4ezsDDMzMwwbNgxXr17lMGLDeXh41DhHhmHw7rvvAjDNa3j8+HE8//zzcHZ2BsMwOHDggM7z+lw3uVyO999/H3Z2drCwsMALL7yAO3futOJZ1K++c6yqqsK8efPQs2dPWFhYwNnZGZMmTcLdu3d19jFs2LAa13bChAmtfCZ1a+g66vPeNOXrCKDWzybDMPjqq6+0dYz9OurzXdFan0lKlIzcnj17MHv2bCxcuBCJiYkICQlBeHg4MjMzuQ6tUY4dO4Z3330Xp0+fRnR0NJRKJcLCwlBWVqZT75lnnkFOTo72cejQIY4ibpwePXroxH/58mXtc19++SVWrVqF1atX49y5c5DJZHj66adRUlLCYcSGOXfunM75VU/g+vLLL2vrmNo1LCsrQ+/evbF69epan9fnus2ePRv79+/H7t27ceLECZSWluK5556DSqVqrdOoV33nWF5ejgsXLuDjjz/GhQsXsG/fPty8eRMvvPBCjbrTp0/Xubbr169vjfD10tB1BBp+b5rydQSgc245OTnYsmULGIbBuHHjdOoZ83XU57ui1T6TnE5OQBrUr18/NiIiQqfM19eXnT9/PkcRNa+8vDwWQI35s0aPHs1dUE20aNEitnfv3rU+p1arWZlMxi5fvlxbVllZyUqlUnbdunWtFGHzmzVrFuvt7c2q1WqWZU3/GgJg9+/fr/1Zn+tWWFjICoVCdvfu3do62dnZLI/HY//8889Wi11fT55jbc6ePcsCYDMyMrRlQ4cOZWfNmtWywTWT2s6xofdmW7yOo0ePZocPH65TZkrXkWVrfle05meSWpSMmEKhQEJCAsLCwnTKw8LCcOrUKY6ial5FRUUAgI4dO+qUx8bGwsHBAV26dMH06dORl5fHRXiNlpKSAmdnZ3h6emLChAlIS0sDAKSnpyM3N1fnmorFYgwdOtRkr6lCocDOnTsxdepUnYWlTf0aPk6f65aQkICqqiqdOs7OzvDz8zPZa1tUVASGYWosAP7DDz/Azs4OPXr0wNy5c02qNRSo/73Z1q7jvXv38Pvvv+Ott96q8ZwpXccnvyta8zMpaI4TIC0jPz8fKpWqxmK9jo6ONRb1NUUsyyIyMhKDBw+Gn5+ftjw8PBwvv/wy3N3dkZ6ejo8//hjDhw9HQkICxGIxhxHrp3///tixYwe6dOmCe/fu4bPPPkNwcDCuXr2qvW61XdOMjAwuwm2yAwcOoLCwEFOmTNGWmfo1fJI+1y03NxcikQgdOnSoUccUP6+VlZWYP38+XnvtNZ0V2V9//XV4enpCJpPhypUrWLBgAS5evFhj/Uxj1dB7s61dx+3bt8PKygovvviiTrkpXcfavita8zNJiZIJePyvdEDzpnmyzBS99957uHTpEk6cOKFTPn78eO3//fz8EBQUBHd3d/z+++81PuzGKDw8XPv/nj17YuDAgfD29sb27du1g0bb0jXdvHkzwsPD4ezsrC0z9WtYl8ZcN1O8tlVVVZgwYQLUajXWrFmj89z06dO1//fz80Pnzp0RFBSECxcuICAgoLVDNVhj35umeB0BYMuWLXj99dchkUh0yk3pOtb1XQG0zmeSut6MmJ2dHfh8fo3MNy8vr0YWbWref/99HDx4EDExMXBxcam3rpOTE9zd3ZGSktJK0TUvCwsL9OzZEykpKdq739rKNc3IyMCRI0cwbdq0euuZ+jXU57rJZDIoFAo8fPiwzjqmoKqqCq+88grS09MRHR2t05pUm4CAAAiFQpO9tk++N9vKdQSAuLg43Lhxo8HPJ2C817Gu74rW/ExSomTERCIRAgMDazSFRkdHIzg4mKOomoZlWbz33nvYt28fjh49Ck9Pzwa3KSgoQFZWFpycnFohwuYnl8uRnJwMJycnbVP349dUoVDg2LFjJnlNt27dCgcHBzz77LP11jP1a6jPdQsMDIRQKNSpk5OTgytXrpjMta1OklJSUnDkyBHY2to2uM3Vq1dRVVVlstf2yfdmW7iO1TZv3ozAwED07t27wbrGdh0b+q5o1c9kU0ahk5a3e/duVigUsps3b2avXbvGzp49m7WwsGBv377NdWiN8q9//YuVSqVsbGwsm5OTo32Ul5ezLMuyJSUl7AcffMCeOnWKTU9PZ2NiYtiBAweynTp1YouLizmOXj8ffPABGxsby6alpbGnT59mn3vuOdbKykp7zZYvX85KpVJ237597OXLl9lXX32VdXJyMpnzq6ZSqVg3Nzd23rx5OuWmeg1LSkrYxMRENjExkQXArlq1ik1MTNTe8aXPdYuIiGBdXFzYI0eOsBcuXGCHDx/O9u7dm1UqlVydlo76zrGqqop94YUXWBcXFzYpKUnn8ymXy1mWZdlbt26x//nPf9hz586x6enp7O+//876+vqy/v7+JnGO+r43Tfk6VisqKmLNzc3ZtWvX1tjeFK5jQ98VLNt6n0lKlEzA999/z7q7u7MikYgNCAjQuZXe1ACo9bF161aWZVm2vLycDQsLY+3t7VmhUMi6ubmxkydPZjMzM7kN3ADjx49nnZycWKFQyDo7O7Mvvvgie/XqVe3zarWaXbRoESuTyVixWMwOGTKEvXz5MocRN85ff/3FAmBv3LihU26q1zAmJqbW9+bkyZNZltXvulVUVLDvvfce27FjR9bMzIx97rnnjOq86zvH9PT0Oj+fMTExLMuybGZmJjtkyBC2Y8eOrEgkYr29vdmZM2eyBQUF3J7YY+o7R33fm6Z8HautX7+eNTMzYwsLC2tsbwrXsaHvCpZtvc8k8yggQgghhBDyBBqjRAghhBBSB0qUCCGEEELqQIkSIYQQQkgdKFEihBBCCKkDJUqEEEIIIXWgRIkQQgghpA6UKBFCCCGE1IESJUJIu7dt2zbY2NhwHQYhxAhRokQI4dyUKVMwZsyYGuWxsbFgGAaFhYWtHlN9bt++DYZhtA+pVIoBAwbgt99+a9R+kpKSWiZQQkiTtZlEac2aNfD09IREIkFgYCDi4uL02u7kyZMQCATo06dPywZICDFKVVVVjd72yJEjyMnJwZkzZ9CvXz+MGzcOV65cacboCCFcE3AdQHPYs2cPZs+ejTVr1mDQoEFYv349wsPDce3aNbi5udW5XVFRESZNmoSnnnoK9+7dM+iYarUad+/ehZWVFRiGaeopENKuKRQKVFVVobi4WKe8rKwMAFBcXAwej4dff/0VS5cuRVpaGmQyGWbMmIH3339fW18qleKHH37Ac889py1zdXXF8uXL8frrryMjIwO9evXC1q1bsWnTJpw7dw5ff/01GIYBy7IoLi7W1omJiUFAQIB2P+vWrcN3332HK1euoKSkBAAgFothbm4Oc3NzzJs3D9999x0OHTqk/b0THR2Nr776CsnJyeDz+ejbty+++OILeHl5AYB2RXR/f38AwKBBg3Do0CEAwM6dOxEVFYWMjAy4ubkhIiIC06dPb9bXnZD2iGVZlJSUwNnZGTxew+1FbWKtt/79+yMgIABr167VlnXr1g1jxozBsmXL6txuwoQJ6Ny5M/h8Pg4cOGBQ8/edO3fg6uralLAJIYQQwpGsrCy4uLg0WM/kW5QUCgUSEhIwf/58nfKwsDCcOnWqzu22bt2K1NRU7Ny5E5999lmDx5HL5ZDL5dqfq/PLrKwsWFtbNzJ6QgghhLSm4uJiuLq6wsrKSq/6Jp8o5efnQ6VSwdHRUafc0dERubm5tW6TkpKC+fPnIy4uDgKBfi/BsmXL8J///KdGubW1NSVKhBBCiInRd9hMmxnM/eQJsyxb64ugUqnw2muv4T//+Q+6dOmi9/4XLFiAoqIi7SMrK6vJMRNCCCHEuJl8i5KdnR34fH6N1qO8vLwarUwAUFJSgvPnzyMxMRHvvfceAM3AbJZlIRAIcPjwYQwfPrzGdmKxGGKxuGVOghBCCCFGyeRblEQiEQIDAxEdHa1THh0djeDg4Br1ra2tcfnyZSQlJWkfERER6Nq1K5KSktC/f//WCp0QQgghRs7kW5QAIDIyEhMnTkRQUBAGDhyIDRs2IDMzExEREQA03WbZ2dnYsWMHeDwe/Pz8dLZ3cHCARCKpUU4I17ILK1BSWQVfGY2DI6Q2LMtCqVRCpVJxHQoxEnw+HwKBoNmm7mkTidL48eNRUFCAJUuWICcnB35+fjh06BDc3d0BADk5OcjMzOQ4SkL0V1mlwtrYVKyNTYVCpca/R3bFO8O8ac4uQh6jUCiQk5OD8vJyrkMhRsbc3BxOTk4QiURN3lebmEeJC8XFxZBKpSgqKqK73kizKqmswktr43HjXolO+bgAFywf1xNCvsn3mBPSZGq1GikpKeDz+bC3t4dIJKI/JAhYloVCocD9+/ehUqnQuXPnGpNKGvr93SZalAhpS344k4kb90pgayHCktF+KCiTY/HBq9h74Q5kUjH+PdKX6xAJ4ZxCoYBarYarqyvMzc25DocYETMzMwiFQmRkZEChUEAikTRpf/SnKSFGRKFUY+vJdADA/HBfPNvLCZMGeuDr8X0AABuOpyHliZYmQtozfZagIO1Pc74v6B1GiBH57eJd3CuWw8FKjBf6OGvLX+jtjBHdHFClYrFw/xVQjzkhhLQOSpQIMRIsy2JjXBoA4M1BnhAL+NrnGIbB4hd6wEzIx9nbD/Bzwh2uwiSEkHaFEiVCjERcSj6u55bAQsTHa/3dajzv0sEcs0d0BgAsO5SMB2WK1g6REMKB2NhYMAyDwsLCeut5eHggKiqqVWIyxLBhwzB79mztz8YaZ10oUSLESPyadBcA8FKgC6RmwlrrTB3sCV+ZFR6WV+HzQ8mtGR4hpInWrVsHKysrKJVKbVlpaSmEQiFCQkJ06sbFxYFhGNy8eRPBwcHIycmBVCoFAGzbtg02NjbNElNeXh5mzJgBNzc3iMViyGQyjBw5EvHx8c2y/9qcO3cOb7/9dovtv7lRokTaHZZljW6Mj1Klxt/X7wEARvV0qrOekM/D0rE9wTDALwl3cDqtoLVCJIQ0UWhoKEpLS3H+/HltWVxcHGQyGc6dO6czH1RsbCycnZ3RpUsXiEQiyGSyFpn+YNy4cbh48SK2b9+Omzdv4uDBgxg2bBgePHjQ7MeqZm9vb1J3KlKiRNqFglI53v3hAoZ+FYOuH/+JYStiEXM9j+uwtM7efoDC8ip0tBAh0L1DvXUD3Tvg1X6arrmP9l1GqVxZb31C2gOWZVGuUHLy0PcPr65du8LZ2RmxsbHastjYWIwePRre3t44deqUTnloaKj2/9Vdb7GxsXjzzTdRVFQEhmE04xcXL9ZuV15ejqlTp8LKygpubm7YsGFDnfEUFhbixIkT+OKLLxAaGgp3d3f069cPCxYswLPPPqtT7+2334ajo6N2FYv//e9/AICCggK8+uqrcHFxgbm5OXr27Ildu3bV+zo82fXGMAw2bdqEsWPHwtzcHJ07d8bBgwd1tjl48CA6d+4MMzMzhIaGYvv27Xp1RzYHmkeJtHkFpXK8vukMruf+c1t9RkE53tx2Di8GdMJnY/xgLuL2o3D4qqY16SlfBwj0mFBy3khf/J18D2n5ZZi39xJWv+pPk+2Rdq2iSoXun/zFybGvLRmp9++QYcOGISYmBvPnzwcAxMTE4MMPP4RarUZMTAxGjBgBhUKB+Ph4fPfddzW2Dw4ORlRUFD755BPcuHEDAGBpaal9fuXKlfj000/x0Ucf4ZdffsG//vUvDBkyBL6+Nedfs7S0hKWlJQ4cOIABAwbUuvC7Wq1GeHg4SkpKsHPnTnh7e+PatWvg8zU3m1RWViIwMBDz5s2DtbU1fv/9d0ycOBFeXl4GrZ36n//8B19++SW++uorfPfdd3j99deRkZGBjh074vbt23jppZcwa9YsTJs2DYmJiZg7d67e+24qalEibdrDMoU2SXKwEmPH1H6ImTsM0wZ7gmGAfRey8d6PiVCq1JzFyLIsoq9pEqWwHjK9tpGaC7Hm9QAIeAx+v5SDzSfSWzJEQkgzGTZsGE6ePAmlUomSkhIkJiZiyJAhGDp0qLal6fTp06ioqNC2KD1OJBJBKpWCYRjIZDLIZDKdRGnUqFF455134OPjg3nz5sHOzk6nBetxAoEA27Ztw/bt22FjY4NBgwbho48+wqVLl7R1jhw5grNnz2Lfvn14+umn4eXlheeeew7h4eEAgE6dOmHu3Lno06cPvLy88P7772PkyJH4+eefDXpdpkyZgldffRU+Pj74/PPPUVZWhrNnzwLQjO3q2rUrvvrqK3Tt2hUTJkzAlClTDNp/U1CLEmnTPvs9GddzS2BvJcautwfA217zC+X/nuuOp7o54s1tZ3H0eh4W7r+C5eN6ctIqc/VuMbILK2Am5COks53e2wW6d8T/PdsNi3+7hmV/XEcvFxv08+zYgpESYrzMhHxcWzKSs2PrKzQ0FGVlZTh37hwePnyILl26wMHBAUOHDsXEiRNRVlaG2NhYuLm5wcvLy+BYevXqpf1/dTKVl1f3MINx48bh2WefRVxcHOLj4/Hnn3/iyy+/xKZNmzBlyhQkJSXBxcUFXbp0qXV7lUqF5cuXY8+ePcjOzoZcLodcLoeFhUWj47awsICVlZU27hs3bqBv37469fv162fQ/puCWpRIm3U9txj7EjXzDa2fGKhNkqoN9LbFd68GgMcAe85nYfXRW1yEicOPWpOGdLGDxIBfuAAwOdgDo/s4Q6Vm8e6PF5BXXNkSIRJi9BiGgblIwMnDkD+wfHx84OLigpiYGMTExGDo0KEAAJlMBk9PT5w8eRIxMTEYPnx4o14HoVD3jlmGYaBW199iLpFI8PTTT+OTTz7BqVOnMGXKFCxatAiAZjmQ+qxcuRJff/01PvzwQxw9ehRJSUkYOXIkFArDpi+pL26WZWu8xq15Qw4lSqTN+uKP62BZ4NmeTghwq32A9NPdHfHpGD8AwKojN3H00Z1nrenw1VwAQFh3/brdHscwDJa92BNdHa1wv0SOd3+8gCoOuxEJIQ0LDQ1FbGwsYmNjMWzYMG350KFD8ddff+H06dO1drtVE4lEUKlULRZf9+7dUVZWBkDT0nPnzh3cvHmz1rpxcXEYPXo03njjDfTu3RteXl5ISUlp1nh8fX1x7tw5nbLH7xxsaZQokTYpPrUAMTfug89jMHdk13rrvt7fHW8McAPLArN2JyE9v6yVogQyC8pxPbcEfB6D4b4OjdqHuUiAtW8EwEoswLnbD7EpjsYrEWLMQkNDceLECSQlJWlblABNorRx40ZUVlbWmyh5eHigtLQUf//9N/Lz83WmFTBEQUEBhg8fjp07d+LSpUtIT0/Hzz//jC+//BKjR4/WxjRkyBCMGzcO0dHRSE9Pxx9//IE///wTgKaFLDo6GqdOnUJycjJmzJiB3NzcRsVTlxkzZuD69euYN28ebt68iZ9++gnbtm0DgFYZLkGJEmmToo5o/vp5tZ8rPO0a7iv/5LkeCHCzQUmlEm/vOI/iyqqWDhEAcPia5hdKP4+O6GAhavR+vOwt8fFz3QEAW06mQ65sub82CSFNExoaioqKCvj4+MDR0VFbPnToUJSUlMDb2xuurq51bh8cHIyIiAiMHz8e9vb2+PLLLxsVh6WlJfr374+vv/4aQ4YMgZ+fHz7++GNMnz4dq1ev1tbbu3cv+vbti1dffRXdu3fHhx9+qG3R+vjjjxEQEICRI0di2LBhkMlkGDNmTKPiqYunpyd++eUX7Nu3D7169cLatWuxcOFCAKj1Tr3mxrDGNvOeiSguLoZUKkVRURGsra25Doc8Ju1+KYavPAYeA5yYNxzONvX3sVe7V1yJ5787gbwSOUI622HrlL563arfFK+sj8fZ9AdY9Hx3vDnIs0n7UijVCPnyKO4Vy/HlS73wSlDdv2gJMXWVlZVIT0+Hp6cnJBIJ1+GQVrZ06VKsW7cOWVlZtT5f3/vD0O9valEibc4vjxaMHdLFXu8kCQAcrSXYPLkvzIR8xKXkY/FvV1t0wGBBqRznb2tmv326u2MDtRsmEvC0ydbG42lGN/s4IYQ01po1a3Du3DmkpaXhv//9L7766itMnjy5VY5NiRJpU5QqtTZRGt+IFpWeLlJETegDhgF2ns7EZ78nt1jC8ff1PKhZoIezNVw6NM90/q/2c4OFiI+UvFLE3rzfLPskhBCupaSkYPTo0ejevTs+/fRTfPDBBzozkrckSpRIm3I85T7ySuToaCHCU90a10ozsocMS0Zr7oTbfCId/3fgCtTq5k+WqmfjbszdbnWRmgkx4dHyJjtO3W62/RJCCJe+/vpr3L17F5WVlbh58yY+/vhjCAStMxUkJUqkTfnpnKY1aUyfThAJGv/2njjAHV+M0yw++8OZTLy26TSyHjTuzpLaPCxT4HiKpsUnrEfTu90eVz026VRqASqraFA3IYQ0BSVKpM0oqqjCkWRNK80rfV2avL/xfd3wzQR/mAn5OJ32AOHfxOHbv1Nwt7Ciyfvecz4LCqUaPZyt4SuzavL+HtfF0RKO1mLIlWqcv/2wWfdNiLGhsXikNs35vqAlTEibEZdyH0o1Cx8HS/jKmudOxBd6O6O3ixQf/HQR5zMeYlX0TUQduYmenaTwcbCCt4MFvO0t0dnBEp52FnrN6aFUqfHf+AwAwJRgj2afB4RhGIR0tscvCXcQl3Ifgw1YFoUQU1E9k3N5eXmDs0eT9qd6bqknZ/xuDEqUSJtx9LpmXaDQrvbNul93WwvsmTEQBy9mY/fZLJxJf4CLd4pw8U6RTj1fmRVe7++GFwNcYCGu+6N1JDkP2YUV6GghwvO9nZs11mohne3wS8IdHE/Jx4IWOQIh3OLz+bCxsdGuB2Zubs7JWo3EuLAsi/LycuTl5cHGxgZ8vmHLQtWGEiXSJqjVLI7d0Iz5CW3kDNf14fMYjPV3wVh/F2Q9KMeV7CLcyitF6v1SpN4vw43cElzPLcHHv17F+uNpiBrfB0EetS9Qu/3RIOsJfV0NXttNX4N9NK1IyTnFuF8ih71Vy0/KRkhrk8k0N0LUt+graZ9sbGy074+mokSJtAmXsotQUKaAlViAvnUkKM3FtaM5XDvq3s5fWK7AvgvZ2HwiHXceVuCV9fF4f3hnvD/cR2fSypjreYhPKwCfx+CNAe4tFqOtpRh+naxxJbsYJ2/lY4x/pxY7FiFcYRgGTk5OcHBwQFVV68ymT4yfUChslpakapQokTahutstpIsdhC08m3ZtbMxFmDrYEy8HuWDRr1exLzEb3/ydgriU+4ga7w83W3PEpxYgYmcCAOCVIBeDJsNsjJDO9riSXYzjKfcpUSJtGp/Pb9YvRkIeR4kSaRNitOOTmr/bzRBWEiFWje+DoV3t8X8HruBCZiFCV8ZCZi1BQZkccqUaI7o5aOdpakkhPnZYG5uKuJR8sCxL4zcIIaQRaHoAYvLySipxOVszsHpoMw/kbqzRfTrhj1kh6OfZESo1i+zCClRWqRHS2Q6rXwtolVavQI8OEPF5uF8ix52HTZ/SgBBC2iNqUSImLz61AADQs5MUDlbGszimSwdz7Hl7AO4Vy3G3qAIKpRpB7h1afKHdamIBH75OVrh0pwiX7hTVGFdFCCGkYdSiRExeQoZmUsV+ni07iLsxGIaBTCpBgFsHDPCybbUkqVrPTlIAwKXswlY9LiGEtBWUKBGTV50oBbp34DgS49PLRZMoXX5izidCCCH6aTOJ0po1a+Dp6QmJRILAwEDExcXVWffEiRMYNGgQbG1tYWZmBl9fX3z99detGC1pLmVyJZJzigFQolSbnp1sAACXs4taZGFfQghp69rEGKU9e/Zg9uzZWLNmDQYNGoT169cjPDwc165dg5ubW436FhYWeO+999CrVy9YWFjgxIkTmDFjBiwsLPD2229zcAaksS5mFULNAp1szOBobTzjk4xFZ0dLiAU8lFQqkfGgHJ52FlyHRAghJqVNtCitWrUKb731FqZNm4Zu3bohKioKrq6uWLt2ba31/f398eqrr6JHjx7w8PDAG2+8gZEjR9bbCiWXy1FcXKzzINyjbrf6Cfk8dHfWrHt36U4ht8EQQogJMvlESaFQICEhAWFhYTrlYWFhOHXqlF77SExMxKlTpzB06NA66yxbtgxSqVT7cHV1bVLcpHkkZFKi1JBenWicEiGENJbJJ0r5+flQqVRwdHTUKXd0dERubm6927q4uEAsFiMoKAjvvvsupk2bVmfdBQsWoKioSPvIyspqlvhJ46nVLC5Qi1KDerrYANAs80IIIcQwbWKMEoAasw7rMxNxXFwcSktLcfr0acyfPx8+Pj549dVXa60rFoshFtPCosYk9X4piiuVMBPy4Suz4joco1V959vV7CKo1Cz4PJqhmxBC9GXyiZKdnR34fH6N1qO8vLwarUxP8vT0BAD07NkT9+7dw+LFi+tMlIjxqR6f1MfVptXnJzIl3vaWMBPyUaZQIT2/FD4OlFQSQoi+TP7bRSQSITAwENHR0Trl0dHRCA4O1ns/LMtCLpc3d3ikBSVlFQIA/N1sOI3D2PF5DHo8GtB9mbrfCCHEICbfogQAkZGRmDhxIoKCgjBw4EBs2LABmZmZiIiIAKAZX5SdnY0dO3YAAL7//nu4ubnB19cXgGZepRUrVuD999/n7ByI4arnT/J7NFiZ1K27szXOZzxEck4JxvpzHQ0hhJiONpEojR8/HgUFBViyZAlycnLg5+eHQ4cOwd3dHQCQk5ODzMxMbX21Wo0FCxYgPT0dAoEA3t7eWL58OWbMmMHVKRADKVVqXM8tAQB0c7LmOBrj1/3Ra3TtLk1rQQghhmBYlqXpehuhuLgYUqkURUVFsLamL+rWdiuvBCNWHYe5iI8ri0eCRwOU63XpTiFeWH0SHS1ESPi/EQ3e6EAIIW2Vod/fJj9GibRP13I0rUm+MitKkvTQxdEKfB6DB2UK3CumsXiEEKIvSpSISaruQqJuN/1IhHx422uWL7mWQwO6CSFEX5QoEZNUPZCbEiX9daNxSoQQYjBKlIhJqk6UqtcxIw3TDujOoUSJEEL0RYkSMTn5pXLklcjBMKAZuQ1QnVQmPxrfRQghpGGUKBGTU92a5GFrAXNRm5jholVUd73dLihDqVzJcTSEEGIaKFEiJkfb7UbjkwxiZymGo7UYLAvcyKXuN0II0QclSsTk/HPHG3W7GYomniSEEMNQokRMDs3I3XjV45SuZFOiRAgh+qBEiZiUKpUaqfdLAQBdaSC3wXp2sgEAXLxTyGkchBBiKjhNlNLT07k8PDFBt/PLUKViYSHio5ONGdfhmJxeLpoFhFPySlGhUHEcDSGEGD9OEyUfHx+EhoZi586dqKys5DIUYiJu3tO0Jvk4WtF6ZY3gJJXAzlIMlZqlGboJIUQPnCZKFy9ehL+/Pz744APIZDLMmDEDZ8+e5TIkYuRu3tOMT+rqaMlxJKaJYRj0ftSqdOkOJUqEENIQThMlPz8/rFq1CtnZ2di6dStyc3MxePBg9OjRA6tWrcL9+/e5DI8YoZQ8TaLUxZHGJzVWLxcbAJQoEUKIPoxiMLdAIMDYsWPx008/4YsvvkBqairmzp0LFxcXTJo0CTk5OVyHSIzEjUd3vHWmRKnRqscp0YBuQghpmFEkSufPn8c777wDJycnrFq1CnPnzkVqaiqOHj2K7OxsjB49musQiRGQK1W4XVAOAOhCXW+NVp0opd0vQ0llFcfREEKIceN0/YdVq1Zh69atuHHjBkaNGoUdO3Zg1KhR4PE0+ZunpyfWr18PX19fLsMkRiI9vwwqNQsrsQAyawnX4ZgsW0sxOtmYIbuwApezixDsbcd1SIQQYrQ4TZTWrl2LqVOn4s0334RMJqu1jpubGzZv3tzKkRFjVH3HWxcZ3fHWVL1cpMgurMClO5QoEUJIfThNlKKjo+Hm5qZtQarGsiyysrLg5uYGkUiEyZMncxQhMSY3c6sHclO3W1P1crHBH1dycZkGdBNCSL04HaPk7e2N/Pz8GuUPHjyAp6cnBxERY1Y9NUBnBxrI3VS9XTXjlBIyHoJlWY6jIYQQ48VpolTXL+jS0lJIJDQGhehKyXvU9UZ3vDVZgFsHiPg85BZXagfIE0IIqYmTrrfIyEgAmsnvPvnkE5ibm2ufU6lUOHPmDPr06cNFaMRIVVapkFFQBgDoIqOut6aSCPno42aDs+kPEJ9aAE87C65DIoQQo8RJopSYmAhA06J0+fJliEQi7XMikQi9e/fG3LlzuQiNGKlbeaVQs4CNuRD2lmKuw2kTgr1tcTb9AU6l5uO1/m5ch0MIIUaJk0QpJiYGAPDmm2/im2++gbW1NRdhEBOinZHbge54ay4DvWwRhRScTnsAlmXpdSWEkFpwOkZp69atlCQRvVRPDdCZ7nhrNn3cbCAR8pBfKsetR+O/CCGE6Gr1FqUXX3wR27Ztg7W1NV588cV66+7bt6+VoiLGLuUerfHW3MQCPoLcO+LErXycSi2gZWEIIaQWrZ4oSaVSbRO/VCpt7cMTE3WDEqUWMdDbFidu5SM+tQCTgz24DocQQoxOqydKW7durfX/hNSlXKFE1oMKADTZZHMb6G0LADidXgC1mgWPR+OUCCHkcZyOUaqoqEB5+T9zuGRkZCAqKgqHDx/mMCpibKrHz9haiGBLd7w1q16dpLASC1BYXoXErIdch0MIIUaH00Rp9OjR2LFjBwCgsLAQ/fr1w8qVKzF69GisXbuWy9CIEaGB3C1HwOfhqW4OAIA/LudyHA0hhBgfThOlCxcuICQkBADwyy+/QCaTISMjAzt27MC3335r0L7WrFkDT09PSCQSBAYGIi4urs66+/btw9NPPw17e3tYW1tj4MCB+Ouvv5p0LqTl0EDulvWMnxMA4I8rubScCSGEPIHTRKm8vBxWVpovv8OHD+PFF18Ej8fDgAEDkJGRofd+9uzZg9mzZ2PhwoVITExESEgIwsPDkZmZWWv948eP4+mnn8ahQ4eQkJCA0NBQPP/889qJMIlxoYHcLWtoF3uYCfnILqzA5WxaJJcQQh7HaaLk4+ODAwcOICsrC3/99RfCwsIAAHl5eQbNr7Rq1Sq89dZbmDZtGrp164aoqCi4urrW2X0XFRWFDz/8EH379kXnzp3x+eefo3Pnzvjtt9+a5bxI80q5R2u8tSQzER+hvvYANK1KhBBC/sFpovTJJ59g7ty58PDwQP/+/TFw4EAAmtYlf39/vfahUCiQkJCgTbKqhYWF4dSpU3rtQ61Wo6SkBB07dqyzjlwuR3Fxsc6DtLxSuRLZhXTHW0sLr+5+u5xD3W+EEPIYThOll156CZmZmTh//jz+/PNPbflTTz2Fr7/+Wq995OfnQ6VSwdHRUafc0dERubn6/XW8cuVKlJWV4ZVXXqmzzrJlyyCVSrUPV1dXvfZNmqZ6fJK9lRg25qIGapPGCvV1gEjAw+2CclzPLeE6HEIIMRqcJkoAIJPJ4O/vDx7vn1D69esHX19fg/bz5DpV+q5dtWvXLixevBh79uyBg4NDnfUWLFiAoqIi7SMrK8ug+Ejj3MitHp9ErUktyVIswLAumu63A4nZHEdDCCHGg5NFcauVlZVh+fLl+Pvvv5GXlwe1Wq3zfFpaWoP7sLOzA5/Pr9F6lJeXV6OV6Ul79uzBW2+9hZ9//hkjRoyot65YLIZYTHP4tLbqwcV+zjSLe0t7KdAFh6/dw94L2Zg7siuEfM7/jiKEEM5xmihNmzYNx44dw8SJE+Hk5NSo1ctFIhECAwMRHR2NsWPHasujo6MxevToOrfbtWsXpk6dil27duHZZ59tVPyk5V2pTpQ6UaLU0kJ9HWBnKUJ+qRyxN+7j6e71/6FBCCHtAaeJ0h9//IHff/8dgwYNatJ+IiMjMXHiRAQFBWHgwIHYsGEDMjMzERERAUDTbZadna2d3HLXrl2YNGkSvvnmGwwYMEDbGmVmZkbrzxkRhVKN5BxN11svF7ouLU3I5+HFABdsOJ6Gn85nUaJECCHgeIxShw4d6r3TTF/jx49HVFQUlixZgj59+uD48eM4dOgQ3N3dAQA5OTk6cyqtX78eSqUS7777LpycnLSPWbNmNTkW0nxu3iuBQqWGtUQAt47mXIfTLrwc6AIAOHo9D3kllRxHQwgh3GNYDu8F3rlzJ3799Vds374d5uam9UVYXFwMqVSKoqIig+Z8IvrbfTYT8/ddRrC3LX6cPoDrcNqNsWtOIjGzEAvCfTFjqDfX4RBCSLMy9Pub0663lStXIjU1FY6OjvDw8IBQKNR5/sKFCxxFRoxB9UDunjQ+qVW9EuSKxMxC7DqbiekhXuDxDB87SAghbQWnidKYMWO4PDwxctUDuXvS+KRW9UJvZyz9PRm3C8pxKrUAgzvbcR0SIYRwhtNEadGiRVwenrSgI9fuYcXhG5j1VGeE93QyePsqlRrJj+ZQohal1mUhFuDFgE7YEZ+BnaczKFEihLRrnE+UUlhYiE2bNmHBggV48OABAE2XW3Y2TXpnqi5kPsS7P17A9dwS/PuXS7j7aAkSQ9y8VwKFkgZyc+X1/pobIaKT7+FeMQ3qJoS0X5wmSpcuXUKXLl3wxRdfYMWKFSgsLAQA7N+/HwsWLOAyNNJIWQ/KMX37eciVagh4DErlSizcf9ng9cMenz+pMfNrkabpKrNCX48OUKlZ7D5Ls9ATQtovThOlyMhITJkyBSkpKZBIJNry8PBwHD9+nMPISGMtOngVBWUKdHeyxt5/BUPE5yHmxn3sN3BZjIt3aCA3194YoGlV2nU2E0qVuoHahBDSNnGaKJ07dw4zZsyoUd6pUye9F7QlxqNKpUZ8agEA4KuXe6G3qw1mjeis+fmvG1Cp9W9VOv1oP4HuHZo/UKKXZ/xk6GghQm5xJY5ez+M6HEII4QSniZJEIkFxcXGN8hs3bsDe3p6DiEhTXL1bjIoqFaRmQnSTaeammBbiCWuJADlFlTiTXqDXfrILK5CWXwY+j8EAb9uWDJnUQyzg4+UgzQSUO89kNlCbEELaJk4TpdGjR2PJkiWoqqoCADAMg8zMTMyfPx/jxo3jMjTSCOfSNYPx+3p00M69Ixbw8WwvzV1v+q5KfyLlPgCgt4sU1hJhA7VJS3q9nzsYBjh+8z4yC8q5DocQQlodp4nSihUrcP/+fTg4OKCiogJDhw6Fj48PrKyssHTpUi5DI41w9nZ1oqS7LM2YPp0AAH9czkVllarB/cSl5AMABnemVkWuudmaY8ij6/DD2QyOoyGEkNbH6TxK1tbWOHHiBGJiYpCQkAC1Wo2AgACMGDGCy7BII6jVLM4/SpSCnkiU+np0hLNUgrtFmrEuo+qZV0mtZnHq0fikEJq/xyi83t8Nx27ex8/n7yDy6S4QC/hch0QIIa2Gs0RJrVZj27Zt2LdvH27fvg2GYeDp6QmZTAaWZemWcBOTll+Kh+VVkAh5Ne5U4/EYjPbvhLWxqdifmF1vonQtpxgPyhSwEPHRx9WmhaMm+hju6wAnqQQ5RZX480ouRj9qISSEkPaAk643lmXxwgsvYNq0acjOzkbPnj3Ro0cPZGRkYMqUKRg7diwXYZEmOJv+EADQx9UGIkHNt9VYf82Xa+yNPDwoU9S5nxO3NN1uA7xsIeRzPh8qASDg8/BqPzcAwM7T1P1GCGlfOPkm2rZtG44fP46///4biYmJ2LVrF3bv3o2LFy/iyJEjOHr0KHbs2MFFaKSRzj3qduv3RLdbtS6OVujZSYoqFYtfEuqewPCEdnwSdbsZk/F9XcHnMTh3+yFuPFpahhBC2gNOEqVdu3bho48+QmhoaI3nhg8fjvnz5+OHH37gIDLSWGer73jzrD1RAjRjXQDghzOZUNcyp1J2YQXi0zTjk4Z0oYHcxsTRWoKw7o4AgB/OUKsSIaT94CRRunTpEp555pk6nw8PD8fFixdbMSLSFA/KFMh+tJ6bv1vdE0S+0McZVhIBMgrKtV1sj9t+6jZUahYDvWzhbW/ZYvGSxqmeqXvfhWyUyZUcR0MIIa2Dk0TpwYMHcHR0rPN5R0dHPHz4sBUjIk2Rer8UANDJxgyW4rrvDzAXCTAuQDOB4ZOtEqVyJXad1UxqOC3Es4UiJU0x0MsWnnYWKJUrcSCJFq0mhLQPnCRKKpUKAkHdX6h8Ph9KJf3Faipu5WkSJW+HhluBqrvfjiTn4e6jVigA+Pl8FkoqlfCys0BoV4eWCZQ0CY/HaFuVtp+6bfBCx4QQYoo4mR6AZVlMmTIFYrG41uflcnkrR0SaojpR8tGju6yzoxX6e3bEmfQHiNiZgB+m9YdaDWw9eRsA8OZgT+2s3sT4vBzkglWHb+DmvVLEpxYg2IcG3RNC2jZOEqXJkyc3WGfSpEmtEAlpDtVdb94OFnrVXzq2J15ZH49Ld4rw2sYzyCmqQH6pAh3MhRgXQHP0GDNriRAvBbpge3wGtpy8TYkSIaTN4yRR2rp1KxeHJS3EkBYlAPBxsMSOqf3w6obTuJxdpC1b8XJvmIs4nSye6GFSsAe2x2fg7+v3kFlQDjdbc65DIoSQFkMz+pEmqVCotHe86TNGqZpfJym2Te2LADcbzBnRBb/PHEwzcZsIb3tLDO1iD5YFdsTf5jocQghpUZQokSZJyy8FywI25kLYWogM2jbQvSP2vTMIs0Z0pvXDTMyUQR4AgD3ns2iqAEJIm0aJEmmS1PtlADStDLQ+X/sxtLM9vOwsUFKpxL4Ld7gOhxBCWgwlSqRJDB2fRNoGHo/B5GAPAMC2U7drnWmdEELaAkqUSJMYescbaTvGBbrAUixA6v2yWmdaJ4SQtoASJdIkqdUtSgYM5CZtg6VYgJeDNDOtbz2ZznE0hBDSMihRIo2mUrNIy/9njBJpf6YEe4BhgJgb95Fyr4TrcAghpNlRokQa7c7DciiUaogEPLh0oLl02iN3WwuEddes27gxLo3jaAghpPlRokQarXp8kpedBfi07Ei79fYQbwDAgcS7yCuu5DgaQghpXpQokUZLezQ1gJc9DeRuzwLdOyDIvQMUKjW2nrrNdTiEENKs2kyitGbNGnh6ekIikSAwMBBxcXF11s3JycFrr72Grl27gsfjYfbs2a0XaBuS/mh8kqcdJUrt3dtDvAAAO09noJQmoCSEtCFtIlHas2cPZs+ejYULFyIxMREhISEIDw9HZmZmrfXlcjns7e2xcOFC9O7du5WjbTv+SZRoIHd7N6KbI7zsNRNQ7j5b++eOEEJMUZtIlFatWoW33noL06ZNQ7du3RAVFQVXV1esXbu21voeHh745ptvMGnSJEilUr2OIZfLUVxcrPNo76hFiVTj8Ri8HaJpVdpyIh1VKjXHERFCSPMw+URJoVAgISEBYWFhOuVhYWE4depUsx1n2bJlkEql2oerq2uz7dsUlSuUyCnSDNz1okSJABjj3wl2lmLcLarE/y7d5TocQghpFiafKOXn50OlUsHR0VGn3NHREbm5uc12nAULFqCoqEj7yMrKarZ9m6Lb+eUANIvhdjBwMVzSNkmEfLz5aLHc9cfSwLK0rAkhxPSZfKJU7ckFWVmWbdZFWsViMaytrXUe7Vl1txu1JpHHvdHfHeYiPq7nliAuhZY1IYSYPpNPlOzs7MDn82u0HuXl5dVoZSLNJz1fM4cSDeQmj5OaCzG+r6ZbesNxmoCSEGL6TD5REolECAwMRHR0tE55dHQ0goODOYqq7ateuoTmUCJPemuwJ/g8Bidu5eNKdhHX4RBCSJOYfKIEAJGRkdi0aRO2bNmC5ORkzJkzB5mZmYiIiACgGV80adIknW2SkpKQlJSE0tJS3L9/H0lJSbh27RoX4ZskuuON1MWlgzme7ekEgJY1IYSYPgHXATSH8ePHo6CgAEuWLEFOTg78/Pxw6NAhuLu7A9BMMPnknEr+/v7a/yckJODHH3+Eu7s7bt++3ZqhmyxKlEh93h7ihYMX7+J/l3Lw75FdaS1AQojJYli6NaVRiouLIZVKUVRU1O4Gdj8sU8D/U01XZ/KSZ2Am4nMcETFGr286jZO3CvDmIA8ser4H1+EQQggAw7+/20TXG2ld1eOTnKUSSpJInWY8Wix399ksPChTcBwNIYQ0DiVKxGDabjcayE3qEdLZDj07SVFRpcKWE+lch0MIIY1CiRIxWNr96qkBKFEidWMYBu+GalqVtsffRnFlFccREUKI4ShRIga7ea8EAOBjT3MokfqFdZehs4MlSiqV+G98BtfhEEKIwShRIga7nqtJlHyd2tcgdmI4Ho/BO49albacSEeFQsVxRIQQYhhKlIhBSuVK3HlYAQDwlVlxHA0xBc/3coZrRzMUlCmw62xmwxsQQogRoUSJGOTGo9YkR2sxbMxpMVzSMAGfh4ihmlalDcfToFCqOY6IEEL0R4kSMcj13GIAgK+Mut2I/l4KdIGjtRi5xZXYd+EO1+EQQojeKFEiBqluUaJuN2IIsYCP6SFeAIC1x1KhVFGrEiHENFCiRAxSPZC7KyVKxECv9XdDB3MhMgrKcSDpLtfhEEKIXihRInpjWRbXczRdb5QoEUOZiwSY8Wis0tfRNyFX0h1whBDjR4kS0VtucSWKK5Xg8xj4ONAcSsRwkwd6wNFajOzCCvx4hu6AI4QYP0qUiN6qu9287CwgFtAab8RwZiI+Zj3VBQCw+ugtlMqVHEdECCH1o0SJ6O0GjU8izeDlIBd42lmgoEyBtbG3uA6HEELqRYkS0Vv1+CS64400hZDPw7xnfAEA64+laRNwQggxRpQoEb1d0w7kpjmUSNOM7OGIp7s7QqlmsWDfJajVLNchEUJIrShRInopKJXj5r1SAECAmw23wRCTxzAMlozuAQsRHxcyC/Hf07RgLiHEOFGiRPRyOu0BAE23m62lmONoSFvgJDXDh4+64Jb+noxztx9wHBEhhNREiRLRy6nUfADAQG9bjiMhbcnEAe54pocMCpUab+84j9v5ZVyHRAghOihRInqJTy0AAAR723EcCWlLeDwGX4/vg94uUjwsr8KkLWdpcDchxKhQokQalFtUibT8MvAYoJ9nR67DIW2MmYiPjZOD4NLBDJkPyjH6+xPYfTaTBngTQowCJUqkQfFpmm43v05SSM2EHEdD2iIHKwl+fXcQhnSxR2WVGvP3XcbTXx/DD2cyUFRexXV4hJB2jBIl0qDqbreBXjQ+ibQcW0sxtk3pi3nP+MJSLEDq/TIs3H8FAZ9F45V18Vgbm4rrucVgWWppIoS0Hoal3zqNUlxcDKlUiqKiIlhbt+15hQZ/cRR3HlZg25t9MayrA9fhkHagpLIKP5+/g93nMrXTUlRz7WiGF/1d8FKgC1w7mnMUISHEVBn6/U2JUiO1l0TpSnYRnvvuBAQ8BhcXhcFCLOA6JNLOZD0oR8yNPMRcz8Op1ALIlWrtc/09O+LlIFeE+8novUkI0QslSq2kvSRKc/YkYX9iNkb3ccY3E/y5Doe0cxUKFQ5fy8UvCXdw4lY+qn97WYj4eK6XM17p64IAtw5gGIbbQAkhRosSpVbSHhKl3KJKDP7iKJRqFgffG4ReLjZch0SIVnZhBfZfuINfEu7gdkG5ttzL3gLjAlzwVDcHdHW0oqSJEKKDEqVW0h4SpS//vI41sano59ERP0UM5DocQmrFsizO3X6In85n4dDlHJQrVNrnnKQSBLp3gL9bB/RxtUEPZ2tIhHwOoyWEcI0SpVbS1hOlcoUSwcuPorC8CusnBmJkDxnXIRHSoFK5Eocu5eCPKzk1xjMBgJDPoLODFbrKrNDF0QpdZZbo7GAFJ6kEAn7tNwGzLIvKKjUelitQWF4FhUoNlmUhFvBhbyVGRwsR+DxqtSLEVBj6/U2jH0kNLMvi4wNXUVheBbeO5hjRzZHrkAjRi6VYgFf6uuKVvq6oUKiQkPEQSVkPkZhZiKSsQhSUKXAtpxjXcop1tuMxmrmcpGZCSER8sCyL4ooqFFcqUVJZhSpV3X9Pivg8dJFZoruTNXq72iDArQO6OFpR8kRIG9FmWpTWrFmDr776Cjk5OejRoweioqIQEhJSZ/1jx44hMjISV69ehbOzMz788ENERETofby23KK07FAy1h9PA5/HYNPkIITSlACkDWBZFnceViA5pxg375Xgxr1S3MwtQVp+ab2JUDUBj4GNuQhiAQ8MA5QrVHhYrkBtv0EtxQL0dpUiwK0DAtw7wN/VBjbmohY4K0KIodpli9KePXswe/ZsrFmzBoMGDcL69esRHh6Oa9euwc3NrUb99PR0jBo1CtOnT8fOnTtx8uRJvPPOO7C3t8e4ceM4OIPmx7Is5Eo1eAwDkUC/eUUv3SnEhuNp+N+lHADA8hd7UpJE2gyGYeDa0RyuHc0R9lhXskrNIr9UjpyiSpRWKlGuUILHMJCaC2EtEcLaTAAriRAWIn6NgeFVKjVyCitxLacYV+8WITGzEImZD1EqV+LkrQKcvFWgrWtjLoRLBzPYmIlgJuLDQsSHuVgAiYAPIZ+BgM+Az+NByGPA5zMQ8niQCHmwlAhgKRbCUizQPCSaf60kgkdJm2EtVyzLorhSifxSOe6XaB75pXI8LK9CZZUK8ioVBHwehHwerCQCSM2EsDEXwsZMBBtzIaRmQkjNhbASC2igPGkX2kSLUv/+/REQEIC1a9dqy7p164YxY8Zg2bJlNerPmzcPBw8eRHJysrYsIiICFy9eRHx8vF7HbKkWpbuFFUjKKkSVSg2VmoVSxaJKrYZSxUKpZlGlUqNMrkSpXInSSiXKFEqUVCpRJleiTK7SlD96qB6tlSXi82Au5sNC9M8vWCuJAAI+D3yGwYNyBe48KMfdokptHAvCfTFjqHeznRch7YVKzeLmvRJcyHyICxmFuJD5EOn5ZS1yLAGP0SZO1Z9tc5EAPAZQs4CaZcGyQGWVSjvGqrCiSvu7oSn4PEaTRD1KnCxEgkcJH0/zL0+TbFUngcJHyZeAxzxWzkN1DyUDBk/mXQzDgNH+H2CeeK66XLP9YxUf+5l5bP+P/1xfnSf++edYj8dSR9yP162tzuPlpGEyqRn6uNo06z7bXYuSQqFAQkIC5s+fr1MeFhaGU6dO1bpNfHw8wsLCdMpGjhyJzZs3o6qqCkJhzfXM5HI55HK59ueioiIAmhe8OR27chfz9l5u1n1WAqgsBx40UE/AY/CMnwyTBrqju7O02c+NkPaikwXQqVsHPN+tAwBPlMqVuFtYjruFmlarsiolKhUqlMvVqFSqoFSroVSzUKlYzf8f/WEkV6pQKldp/yiq/rdMrrmzTwHgQUXDn+3aWIr5sLMUw9ZSDDtLTWuRmUgAEY8HJctCoVSjTF6FoooqFFVoxmoVllehqLIK8io11ADyK4D8ZnzdCHnSKD8Zvny5d7Pus/q7Td92IpNPlPLz86FSqeDoqDvg2NHREbm5ubVuk5ubW2t9pVKJ/Px8ODk51dhm2bJl+M9//lOj3NXVtQnRG5+1jx6EEEII19YDWD+tZfZdUlICqVTaYD2TT5SqPdlXzrJsvf3ntdWvrbzaggULEBkZqf1ZrVbjwYMHsLW1bRf99MXFxXB1dUVWVlabG7zeUug1Mwy9Xoah18tw9JoZpq2+XizLoqSkBM7OznrVN/lEyc7ODnw+v0brUV5eXo1Wo2oymazW+gKBALa2trVuIxaLIRaLdcpsbGwaH7iJsra2blMfmNZAr5lh6PUyDL1ehqPXzDBt8fXSpyWpmn63QxkxkUiEwMBAREdH65RHR0cjODi41m0GDhxYo/7hw4cRFBRU6/gkQgghhLRPJp8oAUBkZCQ2bdqELVu2IDk5GXPmzEFmZqZ2XqQFCxZg0qRJ2voRERHIyMhAZGQkkpOTsWXLFmzevBlz587l6hQIIYQQYoRMvusNAMaPH4+CggIsWbIEOTk58PPzw6FDh+Du7g4AyMnJQWZmpra+p6cnDh06hDlz5uD777+Hs7Mzvv322zYzh1JLEIvFWLRoUY3uR1I3es0MQ6+XYej1Mhy9Zoah10ujTcyjRAghhBDSEtpE1xshhBBCSEugRIkQQgghpA6UKBFCCCGE1IESJUIIIYSQOlCiRAx2+/ZtvPXWW/D09ISZmRm8vb2xaNEiKBQKrkMzGmvWrIGnpyckEgkCAwMRFxfHdUhGa9myZejbty+srKzg4OCAMWPG4MaNG1yHZTKWLVsGhmEwe/ZsrkMxWtnZ2XjjjTdga2sLc3Nz9OnTBwkJCVyHZbSUSiX+7//+T/s73svLC0uWLIFareY6NE60iekBSOu6fv061Go11q9fDx8fH1y5cgXTp09HWVkZVqxYwXV4nNuzZw9mz56NNWvWYNCgQVi/fj3Cw8Nx7do1uLm5cR2e0Tl27Bjeffdd9O3bF0qlEgsXLkRYWBiuXbsGCwsLrsMzaufOncOGDRvQq1cvrkMxWg8fPsSgQYMQGhqKP/74Aw4ODkhNTW2XKyvo64svvsC6deuwfft29OjRA+fPn8ebb74JqVSKWbNmcR1eq6PpAUiz+Oqrr7B27VqkpaVxHQrn+vfvj4CAAKxd+8/ywt26dcOYMWOwbNkyDiMzDffv34eDgwOOHTuGIUOGcB2O0SotLUVAQADWrFmDzz77DH369EFUVBTXYRmd+fPn4+TJk9Sqa4DnnnsOjo6O2Lx5s7Zs3LhxMDc3x3//+18OI+MGdb2RZlFUVISOHTtyHQbnFAoFEhISEBYWplMeFhaGU6dOcRSVaSkqKgIAej814N1338Wzzz6LESNGcB2KUTt48CCCgoLw8ssvw8HBAf7+/ti4cSPXYRm1wYMH4++//8bNmzcBABcvXsSJEycwatQojiPjBnW9kSZLTU3Fd999h5UrV3IdCufy8/OhUqlqLMjs6OhYYyFmUhPLsoiMjMTgwYPh5+fHdThGa/fu3UhISMD58+e5DsXopaWlYe3atYiMjMRHH32Es2fPYubMmRCLxTpLW5F/zJs3D0VFRfD19QWfz4dKpcLSpUvx6quvch0aJ6hFiWgtXrwYDMPU+3jyF/Pdu3fxzDPP4OWXX8a0adM4itz4MAyj8zPLsjXKSE3vvfceLl26hF27dnEditHKysrCrFmz8MMPP0AikXAdjtFTq9UICAjA559/Dn9/f8yYMQPTp0/X6Ronuvbs2YOdO3fixx9/xIULF7B9+3asWLEC27dv5zo0TlCLEtF67733MGHChHrreHh4aP9/9+5dhIaGYuDAgdiwYUMLR2ca7OzswOfza7Qe5eXl1WhlIrref/99HDx4EMePH4eLiwvX4RithIQE5OXlITAwUFumUqlw/PhxrF69GnK5HHw+n8MIjYuTkxO6d++uU9atWzfs3buXo4iM37///W/Mnz9f+33Qs2dPZGRkYNmyZZg8eTLH0bU+SpSIlp2dHezs7PSqm52djdDQUAQGBmLr1q3g8ahxEgBEIhECAwMRHR2NsWPHasujo6MxevRoDiMzXizL4v3338f+/fsRGxsLT09PrkMyak899RQuX76sU/bmm2/C19cX8+bNoyTpCYMGDaox3cTNmze1i6aTmsrLy2v8Tufz+TQ9ACH6unv3LoYNGwY3NzesWLEC9+/f1z4nk8k4jMw4REZGYuLEiQgKCtK2tmVmZiIiIoLr0IzSu+++ix9//BG//vorrKystK1xUqkUZmZmHEdnfKysrGqM37KwsICtrS2N66rFnDlzEBwcjM8//xyvvPIKzp49iw0bNlAreD2ef/55LF26FG5ubujRowcSExOxatUqTJ06levQuMESYqCtW7eyAGp9EI3vv/+edXd3Z0UiERsQEMAeO3aM65CMVl3vpa1bt3IdmskYOnQoO2vWLK7DMFq//fYb6+fnx4rFYtbX15fdsGED1yEZteLiYnbWrFmsm5sbK5FIWC8vL3bhwoWsXC7nOjRO0DxKhBBCCCF1oIElhBBCCCF1oESJEEIIIaQOlCgRQgghhNSBEiVCCCGEkDpQokQIIYQQUgdKlAghhBBC6kCJEiGEEEJIHShRIoQQQgipAyVKhJB2b9u2bbCxseE6DEKIEaJEiRDCuSlTpmDMmDE1ymNjY8EwDAoLC1s9pvrcvn0bDMNoH1KpFAMGDMBvv/3WqP0kJSW1TKCEkCajRIkQ0q5VVVU1etsjR44gJycHZ86cQb9+/TBu3DhcuXKlGaMjhHCNEiVCiMnYu3cvevToAbFYDA8PD6xcuVLneYZhcODAAZ0yGxsbbNu2DcA/LTg//fQThg0bBolEgp07d+rUv337Nng8Hs6fP69T/t1338Hd3R2PL49pa2sLmUwGX19fLF26FFVVVYiJidE+/+eff2Lw4MGwsbGBra0tnnvuOaSmpmqf9/T0BAD4+/uDYRgMGzZM+9zWrVvRrVs3SCQS+Pr6Ys2aNQa/XoSQpqNEiRBiEhISEvDKK69gwoQJuHz5MhYvXoyPP/5YmwQZYt68eZg5cyaSk5MxcuRInec8PDwwYsQIbN26Vad869atmDJlChiGqbG/qqoqbNy4EQAgFAq15WVlZYiMjMS5c+fw999/g8fjYezYsVCr1QCAs2fPAvinZWrfvn0AgI0bN2LhwoVYunQpkpOT8fnnn+Pjjz/G9u3bDT5XQkgTsYQQwrHJkyezfD6ftbCw0HlIJBIWAPvw4UP2tddeY59++mmd7f7973+z3bt31/4MgN2/f79OHalUym7dupVlWZZNT09nAbBRUVE6dbZu3cpKpVLtz3v27GE7dOjAVlZWsizLsklJSSzDMGx6errOfszMzFgLCwuWx+OxAFgPDw+2oKCgzvPMy8tjAbCXL1/W2U9iYqJOPVdXV/bHH3/UKfv000/ZgQMH1rlvQkjLoBYlQohRCA0NRVJSks5j06ZN2ueTk5MxaNAgnW0GDRqElJQUqFQqg44VFBRU7/NjxoyBQCDA/v37AQBbtmxBaGgoPDw8dOrt2bMHiYmJOHjwIHx8fLBp0yZ07NhR+3xqaipee+01eHl5wdraWtvVlpmZWeex79+/j6ysLLz11luwtLTUPj777DOdbjtCSOsQcB0AIYQAgIWFBXx8fHTK7ty5o/0/y7I1ur3Yx8YLAZoxSk+W1TZY28LCot5YRCIRJk6ciK1bt+LFF1/Ejz/+iKioqBr1XF1d0blzZ3Tu3BmWlpYYN24crl27BgcHBwDA888/D1dXV2zcuBHOzs5Qq9Xw8/ODQqGo89jV3XIbN25E//79dZ7j8/n1xk0IaX6UKBFCTEL37t1x4sQJnbJTp06hS5cu2gTC3t4eOTk52udTUlJQXl7eqONNmzYNfn5+WLNmDaqqqvDiiy/WW3/o0KHw8/PD0qVL8c0336CgoADJyclYv349QkJCAKBG/CKRCAB0WsQcHR3RqVMnpKWl4fXXX29U7ISQ5kOJEiHEJHzwwQfo27cvPv30U4wfPx7x8fFYvXq1zt1gw4cPx+rVqzFgwACo1WrMmzdPZ3C1Ibp164YBAwZg3rx5mDp1KszMzPSK8eWXX8aHH34IJycn2NraYsOGDXByckJmZibmz5+vU9/BwQFmZmb4888/4eLiAolEAqlUisWLF2PmzJmwtrZGeHg45HI5zp8/j4cPHyIyMrJR50MIaRwao0QIMQkBAQH46aefsHv3bvj5+eGTTz7BkiVLMGXKFG2dlStXwtXVFUOGDMFrr72GuXPnwtzcvNHHfOutt6BQKDB16lS96j/33HPw8PDA0qVLwePxsHv3biQkJMDPzw9z5szBV199pVNfIBDg22+/xfr16+Hs7IzRo0cD0LRmbdq0Cdu2bUPPnj0xdOhQbNu2TTvGiRDSehj2yQ59QgghAIClS5di9+7duHz5MtehEEI4Qi1KhBDyhNLSUpw7dw7fffcdZs6cyXU4hBAOUaJECCFPeO+99zB48GAMHTpU7243QkjbRF1vhBBCCCF1oBYlQgghhJA6UKJECCGEEFIHSpQIIYQQQupAiRIhhBBCSB0oUSKEEEIIqQMlSoQQQgghdaBEiRBCCCGkDpQoEUIIIYTU4f8BORfOmfjrjCMAAAAASUVORK5CYII=\n",
      "text/plain": [
       "<Figure size 640x480 with 2 Axes>"
      ]
     },
     "metadata": {},
     "output_type": "display_data"
    }
   ],
=======
>>>>>>> 57c5de4f73ce52d1d69ba40e38567bef5c1befd1
   "source": [
    "# Visualize it\n",
    "fig, (ax1, ax2) = plt.subplots(nrows=2, ncols=1, sharex=False)\n",
    "# Can toggle sharex to see the impact of the scale\n",
    "\n",
    "sns.kdeplot(df['HourlyRate'], ax=ax1, label='Without Scaling')\n",
    "ax1.legend()\n",
    "\n",
<<<<<<< HEAD
    "sns.kdeplot(standardized, ax=ax2, label='With Scaling')\n",
=======
    "sns.kdeplot(standardized_rate, ax=ax2, label='With Scaling')\n",
>>>>>>> 57c5de4f73ce52d1d69ba40e38567bef5c1befd1
    "ax2.legend()\n",
    "\n",
    "plt.show()"
   ]
  },
  {
   "cell_type": "markdown",
   "metadata": {},
   "source": [
<<<<<<< HEAD
=======
    "Let's discuss:\n",
    "\n",
    "- \n"
   ]
  },
  {
   "cell_type": "markdown",
   "metadata": {},
   "source": [
>>>>>>> 57c5de4f73ce52d1d69ba40e38567bef5c1befd1
    "## Central Limit Theorem (CLT)\n",
    "\n",
    "We mentioned that the distribution above doesn't seem very normal. But here's something cool:\n",
    "\n",
    "> \"The central limit theorem states that the sampling distribution of the mean of any independent, random variable will be normal or nearly normal, if the sample size is large enough.\" \n",
    "- From [Stat Trek](https://stattrek.com/statistics/dictionary.aspx?definition=central_limit_theorem)"
   ]
  },
  {
   "cell_type": "markdown",
   "metadata": {},
   "source": [
    "Let's look at an example, using the popular Iris dataset:\n",
    "\n",
    "<img src=\"images/probability-basics.gif\" width=800>\n",
    "\n",
    "Here, taking samples of 15 flowers at a time and measuring their sepal lengths, we see that the the mean of the samples is normally distributed, where the mean of that normal distribution approximates the population mean. \n",
    "\n",
    "The coolest part is - this is true and works almost no matter what the original distribution is! (I say 'almost' because there are exceptions, of course). Even when we have _distinctly non-normal distributions_, we can use sampling to get a representation of population parameters (like the population mean)."
   ]
  },
  {
   "cell_type": "markdown",
   "metadata": {},
   "source": [
    "## Revisiting Sampling\n",
    "\n",
    "Before we apply a theorem that's related to sampling, we should remember some key things about sampling.\n",
    "\n",
    "<img src=\"images/sample_pop.png\" alt=\"sampling example with circled people\" width=800>\n",
    "\n",
    "Our goal when sampling is to find a representative group, from which we can infer population parameters.\n",
    "\n",
    "Remember: samples have statistics, populations have parameters.\n",
    "\n",
    "In order to do this effectively, our sample should be randomly selected and representative of our population (which sounds nice and easy, it's hard to do in practice). We are trying to minimize bias in our sample, but also we are sampling because we're trying to minimize cost as well."
   ]
  },
  {
   "cell_type": "markdown",
   "metadata": {},
   "source": [
    "### Back to our Seattle Data"
   ]
  },
  {
   "cell_type": "markdown",
   "metadata": {},
   "source": [
    "Let's take 100 samples of 50 employees each time, and see what their average hourly rate is:"
   ]
  },
  {
   "cell_type": "code",
<<<<<<< HEAD
   "execution_count": 42,
   "metadata": {},
   "outputs": [
    {
     "name": "stderr",
     "output_type": "stream",
     "text": [
      "C:\\Users\\denii\\anaconda3\\lib\\site-packages\\numpy\\core\\fromnumeric.py:3438: FutureWarning: In a future version, DataFrame.mean(axis=None) will return a scalar mean over the entire DataFrame. To retain the old behavior, use 'frame.mean(axis=0)' or just 'frame.mean()'\n",
      "  return mean(axis=axis, dtype=dtype, out=out, **kwargs)\n",
      "C:\\Users\\denii\\anaconda3\\lib\\site-packages\\numpy\\core\\fromnumeric.py:3438: FutureWarning: Dropping of nuisance columns in DataFrame reductions (with 'numeric_only=None') is deprecated; in a future version this will raise TypeError.  Select only valid columns before calling the reduction.\n",
      "  return mean(axis=axis, dtype=dtype, out=out, **kwargs)\n"
     ]
    }
   ],
=======
   "execution_count": null,
   "metadata": {},
   "outputs": [],
>>>>>>> 57c5de4f73ce52d1d69ba40e38567bef5c1befd1
   "source": [
    "k = 30 # number of samples\n",
    "n = 10 # number of employees per sample\n",
    "\n",
    "# The full for loop version:\n",
    "# sample_means = []\n",
    "# for x in range(n):\n",
    "#     sample_emps = df.sample(n=n)\n",
    "#     sample_mean = sample_emps['Hourly Rate '].mean()\n",
    "#     sample_means.append(sample_mean)\n",
    "    \n",
    "# But let's do this with list comprehension:\n",
    "sample_means = [np.mean(df.sample(n=n))[0] for x in range(k)]"
   ]
  },
  {
   "cell_type": "code",
<<<<<<< HEAD
   "execution_count": 43,
   "metadata": {
    "scrolled": false
   },
   "outputs": [
    {
     "data": {
      "image/png": "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\n",
      "text/plain": [
       "<Figure size 800x600 with 1 Axes>"
      ]
     },
     "metadata": {},
     "output_type": "display_data"
    }
   ],
=======
   "execution_count": null,
   "metadata": {
    "scrolled": false
   },
   "outputs": [],
>>>>>>> 57c5de4f73ce52d1d69ba40e38567bef5c1befd1
   "source": [
    "# Plotting the distribution of our samples, plus our pop and sample means\n",
    "pop_mean = df['HourlyRate'].mean()\n",
    "samp_mean = np.mean(sample_means)\n",
    "\n",
    "plt.figure(figsize=(8,6))\n",
    "\n",
    "sns.histplot(sample_means)\n",
    "\n",
    "plt.vlines(pop_mean, ymin=0, ymax=25, color='r', linestyle=':',\n",
    "           label=f'Population Mean: {pop_mean:.2f}')\n",
    "plt.vlines(samp_mean, ymin=0, ymax=25, color='g', linestyle=':',\n",
    "           label=f'Mean of {k} Samples: {samp_mean:.2f}')\n",
    "\n",
    "plt.legend();"
   ]
  },
  {
   "cell_type": "markdown",
   "metadata": {},
   "source": [
    "Discuss:\n",
    "\n",
    "- \n"
   ]
  },
  {
   "cell_type": "markdown",
   "metadata": {
    "heading_collapsed": true
   },
   "source": [
    "-----\n",
    "\n",
    "\n",
    "# Level Up: Other Distributions"
   ]
  },
  {
   "cell_type": "markdown",
   "metadata": {
    "hidden": true
   },
   "source": [
    "The world is full of distributions to explore! See some other less-common ones below:"
   ]
  },
  {
   "cell_type": "markdown",
   "metadata": {
    "hidden": true
   },
   "source": [
    "![](images/distributions.png)"
   ]
  },
  {
   "cell_type": "markdown",
   "metadata": {
    "hidden": true
   },
   "source": [
    "Now that we know a few methods in visualizing distributions 📊👀, we can start looking at different types of distributions.\n",
    "\n",
    "We can tell a lot about a distribution shape such as taking a guess of the mechanism that it took to generate the data."
   ]
  },
  {
   "cell_type": "markdown",
   "metadata": {
    "heading_collapsed": true,
    "hidden": true
   },
   "source": [
    "## Distribution Types Exercise"
   ]
  },
  {
   "cell_type": "markdown",
   "metadata": {
    "hidden": true
   },
   "source": [
    "What type of distribution would you expect to best describe the following datasets?\n",
    "\n",
    "1. Survey responses about whether people voted\n",
    "2. Rolls on a six-sided die\n",
    "3. Numbers of defects in shipments of toys\n",
    "4. Output from a random number generator\n",
    "5. Measurements of palm tree heights"
   ]
  },
  {
   "cell_type": "markdown",
   "metadata": {
    "hidden": true
   },
   "source": [
    "**Your answers**\n",
    "\n",
    "1. \n",
    "2. \n",
    "3. \n",
    "4. \n",
    "5. "
   ]
  },
  {
   "cell_type": "markdown",
   "metadata": {},
   "source": [
    "## Level Up: SKLearn's Standard Scaler\n",
    "\n",
    "Soon we'll be using a pre-built function to scale our data: https://scikit-learn.org/stable/modules/generated/sklearn.preprocessing.StandardScaler.html\n",
    "\n",
    "Let's go ahead and peek at our first `sklearn` class!"
   ]
  },
  {
   "cell_type": "code",
   "execution_count": null,
   "metadata": {},
   "outputs": [],
   "source": [
    "# Importing StandardScaler from the preprocessing module\n",
    "from sklearn.preprocessing import StandardScaler\n",
    "\n",
    "# Need to instantiate our scaler\n",
    "scaler = StandardScaler()\n",
    "\n",
    "# Fitting our scaler (note how we need to make the column into a dataframe)\n",
    "scaler.fit(df[['HourlyRate']])\n",
    "\n",
    "# Grabbing the transformed values out as scaled_rate\n",
    "scaled_rate = scaler.transform(df[['HourlyRate']])"
   ]
  },
  {
   "cell_type": "code",
   "execution_count": null,
   "metadata": {
    "scrolled": false
   },
   "outputs": [],
   "source": [
    "# Plot and compare results\n",
    "fig, (ax1, ax2, ax3) = plt.subplots(nrows=3, ncols=1, figsize=(10,6))\n",
    "\n",
    "sns.kdeplot(df['HourlyRate'], ax=ax1, label='Without Scaling')\n",
    "ax1.legend()\n",
    "\n",
    "sns.kdeplot(standardized_rate, ax=ax2, label='Manual Scaling')\n",
    "ax2.legend()\n",
    "\n",
    "sns.kdeplot(scaled_rate[:,0], ax=ax3, label='SKLearn Standard Scaling')\n",
    "ax3.legend()\n",
    "\n",
    "plt.show()"
   ]
  }
 ],
 "metadata": {
  "kernelspec": {
<<<<<<< HEAD
   "display_name": "Python 3 (ipykernel)",
=======
   "display_name": "Python 3",
>>>>>>> 57c5de4f73ce52d1d69ba40e38567bef5c1befd1
   "language": "python",
   "name": "python3"
  },
  "language_info": {
   "codemirror_mode": {
    "name": "ipython",
    "version": 3
   },
   "file_extension": ".py",
   "mimetype": "text/x-python",
   "name": "python",
   "nbconvert_exporter": "python",
   "pygments_lexer": "ipython3",
<<<<<<< HEAD
   "version": "3.9.13"
=======
   "version": "3.8.8"
>>>>>>> 57c5de4f73ce52d1d69ba40e38567bef5c1befd1
  },
  "toc": {
   "base_numbering": 1,
   "nav_menu": {},
   "number_sections": true,
   "sideBar": true,
   "skip_h1_title": false,
   "title_cell": "Table of Contents",
   "title_sidebar": "TOC",
   "toc_cell": true,
   "toc_position": {
    "height": "calc(100% - 180px)",
    "left": "10px",
    "top": "150px",
    "width": "380.25px"
   },
   "toc_section_display": true,
   "toc_window_display": true
  }
 },
 "nbformat": 4,
 "nbformat_minor": 4
}
