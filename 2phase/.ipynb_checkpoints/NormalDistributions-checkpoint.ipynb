{
 "cells": [
  {
   "cell_type": "markdown",
   "metadata": {
    "heading_collapsed": true
   },
   "source": [
    "# Objectives"
   ]
  },
  {
   "cell_type": "markdown",
   "metadata": {
    "hidden": true
   },
   "source": [
    "* Describe the normal distribution's Empirical Rule\n",
    "* Calculate $z$-scores from a normal distribution through standardization\n",
    "* Define the Central Limit Theorem\n"
   ]
  },
  {
   "cell_type": "code",
   "execution_count": 3,
   "metadata": {
    "hidden": true
   },
   "outputs": [],
   "source": [
    "# Imports!\n",
    "from scipy import stats\n",
    "\n",
    "import matplotlib.pyplot as plt\n",
    "%matplotlib inline\n",
    "import seaborn as sns\n",
    "\n",
    "import pandas as pd\n",
    "import numpy as np"
   ]
  },
  {
   "cell_type": "markdown",
   "metadata": {
    "heading_collapsed": true
   },
   "source": [
    "# Normal Distribution"
   ]
  },
  {
   "cell_type": "markdown",
   "metadata": {
    "hidden": true
   },
   "source": [
    "We'll find that the **normal distribution** or **normal curve** or **bell curve** (it has many names) is a very common distribution and it's very useful to us in statistics."
   ]
  },
  {
   "cell_type": "markdown",
   "metadata": {
    "hidden": true
   },
   "source": [
    "![](images/normal_curve_animation.gif)"
   ]
  },
  {
   "cell_type": "markdown",
   "metadata": {
    "heading_collapsed": true,
    "hidden": true
   },
   "source": [
    "## Why a Normal Distribution?"
   ]
  },
  {
   "cell_type": "markdown",
   "metadata": {
    "hidden": true
   },
   "source": [
    "Turns out the normal distribution describes many phenomena. Think of anything that has a typical range:\n",
    "\n",
    "- human body temperatures\n",
    "- sizes of elephants\n",
    "- sizes of stars\n",
    "- populations of cities\n",
    "- IQ\n",
    "- heart rate"
   ]
  },
  {
   "cell_type": "markdown",
   "metadata": {
    "hidden": true
   },
   "source": [
    "Among human beings, 98.6 degrees Fahrenheit is an _average_ body temperature. Many folks' temperatures won't measure _exactly_ 98.6 degrees, but most measurements will be _close_. It is much more common to have a body temperature close to 98.6 (whether slightly more or slightly less) than it is to have a body temperature far from 98.6 (whether significantly more or significantly less). This is a hallmark of a normally distributed variable."
   ]
  },
  {
   "cell_type": "code",
   "execution_count": 4,
   "metadata": {
    "hidden": true
   },
   "outputs": [
    {
     "data": {
      "image/png": "[encoded data removed]",
      "text/plain": [
       "<Figure size 640x480 with 1 Axes>"
      ]
     },
     "metadata": {},
     "output_type": "display_data"
    }
   ],
   "source": [
    "# Visualize it\n",
    "fig, ax = plt.subplots()\n",
    "\n",
    "mu = 0\n",
    "sigma = 1\n",
    "# This defines the points along the x-axis\n",
    "x = np.linspace(\n",
    "        stats.norm(mu,sigma).ppf(0.01), # Start plotting here\n",
    "        stats.norm(mu,sigma).ppf(0.99), # End plotting here\n",
    "        100                             # Number of points\n",
    ")\n",
    "# The values as at x given by the normal curve (with mu & sigma)\n",
    "y = stats.norm(mu,sigma).pdf(x)\n",
    "ax.plot(x, y,'r-');"
   ]
  },
  {
   "cell_type": "markdown",
   "metadata": {},
   "source": [
    "The Standard Normal Distribution, also known as a Gaussian distribution, is special not only because it shows up EVERYWHERE but also because it's symmetric (mean == median == mode)"
   ]
  },
  {
   "cell_type": "markdown",
   "metadata": {
    "hidden": true
   },
   "source": [
    "### Normal Curve\n",
    "\n",
    "If you're curious about how we can mathematically define a normal curve, we give this below. (Don't worry, you don't need to recall the mathematical definition).\n",
    "\n",
    "<details>\n",
    "\n",
    "$\\Large f(x) = \\frac{1}{\\sqrt{2\\pi\\sigma^2}}e^{\\frac{-(x - \\mu)^2}{2\\sigma^2}}$\n",
    "    \n",
    "This might look complicated at first, but it means that the we describe a normal curve with just **two parameters**: $\\sigma^2$ (the variance) & $\\mu$ (the mean). You may see the notation $N(\\mu, \\sigma^2)$ which emphasizes there are only two parameters to describe the distribution.\n",
    "</details>"
   ]
  },
  {
   "cell_type": "markdown",
   "metadata": {
    "hidden": true
   },
   "source": [
    "\n"
   ]
  },
  {
   "cell_type": "markdown",
   "metadata": {
    "heading_collapsed": true,
    "hidden": true
   },
   "source": [
    "## *Standard* Normal Distribution"
   ]
  },
  {
   "cell_type": "markdown",
   "metadata": {
    "hidden": true
   },
   "source": [
    "A special normal distribution called the **standard normal distribution** has a mean of 0 and variance of 1. This is also known as a **z distribution**."
   ]
  },
  {
   "cell_type": "markdown",
   "metadata": {
    "hidden": true
   },
   "source": [
    "Since we know that the shape of a normal distribution changes based on its mean and variance, we'll typically convert or **standardize** our normal distribution to the standard normal distribution."
   ]
  },
  {
   "cell_type": "markdown",
   "metadata": {
    "hidden": true
   },
   "source": [
    "We simply subtract the mean $\\mu$ from each value and then divide by the standard deviation $\\sigma$:\n",
    "\n",
    "$$\\frac{x - \\mu}{\\sigma}$$\n",
    "\n",
    "We call this process **standardization**."
   ]
  },
  {
   "cell_type": "markdown",
   "metadata": {
    "hidden": true
   },
   "source": [
    "![norm_to_z](images/norm_to_z.png)"
   ]
  },
  {
   "cell_type": "code",
   "execution_count": 8,
   "metadata": {
    "hidden": true,
    "scrolled": false
   },
   "outputs": [
    {
     "data": {
      "text/plain": [
       "4.9201930138407155"
      ]
     },
     "execution_count": 8,
     "metadata": {},
     "output_type": "execute_result"
    }
   ],
   "source": [
    "# Let's transform the normal distribution centered on 5\n",
    "# with a standard deviation of 2 into a standard normal\n",
    "\n",
    "# Generating our data\n",
    "normal_dist = np.random.normal(loc=5, scale=2, size=1000)\n",
    "\n",
    "np.mean(normal_dist) #sanity check"
   ]
  },
  {
   "cell_type": "code",
   "execution_count": 10,
   "metadata": {},
   "outputs": [
    {
     "data": {
      "text/plain": [
       "array([ 0.8094706 ,  4.62968194,  6.64314522,  7.17154176,  2.03689288,\n",
       "        1.4835876 ,  8.07406699,  5.40396078,  6.35121349,  4.02403378,\n",
       "        3.10566366,  4.80512322,  1.70057562,  6.47888129,  5.10887092,\n",
       "        4.39089693,  3.34523059,  2.20347705,  3.39578758,  5.25867798,\n",
       "        6.21273613,  5.26789381,  1.82143413,  2.40468396,  7.354968  ,\n",
       "        7.23041808,  3.37651257,  3.71014448,  6.9309236 ,  1.72227604,\n",
       "        5.09400829,  2.64536055,  4.65416542,  6.06001691,  3.37124082,\n",
       "        6.15921602,  3.53920519,  4.62390936,  6.43297972,  3.84689933,\n",
       "        1.39109557,  7.35923121,  4.2356504 ,  4.08490903,  6.43701256,\n",
       "        3.20578386,  3.49993082,  4.91732642,  2.98115016,  3.98055133,\n",
       "        3.39471025,  4.6455914 ,  2.17892457,  2.97656268,  5.68904539,\n",
       "        3.63909531,  2.72571139,  2.92610808,  6.31442493,  9.95665366,\n",
       "        6.18283595,  4.71309722,  2.55957046,  2.40795834,  6.27179803,\n",
       "        9.6639351 ,  4.61927829,  3.584699  ,  8.49084664,  3.8017386 ,\n",
       "        5.69215257,  0.92967906,  5.63693988,  5.6944852 ,  4.42712318,\n",
       "        3.5980358 ,  2.07975995,  4.27625064,  2.86277471,  5.6256198 ,\n",
       "        3.05714385,  5.04309644,  6.04219504,  9.83860049,  5.5549155 ,\n",
       "        5.99864227,  4.6626313 ,  7.65873136,  3.64078576,  7.69298632,\n",
       "        5.48012767,  6.03539358,  6.48149146,  5.35113738,  6.48692663,\n",
       "        5.06136194,  4.18096035,  3.60312794,  5.05747195,  3.4240481 ,\n",
       "        3.67970145,  6.19675144,  6.6937876 ,  5.69666248,  3.56330306,\n",
       "        3.31314296, -0.06927534,  4.01499992,  1.92704317,  8.44757664,\n",
       "        2.17277696,  4.7452612 ,  5.29726497,  2.39857092,  8.14535173,\n",
       "        4.89571557,  2.80362573,  1.99502315,  4.35587855,  6.41334097,\n",
       "        2.92775694,  5.07660352,  4.03045017,  5.65241862,  4.01270047,\n",
       "        5.63171684,  2.52375789,  5.18577913,  3.97910185,  4.70356432,\n",
       "        8.69120124,  6.17934658,  1.14017889,  4.70515692,  2.21505968,\n",
       "        4.58159434,  3.58664813,  5.64233101,  4.44047915,  4.58867175,\n",
       "        8.83927974,  7.56762437,  7.17041156,  6.7990847 ,  3.81697272,\n",
       "        6.05547169,  3.67154466,  5.20674526,  5.47543065,  2.60349705,\n",
       "        3.36160073,  4.45305567,  5.37594884,  5.93828253,  3.74900179,\n",
       "        4.51103754,  3.88124072,  0.46143657,  8.14189907,  4.59351734,\n",
       "        7.7940866 ,  4.10910977, -1.7519287 ,  7.23054501,  3.1760307 ,\n",
       "        5.51999677,  6.93555766,  4.55601462,  5.95582634,  8.10809141,\n",
       "        3.44772947,  5.33795356,  5.14199932,  5.05467116,  4.8021429 ,\n",
       "        6.77810169,  5.46210497,  3.83509434,  2.69415414,  7.90845301,\n",
       "        2.99245372,  5.1560307 ,  3.62699234,  1.47126111,  2.86073854,\n",
       "        5.74284249,  5.17252037,  6.57187492,  3.82142575,  4.02178429,\n",
       "        5.24782005,  3.87806536,  3.39841241,  7.26846816,  1.84429492,\n",
       "       10.30620705,  7.92018238,  6.60992862,  3.10613355,  6.28295116,\n",
       "        5.46719057,  3.4691495 ,  3.02230062,  6.70667672,  9.38863293,\n",
       "        3.33604148,  4.22072554,  4.31189842,  8.71151042,  8.38039181,\n",
       "        6.62493471,  7.11849287,  6.28669612,  7.41603238,  3.51262405,\n",
       "        5.25254881,  2.80826391,  5.43867725,  3.98804959,  6.80085609,\n",
       "        0.85536895,  7.18409004,  4.13554234,  4.06121928,  6.10250775,\n",
       "        3.03730112,  1.6878419 ,  5.60864659,  6.50931942,  6.51182029,\n",
       "        3.47220794,  8.2783294 ,  3.42961222,  5.79125723,  2.53789722,\n",
       "        3.31336602,  7.11108734,  5.43198172,  3.95712348,  0.07570359,\n",
       "        5.90804178,  2.56979279,  5.6194063 ,  6.49049303,  3.69722858,\n",
       "        4.18765201,  2.9821995 ,  7.43826493,  3.94223152,  2.94132783,\n",
       "        7.72349464,  6.54351765,  6.24825029,  6.4812121 ,  0.46920458,\n",
       "        4.00112719,  4.93656134,  2.74836444,  5.93564092,  7.07567534,\n",
       "        6.01159044,  7.48253892,  5.41007971,  4.26133559,  7.3577217 ,\n",
       "        7.71012891,  8.83928504, -0.19049181,  5.91735483,  3.54378796,\n",
       "        7.12135828,  3.16700437,  3.68539406,  3.06877475,  1.92148202,\n",
       "        7.45541486,  7.83695703,  5.02464487,  4.97101504,  1.83015431,\n",
       "        4.55857632,  4.40119015,  6.21131048,  4.8454057 ,  3.27772071,\n",
       "        5.1045287 ,  6.27893365,  5.52701788,  6.60753837,  6.36382969,\n",
       "        6.43081692,  3.57812559,  6.87969252,  5.28194437,  6.76547134,\n",
       "        2.70050663,  5.49828077,  4.61914223,  4.5519856 ,  5.87348983,\n",
       "        3.97783462,  4.78973836,  7.67584209,  3.27219823,  0.43510777,\n",
       "        6.4094664 ,  4.22083386,  3.04505003,  3.04820182,  4.93721181,\n",
       "        3.61421562,  3.39885483,  8.87910074,  4.68376531,  6.35991231,\n",
       "        2.48016301,  8.45608508,  3.70972431,  3.49118469,  9.53947732,\n",
       "        4.58412365, -0.20991315,  5.75877873, -0.39502931,  7.40163955,\n",
       "        1.45426913,  3.64690762,  2.26535155,  7.35161172,  1.68036777,\n",
       "        3.55844089,  2.57266142,  5.34698539,  4.64293284,  4.95637662,\n",
       "        3.95561994,  4.45215   ,  2.49451806, 11.35857983,  5.92403651,\n",
       "        6.81545584,  5.21704243,  6.33132217,  6.70424422,  1.55452842,\n",
       "        3.66158128,  4.27327968,  4.6225966 ,  8.38352272,  5.30605559,\n",
       "        1.38889688,  4.53764303,  7.50104189,  3.4392059 ,  5.49512299,\n",
       "        7.13290261,  4.71287628,  0.62254153,  5.59824379,  2.61864799,\n",
       "        7.67396268,  6.72833093,  4.00526439,  1.59481954,  5.62319828,\n",
       "        2.74682758,  0.66479615,  7.63120264,  4.90298569,  0.76506611,\n",
       "        5.68814624,  7.46520167,  3.6967697 ,  3.47793968,  3.91869042,\n",
       "        4.06214494,  4.05093656,  2.96781093,  6.68372741,  5.5545908 ,\n",
       "        4.76865537,  5.58294235,  6.87663021,  4.14217386,  7.09798243,\n",
       "        1.7804325 ,  7.19234226,  4.69009612,  2.76058269,  4.94264703,\n",
       "        5.0528548 ,  7.53365488,  8.07828525,  3.5289988 ,  3.89781371,\n",
       "        4.32317606,  6.35861805,  7.90991176,  4.23750842,  4.08516017,\n",
       "        8.03921499,  4.28864132,  6.50518934,  6.2717731 ,  5.92599102,\n",
       "        4.92242871,  8.02599525,  4.23163506,  7.9895772 ,  5.67045304,\n",
       "        6.54241601,  7.40775545,  4.35122809,  6.40496665,  7.06001025,\n",
       "        6.46202019,  4.26774625,  6.28469679,  9.12173905,  7.31401251,\n",
       "        2.22729842,  2.70078964,  4.18860222,  6.12326449,  3.56668499,\n",
       "        4.33273416,  3.63488058,  5.64059099,  3.78977207,  5.69354792,\n",
       "        4.98193187,  8.95575476,  2.91651282,  3.12772477,  6.59518235,\n",
       "        3.04925858,  8.1165839 ,  4.65587876,  7.00909091,  7.61942509,\n",
       "        4.28582389,  7.69544369,  8.70342839,  3.54773687,  4.5024623 ,\n",
       "        6.31900418,  5.17824857,  5.48602817,  3.6617933 ,  8.19447773,\n",
       "        2.32540105,  6.40045946,  3.73447639,  5.71992307,  5.07082889,\n",
       "        5.24622879,  1.52756557,  2.839952  ,  3.19302801,  3.63222829,\n",
       "        6.81872427,  3.87666975,  4.72829666,  8.86945175,  6.17849198,\n",
       "        4.11239961,  2.6828896 ,  5.69032319,  4.97836063,  4.15338957,\n",
       "        5.7960683 ,  7.87919638,  3.90520297,  4.14603876,  2.23520626,\n",
       "        5.46330453,  6.04801299,  6.55992882,  4.79629481,  4.99762419,\n",
       "        7.9804029 ,  5.34712865,  4.60034391,  7.27402281,  6.69280941,\n",
       "        6.22717803,  6.41574195,  4.80937543,  3.77628301,  1.93534102,\n",
       "        5.79378587,  1.89625629,  0.63541027,  5.80382437,  6.66056901,\n",
       "        6.38101156,  4.16724923,  6.00651778,  5.99730838,  1.67069742,\n",
       "        3.19792984,  6.17421993,  5.95149685,  4.96175944,  5.15003284,\n",
       "        3.56633066,  5.55330589,  7.38032177,  4.17108692,  5.54871963,\n",
       "        6.23357301,  6.6275805 ,  3.97026091, -1.32269325,  5.2771296 ,\n",
       "        6.85335571,  4.43935973,  4.00620526,  6.78951028,  6.32053789,\n",
       "        5.62978347,  3.56171215,  8.75813049,  3.04585522,  4.7442242 ,\n",
       "        7.26035121,  2.60537157,  5.23393721,  3.48130745,  3.18194701,\n",
       "        3.80364898,  6.39769966,  5.61606303,  4.6584175 ,  2.21199618,\n",
       "        5.33956996,  6.6068295 ,  6.69738646,  3.36621061,  5.16181495,\n",
       "        2.90655875,  5.11693734,  2.67554799,  2.91766832,  0.14773188,\n",
       "        5.30112896,  3.75475528,  3.2587084 ,  7.01468564,  5.4621725 ,\n",
       "        7.90382554,  5.20793765,  7.48828589,  3.57303506,  6.49198429,\n",
       "        4.45810079,  4.74117345,  0.01841829,  5.66820864,  7.92229128,\n",
       "        3.06410035,  4.734239  ,  6.65416282,  3.92779117,  5.68996834,\n",
       "        3.99703732,  5.23856601,  6.74415017,  4.69254417,  5.24623719,\n",
       "        2.33601233,  1.63902917,  6.32862317,  6.31381307,  6.65540712,\n",
       "        5.54648388,  6.3143547 ,  7.17876988,  5.37660774,  2.13881268,\n",
       "        4.89016982,  4.67307032,  3.70855092,  5.17604706,  3.23960257,\n",
       "        3.57440822,  3.49818859,  3.10235749,  5.02409711,  2.56832311,\n",
       "        5.25800889,  2.60033692,  7.35106911,  3.58863492,  6.71733739,\n",
       "        4.56106426,  5.45935911,  4.26337858,  6.77171808,  5.63056443,\n",
       "        4.36546938,  3.38867387,  7.2060178 ,  5.52367058,  2.15057685,\n",
       "        8.2375653 ,  5.0959353 ,  3.28728254,  6.12833368,  6.40396189,\n",
       "        2.24320974,  2.18493605,  7.19529763,  8.58572979,  5.61981045,\n",
       "        2.13721462,  3.81789452,  2.49384588,  1.1625836 ,  4.71354534,\n",
       "        6.89406344,  5.75900803,  4.23245462,  4.3964951 ,  3.08793436,\n",
       "        5.84951468,  4.83062308, 10.77484164,  3.59515752,  4.86805768,\n",
       "        6.47479055,  6.73799222,  7.57006421,  4.24644439,  2.06815985,\n",
       "        8.65912615,  5.78008318,  3.62109504,  3.59685058,  3.51108689,\n",
       "        4.09228256,  7.70851306,  4.15307688,  4.27163032,  3.30516708,\n",
       "        5.96163549,  3.88583001,  9.19698954,  5.69095469,  5.55268497,\n",
       "        5.69258994,  4.07185487,  6.62480151,  6.18094053,  5.14357274,\n",
       "        5.90347777,  7.70503853,  1.5805958 ,  3.80213948,  8.31536357,\n",
       "        2.00736461,  4.62228071,  4.82516138,  6.67496246,  7.07956808,\n",
       "        6.51169786,  3.67199328,  4.69195089,  5.4278789 ,  5.96855929,\n",
       "        2.08158105,  4.29346562,  0.99572839,  4.94887143,  4.8546127 ,\n",
       "        1.76634836,  4.95481564,  4.11624647,  4.8112208 ,  7.05620794,\n",
       "        4.71111352,  1.13959515,  3.91143998,  5.73665962,  5.62055569,\n",
       "        6.34285429,  5.2454137 ,  8.56340525,  5.51955822,  8.66718735,\n",
       "        6.5608945 ,  2.84514548,  4.53362069,  6.02953492,  6.70475727,\n",
       "        5.23498277,  6.25568555,  1.70550208,  7.65895079,  4.0978903 ,\n",
       "        5.66732674,  4.46966159,  2.28931034,  1.41025882,  5.62296552,\n",
       "        5.18382278,  6.11195022,  4.03199147,  3.46978874,  0.99807033,\n",
       "        3.80721346,  7.97806464,  5.81617037,  1.50992941,  4.58265309,\n",
       "        8.70921203,  3.68818057,  6.86836824,  2.74546625,  6.97136548,\n",
       "        7.41684729,  2.28373118,  7.86442952,  4.32056723,  8.61426468,\n",
       "        3.05965328,  3.09999138,  8.12181818,  2.06334164,  6.29527345,\n",
       "        1.59378885,  8.44367525,  3.17186836,  5.76882506,  9.04229723,\n",
       "        0.0575195 ,  6.13923327,  6.21110929,  7.57303989,  4.47823665,\n",
       "        5.09399644,  5.44800915,  8.01770886,  7.42192461, -0.31352539,\n",
       "       10.74506725,  6.47899429,  4.96047277,  4.85724759,  0.31643992,\n",
       "        2.79229504,  2.91285144,  5.20777132,  7.02708787,  0.89381293,\n",
       "        4.91524671,  5.25881141,  4.15530851,  6.07930979,  5.58182244,\n",
       "        3.22104125,  4.95392473,  0.16769737,  6.14248154,  8.15413947,\n",
       "        6.06269291,  3.79880169,  3.18026302,  2.91793062,  8.3291818 ,\n",
       "        2.32984472,  8.35262598,  2.48481344,  5.13780683,  3.27281041,\n",
       "        6.86008024,  7.94580036,  2.67640543,  7.28079241,  4.39656865,\n",
       "       -0.39535346,  5.58325516,  9.5463371 ,  5.36725997,  3.97898268,\n",
       "        1.99735915,  4.42532645,  6.40168655,  3.21431496,  7.37326096,\n",
       "        3.53519153,  5.09172606,  2.94277823,  6.36487888,  4.5858788 ,\n",
       "        6.35640293,  0.96832941,  2.68858333,  2.24283893,  5.48414514,\n",
       "        8.02221218,  2.31178472,  6.43471112,  8.5641969 ,  5.09340419,\n",
       "        5.50895256,  2.21725151,  8.0154137 ,  2.52023052,  5.36165584,\n",
       "        2.64088047,  4.55792762,  5.23078344,  3.45811335,  7.99170964,\n",
       "        4.8472385 ,  4.63383476,  5.99290226,  6.26263554,  9.15059842,\n",
       "        4.90221065,  5.76489001,  3.99332884,  3.68269904,  3.03425835,\n",
       "        4.68698128,  3.59411954,  5.11506111,  4.85913901,  6.17903056,\n",
       "        8.22637044,  5.20008902,  5.68849063,  7.60478524,  6.98357343,\n",
       "        4.97555648,  8.47646128,  5.79485039,  6.95823635, 10.74661559,\n",
       "        9.37562339,  5.66716447,  5.26417632,  5.69859104,  5.4908653 ,\n",
       "        2.70607606,  3.6651406 ,  1.99623695,  5.67165635,  4.20697604,\n",
       "        2.69889795,  7.11139616,  3.64933698,  6.08965284,  3.31704745,\n",
       "        2.67545879,  3.37937571,  8.44495352,  5.38419913,  6.92278456,\n",
       "        2.1776752 ,  3.48762451,  5.67723898,  0.90809843,  5.39139563,\n",
       "        3.34199202,  0.35532694,  4.55979064,  1.39011834,  4.67157122,\n",
       "        6.26743941,  6.04293601,  5.65903113,  0.77069524,  7.94941985,\n",
       "        4.18223475,  7.01021798,  2.01184062,  7.69960853,  6.00864726,\n",
       "        6.7917511 , -2.44985776,  7.67185731,  9.30236319,  5.78804273,\n",
       "        8.69713134,  5.06769767,  4.91343261,  4.62742551,  6.40946741,\n",
       "        6.705495  ,  5.89318193,  5.30849652,  0.90624208,  4.38568501,\n",
       "        2.85416797,  2.78090388,  0.71838579,  4.70555667,  5.26778668,\n",
       "        7.64189031,  7.68194207,  8.69292714,  1.28939328,  6.89222572,\n",
       "        5.41994543,  3.71659758,  2.35688488,  7.62004789,  1.02591627,\n",
       "        6.73233894,  4.72615825,  5.07597111,  4.09916208,  2.90687151,\n",
       "        3.89419887,  6.02986977,  3.58039802,  7.17451657,  7.83268478,\n",
       "        4.00102744,  2.34388969,  4.40770183,  7.33267809,  8.05551417,\n",
       "        7.19928891,  6.31292005,  3.25829732,  4.47279397,  3.75634142,\n",
       "        4.51160057,  2.73924527,  4.11516467,  2.50893884,  7.72225056,\n",
       "        7.58378534,  9.00964379,  6.76628304,  2.8854819 ,  4.67899982,\n",
       "        1.84501495,  4.98917818,  8.4440688 ,  5.38027239,  5.57426272,\n",
       "        5.30963269,  1.21638549,  3.41363366,  4.70453714,  7.24401854,\n",
       "        8.16488805,  4.63581232,  6.63169531,  8.08147646,  4.23920318,\n",
       "        2.39190835,  2.5922207 ,  6.35955833,  6.84395058,  3.3771647 ,\n",
       "        2.69202063,  4.38709095,  3.37254234,  2.00159927,  6.80184252,\n",
       "        5.07900045,  2.78467155,  7.27442689,  2.40622858,  5.40346496,\n",
       "        4.71286143,  4.6923262 ,  7.62119502,  5.49571207,  3.11372705,\n",
       "        2.41935549,  3.51239328,  5.88235574,  5.64456345,  4.81873798,\n",
       "        6.29530364,  5.58622827,  5.82226556,  3.71028072,  6.2589497 ,\n",
       "        6.08618714,  5.39720347,  3.01160212,  3.14127476,  2.92692582,\n",
       "        5.29896432,  3.60767291,  7.48140608,  5.15807083,  4.76588427,\n",
       "        6.48493088,  4.21431782,  3.10875776,  3.50188531,  3.44301154])"
      ]
     },
     "execution_count": 10,
     "metadata": {},
     "output_type": "execute_result"
    }
   ],
   "source": [
    "normal_dist #array "
   ]
  },
  {
   "cell_type": "code",
   "execution_count": 11,
   "metadata": {},
   "outputs": [
    {
     "data": {
      "text/plain": [
       "-1.8829382497642654e-16"
      ]
     },
     "execution_count": 11,
     "metadata": {},
     "output_type": "execute_result"
    }
   ],
   "source": [
    "# Here, let's standardize by hand\n",
    "# (x - mean) / std\n",
    "z_dist = [(x - np.mean(normal_dist)) / np.std(normal_dist)\n",
    "          for x in normal_dist]\n",
    "\n",
    "np.mean(z_dist)"
   ]
  },
  {
   "cell_type": "code",
   "execution_count": 12,
   "metadata": {},
   "outputs": [
    {
     "data": {
      "image/png": "[encoded data removed]",
      "text/plain": [
       "<Figure size 1000x600 with 2 Axes>"
      ]
     },
     "metadata": {},
     "output_type": "display_data"
    }
   ],
   "source": [
    "# Visualize it\n",
    "fig, (ax0, ax1) = plt.subplots(nrows=2, sharex=True, figsize=(10, 6))\n",
    "\n",
    "sns.histplot(data=normal_dist, ax=ax0)\n",
    "ax0.set_title('Before Standardization')\n",
    "\n",
    "sns.histplot(data=z_dist, ax=ax1)\n",
    "ax1.set_title('After Standardization')\n",
    "\n",
    "plt.tight_layout()"
   ]
  },
  {
   "cell_type": "markdown",
   "metadata": {
    "hidden": true
   },
   "source": [
    "Talking about the **standard normal distribution** can be very convenient since the values correspond to the number of standard deviations above or below the mean."
   ]
  },
  {
   "cell_type": "markdown",
   "metadata": {
    "heading_collapsed": true,
    "hidden": true
   },
   "source": [
    "## $z$-Score"
   ]
  },
  {
   "cell_type": "markdown",
   "metadata": {
    "hidden": true
   },
   "source": [
    "A **$z$-score** for a specific data point $x$ (in a normal distribution) is simply the distance to the mean in the units of standard deviations\n",
    "\n",
    "$$\\large z = \\frac{x - \\mu}{\\sigma}$$\n",
    "\n",
    "By calculating the z-score of an individual point, we can see how unlikely a value is."
   ]
  },
  {
   "cell_type": "markdown",
   "metadata": {
    "hidden": true
   },
   "source": [
    "Here's a little site with some [interactive Gaussians](https://www.intmath.com/counting-probability/normal-distribution-graph-interactive.php)"
   ]
  },
  {
   "cell_type": "markdown",
   "metadata": {
    "heading_collapsed": true,
    "hidden": true
   },
   "source": [
    "#### 🧠 Knowledge Check"
   ]
  },
  {
   "cell_type": "markdown",
   "metadata": {
    "hidden": true
   },
   "source": [
    "What would the $z$-score be for the middle of a normal curve?\n",
    "\n",
    "- \n"
   ]
  },
  {
   "cell_type": "markdown",
   "metadata": {
    "heading_collapsed": true,
    "hidden": true
   },
   "source": [
    "### The Empirical Rule"
   ]
  },
  {
   "cell_type": "markdown",
   "metadata": {
    "hidden": true
   },
   "source": [
    "> Rule states that $68\\%$ of the values of a normal distribution of data lie within 1 standard deviation ($\\sigma$) of the mean, $95\\%$ within $2\\sigma$, and $99.7\\%$ within $3\\sigma$.  \n",
    "\n",
    "This makes it really quick to look at a normal distribution and understand where values tend to lie"
   ]
  },
  {
   "cell_type": "markdown",
   "metadata": {
    "hidden": true
   },
   "source": [
    "<img src='https://github.com/learn-co-students/dsc-0-09-12-gaussian-distributions-online-ds-ft-031119/blob/master/normalsd.jpg?raw=true' width=700/>"
   ]
  },
  {
   "cell_type": "markdown",
   "metadata": {
    "heading_collapsed": true,
    "hidden": true
   },
   "source": [
    "#### 🧠 Knowledge Check"
   ]
  },
  {
   "cell_type": "markdown",
   "metadata": {
    "hidden": true
   },
   "source": [
    "About what percentage of the values would be between a $z$-score of $-1$ and a $z$-score of $2$?\n",
    "\n",
    "<details>\n",
    "    <summary>Answer</summary>\n",
    "    About $82\\%$\n",
    "</details>"
   ]
  },
  {
   "cell_type": "code",
   "execution_count": 22,
   "metadata": {},
   "outputs": [
    {
     "data": {
      "text/plain": [
       "0.8185946141203637"
      ]
     },
     "execution_count": 22,
     "metadata": {},
     "output_type": "execute_result"
    }
   ],
   "source": [
    "stats.norm.cdf(2)-stats.norm.cdf(-1)"
   ]
  },
  {
   "cell_type": "code",
   "execution_count": null,
   "metadata": {},
   "outputs": [],
   "source": []
  },
  {
   "cell_type": "markdown",
   "metadata": {
    "heading_collapsed": true
   },
   "source": [
    "# Exercises"
   ]
  },
  {
   "cell_type": "markdown",
   "metadata": {},
   "source": [
    "The distribution of people's heights in the United States has a **mean of 66 inches** and a **standard deviation of 4 inches**. "
   ]
  },
  {
   "cell_type": "markdown",
   "metadata": {
    "heading_collapsed": true,
    "hidden": true
   },
   "source": [
    "## Height $z$-score"
   ]
  },
  {
   "cell_type": "markdown",
   "metadata": {
    "hidden": true
   },
   "source": [
    "Calculate the z-score of a height of **76 inches.**"
   ]
  },
  {
   "cell_type": "code",
   "execution_count": 13,
   "metadata": {
    "hidden": true
   },
   "outputs": [
    {
     "data": {
      "text/plain": [
       "2.5"
      ]
     },
     "execution_count": 13,
     "metadata": {},
     "output_type": "execute_result"
    }
   ],
   "source": [
    "# Your code here\n",
    "\n",
    "mu = 66\n",
    "sigma = 4\n",
    "\n",
    "z = (76 - mu)/sigma\n",
    "z"
   ]
  },
  {
   "cell_type": "code",
   "execution_count": 14,
   "metadata": {},
   "outputs": [
    {
     "data": {
      "text/plain": [
       "0.006209665325776159"
      ]
     },
     "execution_count": 14,
     "metadata": {},
     "output_type": "execute_result"
    }
   ],
   "source": [
    "1- stats.norm.cdf(z)"
   ]
  },
  {
   "cell_type": "markdown",
   "metadata": {},
   "source": [
    "<details>\n",
    "    <summary>Answer</summary>\n",
    "    <code># z-score: z = (x - mu) / std\n",
    "(76 - 66) / 4</code>\n",
    "</details>"
   ]
  },
  {
   "cell_type": "markdown",
   "metadata": {},
   "source": [
    "#### Describe the z-score - what does it tell us?\n",
    "\n",
    "- \n"
   ]
  },
  {
   "cell_type": "markdown",
   "metadata": {
    "heading_collapsed": true,
    "hidden": true
   },
   "source": [
    "## Height Empirical Rule"
   ]
  },
  {
   "cell_type": "markdown",
   "metadata": {
    "hidden": true
   },
   "source": [
    "Determine the proportion of those whose height is between **62 inches and 74 inches**."
   ]
  },
  {
   "cell_type": "code",
   "execution_count": 24,
   "metadata": {},
   "outputs": [
    {
     "data": {
      "text/plain": [
       "(2.0, -1.0)"
      ]
     },
     "execution_count": 24,
     "metadata": {},
     "output_type": "execute_result"
    }
   ],
   "source": [
    "# Your code here\n",
    "\n",
    "z_74 = (74 - mu)/sigma\n",
    "z_62 = (62 - mu)/sigma \n",
    "\n",
    "z_74,z_62"
   ]
  },
  {
   "cell_type": "code",
   "execution_count": 25,
   "metadata": {},
   "outputs": [
    {
     "data": {
      "text/plain": [
       "0.8185946141203637"
      ]
     },
     "execution_count": 25,
     "metadata": {},
     "output_type": "execute_result"
    }
   ],
   "source": [
    "stats.norm.cdf(2)-stats.norm.cdf(-1)"
   ]
  },
  {
   "cell_type": "code",
   "execution_count": 26,
   "metadata": {},
   "outputs": [
    {
     "data": {
      "text/plain": [
       "0.8185946141203637"
      ]
     },
     "execution_count": 26,
     "metadata": {},
     "output_type": "execute_result"
    }
   ],
   "source": [
    "heights = stats.norm(loc=66, scale=4)\n",
    "heights.cdf(74) - heights.cdf(62)"
   ]
  },
  {
   "cell_type": "markdown",
   "metadata": {},
   "source": [
    "<details>\n",
    "    <summary>Answer 1</summary>\n",
    "<code># z-scores for 62\" and 74\":\n",
    "z_62 = (62 - 66) / 4\n",
    "z_74 = (74 - 66) / 4\n",
    "z_62, z_74</code>\n",
    "    </details>"
   ]
  },
  {
   "cell_type": "markdown",
   "metadata": {},
   "source": [
    "<details>\n",
    "    <summary>Answer 2</summary>\n",
    "    <code>heights = stats.norm(loc=66, scale=4)\n",
    "heights.cdf(74) - heights.cdf(62)</code>\n",
    "    </details>"
   ]
  },
  {
   "cell_type": "markdown",
   "metadata": {
    "heading_collapsed": true,
    "hidden": true
   },
   "source": [
    "## Height Percentile"
   ]
  },
  {
   "cell_type": "markdown",
   "metadata": {
    "hidden": true
   },
   "source": [
    "Assuming the above distribution of people's heights in the United States is approximately normal, what percent of people have a height **less than 75 inches**?"
   ]
  },
  {
   "cell_type": "code",
   "execution_count": 18,
   "metadata": {},
   "outputs": [
    {
     "data": {
      "text/plain": [
       "0.9877755273449553"
      ]
     },
     "execution_count": 18,
     "metadata": {},
     "output_type": "execute_result"
    }
   ],
   "source": [
    "# Your code here\n",
    "heights.cdf(75)\n"
   ]
  },
  {
   "cell_type": "markdown",
   "metadata": {},
   "source": [
    "<details>\n",
    "    <summary>Answer</summary>\n",
    "    <code>heights.cdf(75)</code>\n",
    "    </details>"
   ]
  },
  {
   "cell_type": "markdown",
   "metadata": {
    "heading_collapsed": true,
    "hidden": true
   },
   "source": [
    "## Bonus"
   ]
  },
  {
   "cell_type": "markdown",
   "metadata": {
    "hidden": true
   },
   "source": [
    "Assuming the above distribution of people's heights in the United States is approximately normal, what range of heights contain the **middle 50% of values**, also known as the _interquartile range_ (IQR)?"
   ]
  },
  {
   "cell_type": "code",
   "execution_count": 21,
   "metadata": {},
   "outputs": [
    {
     "data": {
      "text/plain": [
       "5.395918001568653"
      ]
     },
     "execution_count": 21,
     "metadata": {},
     "output_type": "execute_result"
    }
   ],
   "source": [
    "# Your code here\n",
    "Q1_height = stats.norm.ppf(0.25, loc=66, scale=4)\n",
    "Q3_height = stats.norm.ppf(0.75, loc=66, scale=4)\n",
    "IQR = Q3_height - Q1_height\n",
    "IQR"
   ]
  },
  {
   "cell_type": "markdown",
   "metadata": {},
   "source": [
    "<details>\n",
    "    <summary>Answer</summary>\n",
    "    <code>heights.ppf(0.25), heights.ppf(0.75)</code>\n",
    "    </details>"
   ]
  },
  {
   "cell_type": "markdown",
   "metadata": {},
   "source": [
    "## Time for Pandas!\n",
    "\n",
    "Let's use the same Seattle City Employee data from the first Distributions lecture to check out what scaling looks like in practice!\n",
    "\n",
    "Data source: https://data.seattle.gov/City-Business/City-of-Seattle-Wage-Data/2khk-5ukd"
   ]
  },
  {
   "cell_type": "code",
   "execution_count": 27,
   "metadata": {},
   "outputs": [],
   "source": [
    "# Read in the data\n",
    "df = pd.read_csv('data/City_of_Seattle_Wage_Data_031422.csv')"
   ]
  },
  {
   "cell_type": "code",
   "execution_count": 28,
   "metadata": {},
   "outputs": [
    {
     "data": {
      "text/html": [
       "<div>\n",
       "<style scoped>\n",
       "    .dataframe tbody tr th:only-of-type {\n",
       "        vertical-align: middle;\n",
       "    }\n",
       "\n",
       "    .dataframe tbody tr th {\n",
       "        vertical-align: top;\n",
       "    }\n",
       "\n",
       "    .dataframe thead th {\n",
       "        text-align: right;\n",
       "    }\n",
       "</style>\n",
       "<table border=\"1\" class=\"dataframe\">\n",
       "  <thead>\n",
       "    <tr style=\"text-align: right;\">\n",
       "      <th></th>\n",
       "      <th>Department</th>\n",
       "      <th>Last Name</th>\n",
       "      <th>First Name</th>\n",
       "      <th>Job Title</th>\n",
       "      <th>Hourly Rate</th>\n",
       "    </tr>\n",
       "  </thead>\n",
       "  <tbody>\n",
       "    <tr>\n",
       "      <th>0</th>\n",
       "      <td>Seattle Public Utilities</td>\n",
       "      <td>Batchelor</td>\n",
       "      <td>Craig</td>\n",
       "      <td>Civil Engrng Spec,Sr</td>\n",
       "      <td>53.740</td>\n",
       "    </tr>\n",
       "    <tr>\n",
       "      <th>1</th>\n",
       "      <td>Finance &amp; Admin Services</td>\n",
       "      <td>Altice</td>\n",
       "      <td>Jeffrey</td>\n",
       "      <td>Auto Mechanic</td>\n",
       "      <td>39.780</td>\n",
       "    </tr>\n",
       "    <tr>\n",
       "      <th>2</th>\n",
       "      <td>Finance &amp; Admin Services</td>\n",
       "      <td>Montes</td>\n",
       "      <td>Valeria</td>\n",
       "      <td>Cust Svc Rep</td>\n",
       "      <td>29.450</td>\n",
       "    </tr>\n",
       "    <tr>\n",
       "      <th>3</th>\n",
       "      <td>Fire Department</td>\n",
       "      <td>Kuklok</td>\n",
       "      <td>Rebecca</td>\n",
       "      <td>Cust Svc Rep *</td>\n",
       "      <td>29.450</td>\n",
       "    </tr>\n",
       "    <tr>\n",
       "      <th>4</th>\n",
       "      <td>Planning &amp; Comm Development</td>\n",
       "      <td>Quirindongo</td>\n",
       "      <td>Rico</td>\n",
       "      <td>Executive3</td>\n",
       "      <td>97.164</td>\n",
       "    </tr>\n",
       "  </tbody>\n",
       "</table>\n",
       "</div>"
      ],
      "text/plain": [
       "                    Department    Last Name First Name             Job Title  \\\n",
       "0     Seattle Public Utilities    Batchelor      Craig  Civil Engrng Spec,Sr   \n",
       "1     Finance & Admin Services       Altice    Jeffrey         Auto Mechanic   \n",
       "2     Finance & Admin Services       Montes    Valeria          Cust Svc Rep   \n",
       "3              Fire Department       Kuklok    Rebecca        Cust Svc Rep *   \n",
       "4  Planning & Comm Development  Quirindongo       Rico            Executive3   \n",
       "\n",
       "   Hourly Rate   \n",
       "0        53.740  \n",
       "1        39.780  \n",
       "2        29.450  \n",
       "3        29.450  \n",
       "4        97.164  "
      ]
     },
     "execution_count": 28,
     "metadata": {},
     "output_type": "execute_result"
    }
   ],
   "source": [
    "# Check it\n",
    "df.head()"
   ]
  },
  {
   "cell_type": "code",
   "execution_count": 29,
   "metadata": {},
   "outputs": [],
   "source": [
    "# Rename the columns\n",
    "df = df.rename(columns = lambda x: x.replace(\" \", \"\"))"
   ]
  },
  {
   "cell_type": "code",
   "execution_count": 30,
   "metadata": {},
   "outputs": [
    {
     "data": {
      "text/html": [
       "<div>\n",
       "<style scoped>\n",
       "    .dataframe tbody tr th:only-of-type {\n",
       "        vertical-align: middle;\n",
       "    }\n",
       "\n",
       "    .dataframe tbody tr th {\n",
       "        vertical-align: top;\n",
       "    }\n",
       "\n",
       "    .dataframe thead th {\n",
       "        text-align: right;\n",
       "    }\n",
       "</style>\n",
       "<table border=\"1\" class=\"dataframe\">\n",
       "  <thead>\n",
       "    <tr style=\"text-align: right;\">\n",
       "      <th></th>\n",
       "      <th>HourlyRate</th>\n",
       "    </tr>\n",
       "  </thead>\n",
       "  <tbody>\n",
       "    <tr>\n",
       "      <th>count</th>\n",
       "      <td>11739.000000</td>\n",
       "    </tr>\n",
       "    <tr>\n",
       "      <th>mean</th>\n",
       "      <td>47.817331</td>\n",
       "    </tr>\n",
       "    <tr>\n",
       "      <th>std</th>\n",
       "      <td>16.722128</td>\n",
       "    </tr>\n",
       "    <tr>\n",
       "      <th>min</th>\n",
       "      <td>5.530000</td>\n",
       "    </tr>\n",
       "    <tr>\n",
       "      <th>25%</th>\n",
       "      <td>35.400000</td>\n",
       "    </tr>\n",
       "    <tr>\n",
       "      <th>50%</th>\n",
       "      <td>47.340000</td>\n",
       "    </tr>\n",
       "    <tr>\n",
       "      <th>75%</th>\n",
       "      <td>59.550000</td>\n",
       "    </tr>\n",
       "    <tr>\n",
       "      <th>max</th>\n",
       "      <td>187.767000</td>\n",
       "    </tr>\n",
       "  </tbody>\n",
       "</table>\n",
       "</div>"
      ],
      "text/plain": [
       "         HourlyRate\n",
       "count  11739.000000\n",
       "mean      47.817331\n",
       "std       16.722128\n",
       "min        5.530000\n",
       "25%       35.400000\n",
       "50%       47.340000\n",
       "75%       59.550000\n",
       "max      187.767000"
      ]
     },
     "execution_count": 30,
     "metadata": {},
     "output_type": "execute_result"
    }
   ],
   "source": [
    "# Describe the numeric column\n",
    "df.describe()"
   ]
  },
  {
   "cell_type": "code",
   "execution_count": 32,
   "metadata": {},
   "outputs": [
    {
     "data": {
      "image/png": "[encoded data removed]",
      "text/plain": [
       "<Figure size 640x480 with 1 Axes>"
      ]
     },
     "metadata": {},
     "output_type": "display_data"
    }
   ],
   "source": [
    "# Plot the hourly rate column\n",
    "sns.kdeplot(df['HourlyRate']);\n",
    "sns.histplot(df['HourlyRate']);"
   ]
  },
  {
   "cell_type": "markdown",
   "metadata": {},
   "source": [
    "How can we describe this distribution?\n",
    "\n",
    "- Tri-modal?\n",
    "- Lots of outliers\n",
    "- Not perfectly normal, but not terrible"
   ]
  },
  {
   "cell_type": "markdown",
   "metadata": {},
   "source": [
    "### Using Z-Scores"
   ]
  },
  {
   "cell_type": "code",
   "execution_count": 33,
   "metadata": {
    "scrolled": true
   },
   "outputs": [
    {
     "data": {
      "text/html": [
       "<div>\n",
       "<style scoped>\n",
       "    .dataframe tbody tr th:only-of-type {\n",
       "        vertical-align: middle;\n",
       "    }\n",
       "\n",
       "    .dataframe tbody tr th {\n",
       "        vertical-align: top;\n",
       "    }\n",
       "\n",
       "    .dataframe thead th {\n",
       "        text-align: right;\n",
       "    }\n",
       "</style>\n",
       "<table border=\"1\" class=\"dataframe\">\n",
       "  <thead>\n",
       "    <tr style=\"text-align: right;\">\n",
       "      <th></th>\n",
       "      <th>Department</th>\n",
       "      <th>LastName</th>\n",
       "      <th>FirstName</th>\n",
       "      <th>JobTitle</th>\n",
       "      <th>HourlyRate</th>\n",
       "    </tr>\n",
       "  </thead>\n",
       "  <tbody>\n",
       "    <tr>\n",
       "      <th>9259</th>\n",
       "      <td>Office for Civil Rights</td>\n",
       "      <td>Idowu</td>\n",
       "      <td>Marta</td>\n",
       "      <td>Plng&amp;Dev Spec II</td>\n",
       "      <td>48.48</td>\n",
       "    </tr>\n",
       "  </tbody>\n",
       "</table>\n",
       "</div>"
      ],
      "text/plain": [
       "                   Department LastName FirstName          JobTitle  HourlyRate\n",
       "9259  Office for Civil Rights    Idowu     Marta  Plng&Dev Spec II       48.48"
      ]
     },
     "execution_count": 33,
     "metadata": {},
     "output_type": "execute_result"
    }
   ],
   "source": [
    "# Grab a sample row\n",
    "sample_row = df.sample(1)\n",
    "sample_row"
   ]
  },
  {
   "cell_type": "code",
   "execution_count": 34,
   "metadata": {},
   "outputs": [
    {
     "data": {
      "text/plain": [
       "0.039628261185198944"
      ]
     },
     "execution_count": 34,
     "metadata": {},
     "output_type": "execute_result"
    }
   ],
   "source": [
    "# Calculate the z-score for that row's HourlyRate\n",
    "(sample_row['HourlyRate'].values[0] - df['HourlyRate'].mean()) / df['HourlyRate'].std()"
   ]
  },
  {
   "cell_type": "code",
   "execution_count": 39,
   "metadata": {
    "scrolled": true
   },
   "outputs": [
    {
     "data": {
      "text/plain": [
       "0        0.354182\n",
       "1       -0.480640\n",
       "2       -1.098385\n",
       "3       -1.098385\n",
       "4        2.950980\n",
       "           ...   \n",
       "11734   -0.380773\n",
       "11735   -0.859779\n",
       "11736   -0.859779\n",
       "11737   -1.022438\n",
       "11738   -1.098385\n",
       "Name: HourlyRate, Length: 11739, dtype: float64"
      ]
     },
     "execution_count": 39,
     "metadata": {},
     "output_type": "execute_result"
    }
   ],
   "source": [
    "# Standardize the column\n",
    "mu = df['HourlyRate'].mean()\n",
    "sigma = df['HourlyRate'].std()\n",
    "standart= df['HourlyRate'].apply(lambda x: (x-mu)/sigma)\n",
    "#standardized_rate = [(x-mu)/sigma for x in df['HourlyRate']]"
   ]
  },
  {
   "cell_type": "code",
   "execution_count": null,
   "metadata": {},
   "outputs": [],
   "source": []
  },
  {
   "cell_type": "markdown",
   "metadata": {},
   "source": [
    "Let's discuss:\n",
    "\n",
    "- \n"
   ]
  },
  {
   "cell_type": "code",
   "execution_count": 36,
   "metadata": {},
   "outputs": [
    {
     "data": {
      "image/png": "[encoded data removed]",
      "text/plain": [
       "<Figure size 640x480 with 2 Axes>"
      ]
     },
     "metadata": {},
     "output_type": "display_data"
    }
   ],
   "source": [
    "# Visualize it\n",
    "fig, (ax1, ax2) = plt.subplots(nrows=2, ncols=1, sharex=False)\n",
    "# Can toggle sharex to see the impact of the scale\n",
    "\n",
    "sns.kdeplot(df['HourlyRate'], ax=ax1, label='Without Scaling')\n",
    "ax1.legend()\n",
    "\n",
    "sns.kdeplot(standardized_rate, ax=ax2, label='With Scaling')\n",
    "ax2.legend()\n",
    "\n",
    "plt.show()"
   ]
  },
  {
   "cell_type": "markdown",
   "metadata": {},
   "source": [
    "## Central Limit Theorem (CLT)\n",
    "\n",
    "We mentioned that the distribution above doesn't seem very normal. But here's something cool:\n",
    "\n",
    "> \"The central limit theorem states that the sampling distribution of the mean of any independent, random variable will be normal or nearly normal, if the sample size is large enough.\" \n",
    "- From [Stat Trek](https://stattrek.com/statistics/dictionary.aspx?definition=central_limit_theorem)"
   ]
  },
  {
   "cell_type": "markdown",
   "metadata": {},
   "source": [
    "Let's look at an example, using the popular Iris dataset:\n",
    "\n",
    "<img src=\"images/probability-basics.gif\" width=800>\n",
    "\n",
    "Here, taking samples of 15 flowers at a time and measuring their sepal lengths, we see that the the mean of the samples is normally distributed, where the mean of that normal distribution approximates the population mean. \n",
    "\n",
    "The coolest part is - this is true and works almost no matter what the original distribution is! (I say 'almost' because there are exceptions, of course). Even when we have _distinctly non-normal distributions_, we can use sampling to get a representation of population parameters (like the population mean)."
   ]
  },
  {
   "cell_type": "markdown",
   "metadata": {},
   "source": [
    "## Revisiting Sampling\n",
    "\n",
    "Before we apply a theorem that's related to sampling, we should remember some key things about sampling.\n",
    "\n",
    "<img src=\"images/sample_pop.png\" alt=\"sampling example with circled people\" width=800>\n",
    "\n",
    "Our goal when sampling is to find a representative group, from which we can infer population parameters.\n",
    "\n",
    "Remember: samples have statistics, populations have parameters.\n",
    "\n",
    "In order to do this effectively, our sample should be randomly selected and representative of our population (which sounds nice and easy, it's hard to do in practice). We are trying to minimize bias in our sample, but also we are sampling because we're trying to minimize cost as well."
   ]
  },
  {
   "cell_type": "markdown",
   "metadata": {},
   "source": [
    "### Back to our Seattle Data"
   ]
  },
  {
   "cell_type": "markdown",
   "metadata": {},
   "source": [
    "Let's take 100 samples of 50 employees each time, and see what their average hourly rate is:"
   ]
  },
  {
   "cell_type": "code",
   "execution_count": null,
   "metadata": {},
   "outputs": [],
   "source": [
    "k = 30 # number of samples\n",
    "n = 10 # number of employees per sample\n",
    "\n",
    "# The full for loop version:\n",
    "# sample_means = []\n",
    "# for x in range(n):\n",
    "#     sample_emps = df.sample(n=n)\n",
    "#     sample_mean = sample_emps['Hourly Rate '].mean()\n",
    "#     sample_means.append(sample_mean)\n",
    "    \n",
    "# But let's do this with list comprehension:\n",
    "sample_means = [np.mean(df.sample(n=n))[0] for x in range(k)]"
   ]
  },
  {
   "cell_type": "code",
   "execution_count": null,
   "metadata": {
    "scrolled": false
   },
   "outputs": [],
   "source": [
    "# Plotting the distribution of our samples, plus our pop and sample means\n",
    "pop_mean = df['HourlyRate'].mean()\n",
    "samp_mean = np.mean(sample_means)\n",
    "\n",
    "plt.figure(figsize=(8,6))\n",
    "\n",
    "sns.histplot(sample_means)\n",
    "\n",
    "plt.vlines(pop_mean, ymin=0, ymax=25, color='r', linestyle=':',\n",
    "           label=f'Population Mean: {pop_mean:.2f}')\n",
    "plt.vlines(samp_mean, ymin=0, ymax=25, color='g', linestyle=':',\n",
    "           label=f'Mean of {k} Samples: {samp_mean:.2f}')\n",
    "\n",
    "plt.legend();"
   ]
  },
  {
   "cell_type": "markdown",
   "metadata": {},
   "source": [
    "Discuss:\n",
    "\n",
    "- \n"
   ]
  },
  {
   "cell_type": "markdown",
   "metadata": {
    "heading_collapsed": true
   },
   "source": [
    "-----\n",
    "\n",
    "\n",
    "# Level Up: Other Distributions"
   ]
  },
  {
   "cell_type": "markdown",
   "metadata": {
    "hidden": true
   },
   "source": [
    "The world is full of distributions to explore! See some other less-common ones below:"
   ]
  },
  {
   "cell_type": "markdown",
   "metadata": {
    "hidden": true
   },
   "source": [
    "![](images/distributions.png)"
   ]
  },
  {
   "cell_type": "markdown",
   "metadata": {
    "hidden": true
   },
   "source": [
    "Now that we know a few methods in visualizing distributions 📊👀, we can start looking at different types of distributions.\n",
    "\n",
    "We can tell a lot about a distribution shape such as taking a guess of the mechanism that it took to generate the data."
   ]
  },
  {
   "cell_type": "markdown",
   "metadata": {
    "heading_collapsed": true,
    "hidden": true
   },
   "source": [
    "## Distribution Types Exercise"
   ]
  },
  {
   "cell_type": "markdown",
   "metadata": {
    "hidden": true
   },
   "source": [
    "What type of distribution would you expect to best describe the following datasets?\n",
    "\n",
    "1. Survey responses about whether people voted\n",
    "2. Rolls on a six-sided die\n",
    "3. Numbers of defects in shipments of toys\n",
    "4. Output from a random number generator\n",
    "5. Measurements of palm tree heights"
   ]
  },
  {
   "cell_type": "markdown",
   "metadata": {
    "hidden": true
   },
   "source": [
    "**Your answers**\n",
    "\n",
    "1. \n",
    "2. \n",
    "3. \n",
    "4. \n",
    "5. "
   ]
  },
  {
   "cell_type": "markdown",
   "metadata": {},
   "source": [
    "## Level Up: SKLearn's Standard Scaler\n",
    "\n",
    "Soon we'll be using a pre-built function to scale our data: https://scikit-learn.org/stable/modules/generated/sklearn.preprocessing.StandardScaler.html\n",
    "\n",
    "Let's go ahead and peek at our first `sklearn` class!"
   ]
  },
  {
   "cell_type": "code",
   "execution_count": null,
   "metadata": {},
   "outputs": [],
   "source": [
    "# Importing StandardScaler from the preprocessing module\n",
    "from sklearn.preprocessing import StandardScaler\n",
    "\n",
    "# Need to instantiate our scaler\n",
    "scaler = StandardScaler()\n",
    "\n",
    "# Fitting our scaler (note how we need to make the column into a dataframe)\n",
    "scaler.fit(df[['HourlyRate']])\n",
    "\n",
    "# Grabbing the transformed values out as scaled_rate\n",
    "scaled_rate = scaler.transform(df[['HourlyRate']])"
   ]
  },
  {
   "cell_type": "code",
   "execution_count": null,
   "metadata": {
    "scrolled": false
   },
   "outputs": [],
   "source": [
    "# Plot and compare results\n",
    "fig, (ax1, ax2, ax3) = plt.subplots(nrows=3, ncols=1, figsize=(10,6))\n",
    "\n",
    "sns.kdeplot(df['HourlyRate'], ax=ax1, label='Without Scaling')\n",
    "ax1.legend()\n",
    "\n",
    "sns.kdeplot(standardized_rate, ax=ax2, label='Manual Scaling')\n",
    "ax2.legend()\n",
    "\n",
    "sns.kdeplot(scaled_rate[:,0], ax=ax3, label='SKLearn Standard Scaling')\n",
    "ax3.legend()\n",
    "\n",
    "plt.show()"
   ]
  }
 ],
 "metadata": {
  "kernelspec": {
   "display_name": "Python 3 (ipykernel)",
   "language": "python",
   "name": "python3"
  },
  "language_info": {
   "codemirror_mode": {
    "name": "ipython",
    "version": 3
   },
   "file_extension": ".py",
   "mimetype": "text/x-python",
   "name": "python",
   "nbconvert_exporter": "python",
   "pygments_lexer": "ipython3",
   "version": "3.9.13"
  },
  "toc": {
   "base_numbering": 1,
   "nav_menu": {},
   "number_sections": true,
   "sideBar": true,
   "skip_h1_title": false,
   "title_cell": "Table of Contents",
   "title_sidebar": "TOC",
   "toc_cell": true,
   "toc_position": {
    "height": "calc(100% - 180px)",
    "left": "10px",
    "top": "150px",
    "width": "380.25px"
   },
   "toc_section_display": true,
   "toc_window_display": true
  }
 },
 "nbformat": 4,
 "nbformat_minor": 4
}
